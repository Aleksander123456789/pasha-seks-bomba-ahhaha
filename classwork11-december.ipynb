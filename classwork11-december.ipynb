{
 "cells": [
  {
   "cell_type": "code",
   "execution_count": null,
   "metadata": {},
   "outputs": [],
   "source": [
    "#10\n",
    "number = int(input('Введите номер района(1 – Ленинский, 2 – Дзержинский, 3 – Свердловский, 4 – Кировский, 5 – Индустриальный):'))\n",
    "match number:\n",
    "    case 1:\n",
    "        print('Средняя стоимость квадратного метра жилья в Ленинском районе: 70000 рублей')\n",
    "    case 2:\n",
    "        print('Средняя стоимость квадратного метра жилья в Дзержинском районе: 65000 рублей')\n",
    "    case 3:\n",
    "        print('Средняя стоимость квадратного метра жилья в Свердловском районе: 60000 рублей')\n",
    "    case 4:\n",
    "        print('Средняя стоимость квадратного метра жилья в Кировский районе: 55000 рублей')\n",
    "    case 5:\n",
    "        print('Средняя стоимость квадратного метра жилья в Индустриальный районе: 50000 рублей')"
   ]
  },
  {
   "cell_type": "code",
   "execution_count": 12,
   "metadata": {},
   "outputs": [
    {
     "name": "stdout",
     "output_type": "stream",
     "text": [
      "16\n"
     ]
    }
   ],
   "source": [
    "#14\n",
    "k = int(input(\"Введите k-значное число (k<=4): \"))\n",
    "number = str(k)\n",
    "siu = len(number)\n",
    "\n",
    "match siu:\n",
    "    case 1:\n",
    "        print(number)\n",
    "    case 2:\n",
    "        total = int(number[0])*int(number[1])\n",
    "        print(total)\n",
    "    case 3:\n",
    "        total = int(number[0])*int(number[1])*int(number[2])\n",
    "        print(total)\n",
    "    case 4:\n",
    "        total = int(number[0])*int(number[1])*int(number[2])*int(number[3])\n",
    "        print(total)\n"
   ]
  },
  {
   "cell_type": "code",
   "execution_count": 21,
   "metadata": {},
   "outputs": [
    {
     "name": "stdout",
     "output_type": "stream",
     "text": [
      "746\n"
     ]
    }
   ],
   "source": [
    "#ряды 10\n",
    "import math\n",
    "n = int(input('Введите число n:'))\n",
    "p = 0\n",
    "for i in range(2,2*n+1,2):\n",
    "    p += math.factorial(i)\n",
    "print(p)\n"
   ]
  },
  {
   "cell_type": "code",
   "execution_count": null,
   "metadata": {},
   "outputs": [],
   "source": []
  }
 ],
 "metadata": {
  "kernelspec": {
   "display_name": "Python 3",
   "language": "python",
   "name": "python3"
  },
  "language_info": {
   "codemirror_mode": {
    "name": "ipython",
    "version": 3
   },
   "file_extension": ".py",
   "mimetype": "text/x-python",
   "name": "python",
   "nbconvert_exporter": "python",
   "pygments_lexer": "ipython3",
   "version": "3.10.7"
  }
 },
 "nbformat": 4,
 "nbformat_minor": 2
}
