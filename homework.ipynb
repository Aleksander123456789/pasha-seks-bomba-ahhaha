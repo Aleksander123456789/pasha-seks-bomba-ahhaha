{
 "cells": [
  {
   "cell_type": "code",
   "execution_count": 3,
   "metadata": {},
   "outputs": [],
   "source": [
    "string = input()\n",
    "max = int(input())\n",
    "min = int(input())\n",
    "if len(string)<min:\n",
    "    print('слишком коротко')\n",
    "if len(string)>max:\n",
    "    print('слишком длинно')\n",
    "if len(string)>min and len(string)<max:\n",
    "    pass"
   ]
  },
  {
   "cell_type": "code",
   "execution_count": 1,
   "metadata": {},
   "outputs": [
    {
     "name": "stdout",
     "output_type": "stream",
     "text": [
      "НЕТ\n"
     ]
    }
   ],
   "source": [
    "l1 = int(input())\n",
    "r1 = int(input())\n",
    "l2 = int(input())\n",
    "r2 = int(input())\n",
    "\n",
    "if (l1 <= l2 <= r1) or (l2 <= l1 <= r2):\n",
    "    print(\"ДА\")\n",
    "else:\n",
    "    print(\"НЕТ\")"
   ]
  },
  {
   "cell_type": "code",
   "execution_count": 4,
   "metadata": {},
   "outputs": [
    {
     "name": "stdout",
     "output_type": "stream",
     "text": [
      "сходить в пекарню\n"
     ]
    }
   ],
   "source": [
    "time = float(input())\n",
    "if 7.00 < time < 13.00 or 15.00 < time < 19.00:\n",
    "    print('сходить в пекарню')\n",
    "elif 8.00 < time < 14.00 or 16.00 < time < 20.00:\n",
    "    print('дойти до супермаркета')\n",
    "elif 8.00 < time < 24.00:\n",
    "    print('съездить в гипермаркет')\n",
    "else:\n",
    "    print('сидеть дома')\n",
    "\n"
   ]
  },
  {
   "cell_type": "code",
   "execution_count": null,
   "metadata": {},
   "outputs": [],
   "source": [
    "n = int(input())\n",
    "a = n // 100\n",
    "b = n //10 % 10\n",
    "c = n %10\n",
    "w = len(str(n))\n",
    "count0 = str(n).count('0')#считаем количество нулей\n",
    "if w != 3:\n",
    "    print('Ошибка')\n",
    "else:\n",
    "    if a != b and a!=c and b!=c:\n",
    "        if count0 == 0:\n",
    "            print('шесть чисел')\n",
    "        if count0 == 1:\n",
    "            print('четыре числа')\n",
    "    elif (a==b and a!=c) or (b==c and c!=a) or (a==c and c!=b):\n",
    "        if count0 == 0:\n",
    "            print('Три числа')\n",
    "        if count0 == 1:\n",
    "            print('два числа')\n",
    "        if count0 == 2:\n",
    "            print('одно число')\n",
    "    else:\n",
    "        print('одно число')\n"
   ]
  },
  {
   "cell_type": "code",
   "execution_count": 5,
   "metadata": {},
   "outputs": [
    {
     "name": "stdout",
     "output_type": "stream",
     "text": [
      "н\n",
      "е\n",
      "г\n",
      "о\n",
      "р\n",
      "п\n",
      "а\n",
      "ш\n",
      "а\n"
     ]
    }
   ],
   "source": [
    "title = input()\n",
    "for s in title:\n",
    "    print(s)"
   ]
  },
  {
   "cell_type": "code",
   "execution_count": 14,
   "metadata": {},
   "outputs": [
    {
     "name": "stdout",
     "output_type": "stream",
     "text": [
      "буква найдена\n"
     ]
    }
   ],
   "source": [
    "s = \"I Love Python!\"\n",
    "symbol = input()\n",
    "found = False\n",
    "for letter in s:\n",
    "    if letter == symbol:\n",
    "        found = True\n",
    "        break\n",
    "if found:\n",
    "    print('буква найдена')\n",
    "else:\n",
    "    print('буква не найдена')"
   ]
  },
  {
   "cell_type": "code",
   "execution_count": 16,
   "metadata": {},
   "outputs": [
    {
     "name": "stdout",
     "output_type": "stream",
     "text": [
      "13 * 1 = 13\n",
      "13 * 2 = 26\n",
      "13 * 3 = 39\n",
      "13 * 5 = 65\n",
      "13 * 7 = 91\n",
      "13 * 11 = 143\n",
      "13 * 13 = 169\n",
      "13 * 17 = 221\n"
     ]
    }
   ],
   "source": [
    "mylist = [1, 2, 3, 5, 7, 11, 13, 17]\n",
    "n = int(input())\n",
    "for i in mylist:\n",
    "    print(n, '*', i ,'=', n*i)"
   ]
  },
  {
   "cell_type": "code",
   "execution_count": 18,
   "metadata": {},
   "outputs": [
    {
     "name": "stdout",
     "output_type": "stream",
     "text": [
      "4\n"
     ]
    }
   ],
   "source": [
    "mylist = [-1, 2, 3, -4, 5, 6, -7, -8, 9, 0]\n",
    "count = 0\n",
    "for i in mylist:\n",
    "    if i < 0:\n",
    "        count += 1\n",
    "    else:\n",
    "        pass \n",
    "print(count)\n"
   ]
  },
  {
   "cell_type": "code",
   "execution_count": 20,
   "metadata": {},
   "outputs": [
    {
     "name": "stdout",
     "output_type": "stream",
     "text": [
      "4\n"
     ]
    }
   ],
   "source": [
    "mylist = [-1, 2, 3, -4, 5, 6, -7, -8, 9, 0]\n",
    "count = 0\n",
    "for i in mylist:\n",
    "    if i %3==0:\n",
    "        count +=1 \n",
    "print(count)"
   ]
  },
  {
   "cell_type": "code",
   "execution_count": 22,
   "metadata": {},
   "outputs": [
    {
     "name": "stdout",
     "output_type": "stream",
     "text": [
      "1\n"
     ]
    }
   ],
   "source": [
    "s = \"I Love Python! Python is cool!!!\"\n",
    "a = input()\n",
    "count = 0\n",
    "for sym in s:\n",
    "    if sym == a:\n",
    "        count += 1\n",
    "print(count) "
   ]
  },
  {
   "cell_type": "code",
   "execution_count": 24,
   "metadata": {},
   "outputs": [
    {
     "name": "stdout",
     "output_type": "stream",
     "text": [
      "55\n"
     ]
    }
   ],
   "source": [
    "n = int(input())\n",
    "count = 0\n",
    "for i in range(1,n+1):\n",
    "    count += i\n",
    "print(count)"
   ]
  },
  {
   "cell_type": "code",
   "execution_count": 13,
   "metadata": {},
   "outputs": [
    {
     "name": "stdout",
     "output_type": "stream",
     "text": [
      "буква найдена\n"
     ]
    }
   ],
   "source": [
    "s = \"I Love Python!\"\n",
    "char = input()\n",
    "\n",
    "found = False\n",
    "for letter in s:\n",
    "    if letter == char:\n",
    "        found = True\n",
    "        break\n",
    "\n",
    "if found:\n",
    "    print(\"буква найдена\")\n",
    "else:\n",
    "    print(\"буква не найдена\")"
   ]
  },
  {
   "cell_type": "code",
   "execution_count": null,
   "metadata": {},
   "outputs": [],
   "source": [
    "temp = int(input())\n",
    "if temp <23:\n",
    "    print('нагревать')\n",
    "elif temp>25:\n",
    "    print('сигнал')\n",
    "else:\n",
    "    print('ничего не делать')"
   ]
  },
  {
   "cell_type": "code",
   "execution_count": null,
   "metadata": {},
   "outputs": [],
   "source": [
    "a = int(input())\n",
    "b = int(input())\n",
    "c = int(input())\n",
    "color = input()\n",
    "if color == 'жёлтый':\n",
    "    if (a+b)%3==0 or (a+c)%3==0 or (b+c)%3==0:\n",
    "        print('ДА')\n",
    "    else:\n",
    "        print('НЕТ')\n",
    "else:\n",
    "    print('НЕТ')\n"
   ]
  },
  {
   "cell_type": "code",
   "execution_count": null,
   "metadata": {},
   "outputs": [
    {
     "name": "stdout",
     "output_type": "stream",
     "text": [
      "негр\n",
      "негр\n",
      "негр\n"
     ]
    }
   ],
   "source": [
    "name = input()\n",
    "total = 0\n",
    "while total <3:\n",
    "    total += 1\n",
    "    print(name)\n"
   ]
  },
  {
   "cell_type": "code",
   "execution_count": null,
   "metadata": {},
   "outputs": [
    {
     "name": "stdout",
     "output_type": "stream",
     "text": [
      "0\n",
      "7\n",
      "14\n",
      "21\n",
      "28\n",
      "35\n"
     ]
    }
   ],
   "source": [
    "number = int(input())\n",
    "for i in range(number):\n",
    "    if i %7==0:\n",
    "        print(i)"
   ]
  },
  {
   "cell_type": "code",
   "execution_count": null,
   "metadata": {},
   "outputs": [
    {
     "name": "stdout",
     "output_type": "stream",
     "text": [
      "120\n"
     ]
    }
   ],
   "source": [
    "number = int(input())\n",
    "total = 1\n",
    "for i in range(1,number+1):\n",
    "    total *= i\n",
    "\n",
    "print(total)"
   ]
  },
  {
   "cell_type": "code",
   "execution_count": null,
   "metadata": {},
   "outputs": [
    {
     "ename": "SyntaxError",
     "evalue": "'return' outside function (3118044046.py, line 3)",
     "output_type": "error",
     "traceback": [
      "\u001b[1;36m  Cell \u001b[1;32mIn[9], line 3\u001b[1;36m\u001b[0m\n\u001b[1;33m    return\u001b[0m\n\u001b[1;37m    ^\u001b[0m\n\u001b[1;31mSyntaxError\u001b[0m\u001b[1;31m:\u001b[0m 'return' outside function\n"
     ]
    }
   ],
   "source": [
    "string = input()\n",
    "if string =='':\n",
    "    return\n"
   ]
  },
  {
   "cell_type": "code",
   "execution_count": null,
   "metadata": {},
   "outputs": [
    {
     "name": "stdout",
     "output_type": "stream",
     "text": [
      "False\n"
     ]
    }
   ],
   "source": [
    "number = int(input())\n",
    "if number<=0 or number>9:\n",
    "    print('False')\n",
    "else:\n",
    "    print('False')"
   ]
  },
  {
   "cell_type": "code",
   "execution_count": null,
   "metadata": {},
   "outputs": [
    {
     "name": "stdout",
     "output_type": "stream",
     "text": [
      "не цифра\n"
     ]
    }
   ],
   "source": [
    "n = input()\n",
    "result = 'не цифра'\n",
    "if n.isdigit() and len(n):\n",
    "    result = 'цифра'\n",
    "print(result)"
   ]
  },
  {
   "cell_type": "code",
   "execution_count": null,
   "metadata": {},
   "outputs": [],
   "source": [
    "a = int(input())\n",
    "b = int(input())\n",
    "if a>b:\n",
    "    print('Бобик')\n",
    "elif a<b:\n",
    "    print('Тузик')\n",
    "else:\n",
    "    print('оба щенка весят',a,'килограмм')"
   ]
  },
  {
   "cell_type": "code",
   "execution_count": null,
   "metadata": {},
   "outputs": [],
   "source": [
    "mylist = [-1,2,3-4,5,6-7,-8,9,0]\n",
    "count = 0\n",
    "for i in mylist:\n",
    "    if i <0:\n",
    "        count +=1\n",
    "print(count)"
   ]
  },
  {
   "cell_type": "code",
   "execution_count": null,
   "metadata": {},
   "outputs": [
    {
     "name": "stdout",
     "output_type": "stream",
     "text": [
      "A\n",
      "D\n",
      "G\n",
      "J\n",
      "M\n",
      "P\n"
     ]
    }
   ],
   "source": [
    "string = \"ABCDEFGHIJKLMNOP\"\n",
    "h = 3\n",
    "i = 0\n",
    "\n",
    "while i < len(string):\n",
    "    print(string[i])\n",
    "    i += h"
   ]
  },
  {
   "cell_type": "code",
   "execution_count": null,
   "metadata": {},
   "outputs": [
    {
     "ename": "TypeError",
     "evalue": "'str' object is not callable",
     "output_type": "error",
     "traceback": [
      "\u001b[1;31m---------------------------------------------------------------------------\u001b[0m",
      "\u001b[1;31mTypeError\u001b[0m                                 Traceback (most recent call last)",
      "\u001b[1;32md:\\Games\\PythonLessons\\homework.ipynb Cell 13\u001b[0m line \u001b[0;36m6\n\u001b[0;32m      <a href='vscode-notebook-cell:/d%3A/Games/PythonLessons/homework.ipynb#X16sZmlsZQ%3D%3D?line=2'>3</a>\u001b[0m i \u001b[39m=\u001b[39m \u001b[39m0\u001b[39m\n\u001b[0;32m      <a href='vscode-notebook-cell:/d%3A/Games/PythonLessons/homework.ipynb#X16sZmlsZQ%3D%3D?line=4'>5</a>\u001b[0m \u001b[39mwhile\u001b[39;00m i \u001b[39m<\u001b[39m \u001b[39mlen\u001b[39m(string):\n\u001b[1;32m----> <a href='vscode-notebook-cell:/d%3A/Games/PythonLessons/homework.ipynb#X16sZmlsZQ%3D%3D?line=5'>6</a>\u001b[0m     \u001b[39mprint\u001b[39m(string(i))\n\u001b[0;32m      <a href='vscode-notebook-cell:/d%3A/Games/PythonLessons/homework.ipynb#X16sZmlsZQ%3D%3D?line=6'>7</a>\u001b[0m     i \u001b[39m+\u001b[39m\u001b[39m=\u001b[39m h\n",
      "\u001b[1;31mTypeError\u001b[0m: 'str' object is not callable"
     ]
    }
   ],
   "source": [
    "string = \"ABCDEFGHIJKLMNOP\"\n",
    "h = 3\n",
    "i = 0\n",
    "\n",
    "while i < len(string):\n",
    "    print(string[i])#обращение по индексу\n",
    "    i += h"
   ]
  },
  {
   "cell_type": "code",
   "execution_count": null,
   "metadata": {},
   "outputs": [],
   "source": []
  },
  {
   "cell_type": "code",
   "execution_count": null,
   "metadata": {},
   "outputs": [
    {
     "ename": "ValueError",
     "evalue": "invalid literal for int() with base 10: '-10 2 15 20'",
     "output_type": "error",
     "traceback": [
      "\u001b[1;31m---------------------------------------------------------------------------\u001b[0m",
      "\u001b[1;31mValueError\u001b[0m                                Traceback (most recent call last)",
      "\u001b[1;32md:\\Games\\PythonLessons\\homework.ipynb Cell 14\u001b[0m line \u001b[0;36m1\n\u001b[1;32m----> <a href='vscode-notebook-cell:/d%3A/Games/PythonLessons/homework.ipynb#X16sZmlsZQ%3D%3D?line=0'>1</a>\u001b[0m n \u001b[39m=\u001b[39m \u001b[39mint\u001b[39;49m(\u001b[39minput\u001b[39;49m())\n\u001b[0;32m      <a href='vscode-notebook-cell:/d%3A/Games/PythonLessons/homework.ipynb#X16sZmlsZQ%3D%3D?line=1'>2</a>\u001b[0m i \u001b[39m=\u001b[39m \u001b[39m1\u001b[39m\n\u001b[0;32m      <a href='vscode-notebook-cell:/d%3A/Games/PythonLessons/homework.ipynb#X16sZmlsZQ%3D%3D?line=2'>3</a>\u001b[0m \u001b[39mwhile\u001b[39;00m \u001b[39mTrue\u001b[39;00m:\n",
      "\u001b[1;31mValueError\u001b[0m: invalid literal for int() with base 10: '-10 2 15 20'"
     ]
    }
   ],
   "source": [
    "n = int(input())\n",
    "i = 1\n",
    "while True:\n",
    "    if 3**i<n:\n",
    "        i+=1\n",
    "    else:\n",
    "        print(3**i==n)\n",
    "        break"
   ]
  },
  {
   "cell_type": "code",
   "execution_count": null,
   "metadata": {},
   "outputs": [],
   "source": [
    "n = int(input(\"Введите делимое число n: \"))\n",
    "k = int(input(\"Введите делитель k: \"))\n",
    "\n",
    "quotient = 0\n",
    "while n >= k:\n",
    "    n -= k\n",
    "    quotient += 1\n",
    "\n",
    "remainder = n\n",
    "\n",
    "print(\"Частное от деления:\", quotient)\n",
    "print(\"Остаток от деления:\", remainder)"
   ]
  },
  {
   "cell_type": "code",
   "execution_count": null,
   "metadata": {},
   "outputs": [],
   "source": [
    "s = input()\n",
    "if s == 'Информатика' or s =='Программирование':\n",
    "    pass\n",
    "else:\n",
    "    print(s)"
   ]
  }
 ],
 "metadata": {
  "kernelspec": {
   "display_name": "Python 3",
   "language": "python",
   "name": "python3"
  },
  "language_info": {
   "codemirror_mode": {
    "name": "ipython",
    "version": 3
   },
   "file_extension": ".py",
   "mimetype": "text/x-python",
   "name": "python",
   "nbconvert_exporter": "python",
   "pygments_lexer": "ipython3",
   "version": "3.10.7"
  }
 },
 "nbformat": 4,
 "nbformat_minor": 2
}
