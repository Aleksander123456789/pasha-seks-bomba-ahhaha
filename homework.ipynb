{
 "cells": [
  {
   "cell_type": "code",
   "execution_count": 18,
   "metadata": {},
   "outputs": [
    {
     "name": "stdout",
     "output_type": "stream",
     "text": [
      "6\n"
     ]
    }
   ],
   "source": [
    "for a in range(1,1001):\n",
    "    fl = True\n",
    "    for x in range(1,1001):\n",
    "        for y in range(1,1001):\n",
    "            if not((x < a) or (y < a) or (y > x - 5) or (y < 2 * x - 15)):\n",
    "                fl = False\n",
    "                break\n",
    "        if fl == False:\n",
    "            break\n",
    "    if fl:\n",
    "        print(a)\n",
    "        break\n",
    "    "
   ]
  },
  {
   "cell_type": "code",
   "execution_count": 16,
   "metadata": {},
   "outputs": [
    {
     "name": "stdout",
     "output_type": "stream",
     "text": [
      "169\n"
     ]
    }
   ],
   "source": [
    "def function(x, y):\n",
    "    if x > y:\n",
    "        return 0\n",
    "    elif x == y:\n",
    "        return 1 \n",
    "    else:\n",
    "        return function(x + 1, y) + function(x + 3, y)\n",
    "    \n",
    "print(function(1, 9) * function(9, 17))"
   ]
  },
  {
   "cell_type": "code",
   "execution_count": 24,
   "metadata": {},
   "outputs": [
    {
     "name": "stdout",
     "output_type": "stream",
     "text": [
      "9227465\n"
     ]
    }
   ],
   "source": [
    "def fibbonachi(a):\n",
    "    if a in (0, 1):\n",
    "        return a\n",
    "    if a > 1:\n",
    "        return fibbonachi(a - 1) + fibbonachi(a - 2)\n",
    "print(fibbonachi(35))"
   ]
  },
  {
   "cell_type": "code",
   "execution_count": null,
   "metadata": {},
   "outputs": [
    {
     "ename": "",
     "evalue": "",
     "output_type": "error",
     "traceback": [
      "\u001b[1;31mThe Kernel crashed while executing code in the the current cell or a previous cell. Please review the code in the cell(s) to identify a possible cause of the failure. Click <a href='https://aka.ms/vscodeJupyterKernelCrash'>here</a> for more info. View Jupyter <a href='command:jupyter.viewOutput'>log</a> for further details."
     ]
    }
   ],
   "source": [
    "#Задача на рекурсию\n",
    "def f(n):\n",
    "    if n < 11:\n",
    "        return n\n",
    "    if n >= n:\n",
    "        return n + f(n - 1)\n",
    "print(f(2024) - f(2021))"
   ]
  },
  {
   "cell_type": "code",
   "execution_count": 18,
   "metadata": {},
   "outputs": [
    {
     "name": "stdout",
     "output_type": "stream",
     "text": [
      "156\n",
      "1111111111111111111111111111111111111111111111111111111111111111\n"
     ]
    }
   ],
   "source": [
    "for n in range(10000, 3, -1):\n",
    "    stroka = \"5\" + \"2\" * n\n",
    "    while \"52\" in stroka or \"2222\" in stroka or '1122' in stroka:\n",
    "        if \"52\" in stroka:\n",
    "            stroka = stroka.replace('52', '11', 1)\n",
    "        if \"2222\" in stroka:\n",
    "            stroka = stroka.replace('2222', '5', 1)\n",
    "        if \"1122\" in stroka:\n",
    "            stroka = stroka.replace('1122', '25', 1)\n",
    "    if sum(map(int, stroka)) == 64:\n",
    "        print(n)\n",
    "        print(stroka)\n",
    "        break\n"
   ]
  },
  {
   "cell_type": "code",
   "execution_count": 6,
   "metadata": {},
   "outputs": [
    {
     "data": {
      "text/plain": [
       "'222222222'"
      ]
     },
     "execution_count": 6,
     "metadata": {},
     "output_type": "execute_result"
    }
   ],
   "source": [
    "stroka = '111111111'\n",
    "stroka = stroka.replace('1', '2')\n",
    "stroka\n"
   ]
  }
 ],
 "metadata": {
  "kernelspec": {
   "display_name": "Python 3",
   "language": "python",
   "name": "python3"
  },
  "language_info": {
   "codemirror_mode": {
    "name": "ipython",
    "version": 3
   },
   "file_extension": ".py",
   "mimetype": "text/x-python",
   "name": "python",
   "nbconvert_exporter": "python",
   "pygments_lexer": "ipython3",
   "version": "3.10.7"
  }
 },
 "nbformat": 4,
 "nbformat_minor": 2
}
