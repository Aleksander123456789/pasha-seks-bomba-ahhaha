{
 "cells": [
  {
   "cell_type": "code",
   "execution_count": null,
   "metadata": {},
   "outputs": [
    {
     "name": "stdout",
     "output_type": "stream",
     "text": [
      "5\n"
     ]
    }
   ],
   "source": [
    "#1.  Строка: содержит только заглавные буквы латинского алфавита (ABC…Z). Определите максимальное количество идущих подряд символов, среди которых ровно по одному разу встречаются буквы A и B. \n",
    "\n",
    "\n",
    "s = \"ABCCAB\"  # Example string\n",
    "\n",
    "max_count = 0\n",
    "for i in range(len(s)):\n",
    "    for j in range(i + 1, len(s) + 1):\n",
    "        substring = s[i:j]\n",
    "        a_count = substring.count('A')\n",
    "        b_count = substring.count('B')\n",
    "        if a_count == 1 and b_count == 1:\n",
    "            max_count = max(max_count, len(substring))\n",
    "\n",
    "print('Максимальное количество: ', max_count) "
   ]
  },
  {
   "cell_type": "code",
   "execution_count": 7,
   "metadata": {},
   "outputs": [
    {
     "name": "stdout",
     "output_type": "stream",
     "text": [
      "Максимальная длина: 5\n"
     ]
    }
   ],
   "source": [
    "#2.  Строка: состоит не более чем из 106 символов X, Y и Z. Определите максимальное количество идущих подряд символов  , среди которых каждые два соседних различны.\n",
    "\n",
    "\n",
    "s = \"XYXYZZ\"  # Example string\n",
    "\n",
    "max_length = 0\n",
    "current_length = 0\n",
    "if s: #handle empty string\n",
    "    for i in range(len(s)):\n",
    "        if i == 0 or s[i] != s[i-1]:\n",
    "            current_length += 1\n",
    "        else:\n",
    "            max_length = max(max_length, current_length)\n",
    "            current_length = 1\n",
    "    max_length = max(max_length, current_length) #check the last sequence\n",
    "    print(f\"Максимальная длина: {max_length}\")\n",
    "else:\n",
    "    print(f\"Максимальная длина: 0\")\n"
   ]
  },
  {
   "cell_type": "code",
   "execution_count": 8,
   "metadata": {},
   "outputs": [
    {
     "name": "stdout",
     "output_type": "stream",
     "text": [
      "Максимальное количество групп: 1\n"
     ]
    }
   ],
   "source": [
    "#3.  Строка: содержит только буквы A, C, D, F, O. Определите максимальное количество идущих подряд групп символов вида:  гласная + гласная + согласная.\n",
    "s = \"ACADFOAOACDF\" \n",
    "\n",
    "vowels = \"AO\"\n",
    "consonants = \"CDF\"\n",
    "\n",
    "max_groups = 0\n",
    "current_groups = 0\n",
    "i = 0\n",
    "\n",
    "while i < len(s) - 2:\n",
    "    if s[i] in vowels and s[i+1] in vowels and s[i+2] in consonants:\n",
    "        current_groups += 1\n",
    "        i += 3\n",
    "    else:\n",
    "        max_groups = max(max_groups, current_groups)\n",
    "        current_groups = 0\n",
    "        i += 1\n",
    "\n",
    "max_groups = max(max_groups, current_groups) \n",
    "\n",
    "print(f\"Максимальное количество групп: {max_groups}\")\n"
   ]
  },
  {
   "cell_type": "code",
   "execution_count": 10,
   "metadata": {},
   "outputs": [
    {
     "name": "stdout",
     "output_type": "stream",
     "text": [
      "Максимальное количество символов:  6\n"
     ]
    }
   ],
   "source": [
    "#4.  Строка: содержит только заглавные буквы латинского алфавита (ABC…Z). Определите максимальное количество идущих подряд символов, среди которых не более одной буквы A. \n",
    "s = \"BCABCBABABCCCA\"\n",
    "\n",
    "\n",
    "max_length = 0\n",
    "current_length = 0\n",
    "a_count = 0\n",
    "\n",
    "for char in s:\n",
    "    if char == 'A':\n",
    "        a_count += 1\n",
    "    if a_count <= 1:\n",
    "        current_length += 1\n",
    "    else:\n",
    "        max_length = max(max_length, current_length)\n",
    "        current_length = 1 \n",
    "        a_count = 1 \n",
    "\n",
    "max_length = max(max_length, current_length) \n",
    "\n",
    "print(f\"Максимальное количество символов:  {max_length}\")"
   ]
  },
  {
   "cell_type": "code",
   "execution_count": 9,
   "metadata": {},
   "outputs": [
    {
     "name": "stdout",
     "output_type": "stream",
     "text": [
      "Максимальное количество символов: 15\n"
     ]
    }
   ],
   "source": [
    "#5.  Строка: состоит из заглавных букв латинского алфавита А, В, C, D, Е и F. Определите максимальное количество идущих подряд символов в строке, среди которых пара символов CD (в указанном порядке) встречается не более  4  раз.\n",
    "s = \"ABCCDCDEFCDBCDBCDCDCD\" # Example string; modify to test\n",
    "\n",
    "\n",
    "max_length = 0\n",
    "current_length = 0\n",
    "cd_count = 0\n",
    "\n",
    "for i in range(len(s)):\n",
    "    if i + 1 < len(s) and s[i:i+2] == \"CD\":\n",
    "        cd_count += 1\n",
    "\n",
    "    if cd_count <= 4:\n",
    "        current_length += 1\n",
    "    else:\n",
    "        max_length = max(max_length, current_length)\n",
    "        current_length = 1  \n",
    "        cd_count = (1 if i + 1 < len(s) and s[i:i+2] == \"CD\" else 0) \n",
    "\n",
    "\n",
    "max_length = max(max_length, current_length) #\n",
    "\n",
    "\n",
    "print(f\"Максимальное количество символов: {max_length}\") "
   ]
  },
  {
   "cell_type": "code",
   "execution_count": 12,
   "metadata": {},
   "outputs": [
    {
     "name": "stdout",
     "output_type": "stream",
     "text": [
      "Максимальная количество: 6\n"
     ]
    }
   ],
   "source": [
    "#6.  Строка: состоит не более чем из 106 символов арабских цифр (0, 1, ..., 9). Определите максимальное количество идущих подряд цифр, среди которых сумма двух идущих подряд цифр больше числа следующего за ними\n",
    "s = \"123142536178\" \n",
    "\n",
    "\n",
    "max_length = 0\n",
    "current_length = 0\n",
    "\n",
    "for i in range(len(s) - 2):\n",
    "    a = int(s[i])\n",
    "    b = int(s[i+1])\n",
    "    c = int(s[i+2])\n",
    "    if a + b > c:\n",
    "        current_length += 1\n",
    "    else:\n",
    "        max_length = max(max_length, current_length)\n",
    "        current_length = 1 \n",
    "\n",
    "max_length = max(max_length, current_length+1) \n",
    "\n",
    "print(f\"Максимальная количество: {max_length}\")\n"
   ]
  },
  {
   "cell_type": "code",
   "execution_count": 11,
   "metadata": {},
   "outputs": [
    {
     "name": "stdout",
     "output_type": "stream",
     "text": [
      "Максимальное количество: 840\n"
     ]
    }
   ],
   "source": [
    "#7.  Строка: состоит из заглавных букв латинского алфавита А, В, C, D, Е и F. Определите максимальное количество идущих подряд символов в прилагаемом файле, среди которых пара символов DE (в указанном порядке) встречается не более 240 раз. \n",
    "file_contents = \"ABCDEFGDEHIJKLMNOPQRSTUVWXYZDEABCDEFFFFFFFFFDE\" * 10 + \"DE\" * 235 + \"ABC\"\n",
    "\n",
    "\n",
    "max_length = 0\n",
    "current_length = 0\n",
    "de_count = 0\n",
    "\n",
    "for i in range(len(file_contents)):\n",
    "    if i + 1 < len(file_contents) and file_contents[i:i+2] == \"DE\":\n",
    "        de_count += 1\n",
    "\n",
    "    if de_count <= 240:\n",
    "        current_length += 1\n",
    "    else:\n",
    "        max_length = max(max_length, current_length)\n",
    "        current_length = 1  \n",
    "        de_count = (1 if i + 1 < len(file_contents) and file_contents[i:i+2] == \"DE\" else 0) \n",
    "\n",
    "\n",
    "max_length = max(max_length, current_length)  \n",
    "\n",
    "print(f\"Максимальное количество: {max_length}\")"
   ]
  },
  {
   "cell_type": "code",
   "execution_count": null,
   "metadata": {},
   "outputs": [
    {
     "name": "stdout",
     "output_type": "stream",
     "text": [
      "Максимальное количество: 5\n"
     ]
    }
   ],
   "source": [
    "# 8.  Строка: содержит только заглавные буквы латинского алфавита (ABC...Z). Определите максимальное количество идущих подряд символов, среди которых нет ни одной буквы E и при этом не менее трёх букв A. \n",
    "s = \"AABBBCCCAAAADFFFFAAAAABBBB\"\n",
    "\n",
    "max_length = 0\n",
    "current_length = 0\n",
    "a_count = 0\n",
    "e_present = False\n",
    "\n",
    "for char in s:\n",
    "    if char == 'A':\n",
    "        a_count += 1\n",
    "    elif char == 'E':\n",
    "        e_present = True\n",
    "    else:\n",
    "        if a_count >= 3 and not e_present:\n",
    "            current_length += a_count\n",
    "        max_length = max(max_length, current_length)\n",
    "        current_length = 0  # Сброс текущей длины\n",
    "        a_count = 0  # Сброс счетчика A\n",
    "        e_present = False  # Сброс флага E\n",
    "\n",
    "# Проверка в конце\n",
    "if a_count >= 3 and not e_present:\n",
    "    current_length += a_count\n",
    "\n",
    "max_length = max(max_length, current_length)\n",
    "\n",
    "print(\"Максимальное количество:\", max_length)\n"
   ]
  },
  {
   "cell_type": "code",
   "execution_count": 19,
   "metadata": {},
   "outputs": [
    {
     "name": "stdout",
     "output_type": "stream",
     "text": [
      "Максимальное количество: 18\n"
     ]
    }
   ],
   "source": [
    "#9.  Строка: состоит не более, чем из 1 200 000 символов английского алфавита. Определите максимальное количество идущих подряд символов, среди которых символы Q, R, S в различных комбинациях (с учётом повторений) не стоят рядом. \n",
    "s = \"ABCDEFGHIJKLMNOPQRSTUVWXYZQRSQRSQRS\" * 10000 + \"ABCXYZ\" \n",
    "\n",
    "max_length = 0\n",
    "current_length = 0\n",
    "forbidden_chars = \"QRS\"\n",
    "\n",
    "for i in range(len(s)):\n",
    "    valid = True\n",
    "    if i > 0:\n",
    "      for j in range(len(forbidden_chars)):\n",
    "        if s[i-1] == forbidden_chars[j] and s[i] in forbidden_chars:\n",
    "          valid = False\n",
    "          break\n",
    "    if valid:\n",
    "        current_length +=1\n",
    "    else:\n",
    "        max_length = max(max_length, current_length)\n",
    "        current_length =1\n",
    "\n",
    "max_length = max(max_length, current_length)\n",
    "\n",
    "print(f\"Максимальное количество: {max_length}\")\n"
   ]
  },
  {
   "cell_type": "code",
   "execution_count": null,
   "metadata": {},
   "outputs": [
    {
     "name": "stdout",
     "output_type": "stream",
     "text": [
      "The character most often following 'E' is: E\n"
     ]
    }
   ],
   "source": [
    "#10.  Строка: содержит только заглавные буквы латинского алфавита (ABC…Z). Определите символ, который чаще всего встречается в файле сразу после буквы E.\n",
    "file_contents = \"EAEBEEECEDEFEEEEEGEHEIEJEKELEMEMENEOPEQERE\"\n",
    "\n",
    "\n",
    "following_e = {}\n",
    "for i in range(len(file_contents) - 1):\n",
    "    if file_contents[i] == 'E':\n",
    "        next_char = file_contents[i+1]\n",
    "        following_e[next_char] = following_e.get(next_char, 0) + 1\n",
    "\n",
    "if following_e:\n",
    "    most_common_char = max(following_e, key=following_e.get)\n",
    "    print(f\"Символ который встречается чаще Е: {most_common_char}\")\n",
    "else:\n",
    "    print(\"Нет такого символа.\")\n",
    "    "
   ]
  },
  {
   "cell_type": "code",
   "execution_count": null,
   "metadata": {},
   "outputs": [],
   "source": []
  },
  {
   "cell_type": "code",
   "execution_count": null,
   "metadata": {},
   "outputs": [],
   "source": []
  },
  {
   "cell_type": "code",
   "execution_count": null,
   "metadata": {},
   "outputs": [],
   "source": []
  },
  {
   "cell_type": "code",
   "execution_count": null,
   "metadata": {},
   "outputs": [],
   "source": []
  },
  {
   "cell_type": "code",
   "execution_count": null,
   "metadata": {},
   "outputs": [],
   "source": []
  }
 ],
 "metadata": {
  "kernelspec": {
   "display_name": "Python 3",
   "language": "python",
   "name": "python3"
  },
  "language_info": {
   "codemirror_mode": {
    "name": "ipython",
    "version": 3
   },
   "file_extension": ".py",
   "mimetype": "text/x-python",
   "name": "python",
   "nbconvert_exporter": "python",
   "pygments_lexer": "ipython3",
   "version": "3.10.7"
  }
 },
 "nbformat": 4,
 "nbformat_minor": 2
}
