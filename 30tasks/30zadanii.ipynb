{
 "cells": [
  {
   "cell_type": "code",
   "execution_count": 43,
   "metadata": {},
   "outputs": [
    {
     "name": "stdout",
     "output_type": "stream",
     "text": [
      "Максимальное количество:  4\n"
     ]
    }
   ],
   "source": [
    "#1.  Строка: содержит только заглавные буквы латинского алфавита (ABC…Z). Определите максимальное количество идущих подряд символов, среди которых ровно по одному разу встречаются буквы A и B. \n",
    "\n",
    "\n",
    "s = \"ABCCAB\"  # Example string\n",
    "\n",
    "max_count = 0\n",
    "for i in range(len(s)):\n",
    "    for j in range(i + 1, len(s) + 1):\n",
    "        substring = s[i:j]\n",
    "        a_count = substring.count('A')\n",
    "        b_count = substring.count('B')\n",
    "        if a_count == 1 and b_count == 1:\n",
    "            max_count = max(max_count, len(substring))\n",
    "\n",
    "print('Максимальное количество: ', max_count) "
   ]
  },
  {
   "cell_type": "code",
   "execution_count": 7,
   "metadata": {},
   "outputs": [
    {
     "name": "stdout",
     "output_type": "stream",
     "text": [
      "Максимальная длина: 5\n"
     ]
    }
   ],
   "source": [
    "#2.  Строка: состоит не более чем из 106 символов X, Y и Z. Определите максимальное количество идущих подряд символов  , среди которых каждые два соседних различны.\n",
    "\n",
    "\n",
    "s = \"XYXYZZ\"  # Example string\n",
    "\n",
    "max_length = 0\n",
    "current_length = 0\n",
    "if s: #handle empty string\n",
    "    for i in range(len(s)):\n",
    "        if i == 0 or s[i] != s[i-1]:\n",
    "            current_length += 1\n",
    "        else:\n",
    "            max_length = max(max_length, current_length)\n",
    "            current_length = 1\n",
    "    max_length = max(max_length, current_length) #check the last sequence\n",
    "    print(f\"Максимальная длина: {max_length}\")\n",
    "else:\n",
    "    print(f\"Максимальная длина: 0\")\n"
   ]
  },
  {
   "cell_type": "code",
   "execution_count": 8,
   "metadata": {},
   "outputs": [
    {
     "name": "stdout",
     "output_type": "stream",
     "text": [
      "Максимальное количество групп: 1\n"
     ]
    }
   ],
   "source": [
    "#3.  Строка: содержит только буквы A, C, D, F, O. Определите максимальное количество идущих подряд групп символов вида:  гласная + гласная + согласная.\n",
    "s = \"ACADFOAOACDF\" \n",
    "\n",
    "vowels = \"AO\"\n",
    "consonants = \"CDF\"\n",
    "\n",
    "max_groups = 0\n",
    "current_groups = 0\n",
    "i = 0\n",
    "\n",
    "while i < len(s) - 2:\n",
    "    if s[i] in vowels and s[i+1] in vowels and s[i+2] in consonants:\n",
    "        current_groups += 1\n",
    "        i += 3\n",
    "    else:\n",
    "        max_groups = max(max_groups, current_groups)\n",
    "        current_groups = 0\n",
    "        i += 1\n",
    "\n",
    "max_groups = max(max_groups, current_groups) \n",
    "\n",
    "print(f\"Максимальное количество групп: {max_groups}\")\n"
   ]
  },
  {
   "cell_type": "code",
   "execution_count": 10,
   "metadata": {},
   "outputs": [
    {
     "name": "stdout",
     "output_type": "stream",
     "text": [
      "Максимальное количество символов:  6\n"
     ]
    }
   ],
   "source": [
    "#4.  Строка: содержит только заглавные буквы латинского алфавита (ABC…Z). Определите максимальное количество идущих подряд символов, среди которых не более одной буквы A. \n",
    "s = \"BCABCBABABCCCA\"\n",
    "\n",
    "\n",
    "max_length = 0\n",
    "current_length = 0\n",
    "a_count = 0\n",
    "\n",
    "for char in s:\n",
    "    if char == 'A':\n",
    "        a_count += 1\n",
    "    if a_count <= 1:\n",
    "        current_length += 1\n",
    "    else:\n",
    "        max_length = max(max_length, current_length)\n",
    "        current_length = 1 \n",
    "        a_count = 1 \n",
    "\n",
    "max_length = max(max_length, current_length) \n",
    "\n",
    "print(f\"Максимальное количество символов:  {max_length}\")"
   ]
  },
  {
   "cell_type": "code",
   "execution_count": 9,
   "metadata": {},
   "outputs": [
    {
     "name": "stdout",
     "output_type": "stream",
     "text": [
      "Максимальное количество символов: 15\n"
     ]
    }
   ],
   "source": [
    "#5.  Строка: состоит из заглавных букв латинского алфавита А, В, C, D, Е и F. Определите максимальное количество идущих подряд символов в строке, среди которых пара символов CD (в указанном порядке) встречается не более  4  раз.\n",
    "s = \"ABCCDCDEFCDBCDBCDCDCD\" # Example string; modify to test\n",
    "\n",
    "\n",
    "max_length = 0\n",
    "current_length = 0\n",
    "cd_count = 0\n",
    "\n",
    "for i in range(len(s)):\n",
    "    if i + 1 < len(s) and s[i:i+2] == \"CD\":\n",
    "        cd_count += 1\n",
    "\n",
    "    if cd_count <= 4:\n",
    "        current_length += 1\n",
    "    else:\n",
    "        max_length = max(max_length, current_length)\n",
    "        current_length = 1  \n",
    "        cd_count = (1 if i + 1 < len(s) and s[i:i+2] == \"CD\" else 0) \n",
    "\n",
    "\n",
    "max_length = max(max_length, current_length) #\n",
    "\n",
    "\n",
    "print(f\"Максимальное количество символов: {max_length}\") "
   ]
  },
  {
   "cell_type": "code",
   "execution_count": 12,
   "metadata": {},
   "outputs": [
    {
     "name": "stdout",
     "output_type": "stream",
     "text": [
      "Максимальная количество: 6\n"
     ]
    }
   ],
   "source": [
    "#6.  Строка: состоит не более чем из 106 символов арабских цифр (0, 1, ..., 9). Определите максимальное количество идущих подряд цифр, среди которых сумма двух идущих подряд цифр больше числа следующего за ними\n",
    "s = \"123142536178\" \n",
    "\n",
    "\n",
    "max_length = 0\n",
    "current_length = 0\n",
    "\n",
    "for i in range(len(s) - 2):\n",
    "    a = int(s[i])\n",
    "    b = int(s[i+1])\n",
    "    c = int(s[i+2])\n",
    "    if a + b > c:\n",
    "        current_length += 1\n",
    "    else:\n",
    "        max_length = max(max_length, current_length)\n",
    "        current_length = 1 \n",
    "\n",
    "max_length = max(max_length, current_length+1) \n",
    "\n",
    "print(f\"Максимальная количество: {max_length}\")\n"
   ]
  },
  {
   "cell_type": "code",
   "execution_count": 11,
   "metadata": {},
   "outputs": [
    {
     "name": "stdout",
     "output_type": "stream",
     "text": [
      "Максимальное количество: 840\n"
     ]
    }
   ],
   "source": [
    "#7.  Строка: состоит из заглавных букв латинского алфавита А, В, C, D, Е и F. Определите максимальное количество идущих подряд символов в прилагаемом файле, среди которых пара символов DE (в указанном порядке) встречается не более 240 раз. \n",
    "file_contents = \"ABCDEFGDEHIJKLMNOPQRSTUVWXYZDEABCDEFFFFFFFFFDE\" * 10 + \"DE\" * 235 + \"ABC\"\n",
    "\n",
    "\n",
    "max_length = 0\n",
    "current_length = 0\n",
    "de_count = 0\n",
    "\n",
    "for i in range(len(file_contents)):\n",
    "    if i + 1 < len(file_contents) and file_contents[i:i+2] == \"DE\":\n",
    "        de_count += 1\n",
    "\n",
    "    if de_count <= 240:\n",
    "        current_length += 1\n",
    "    else:\n",
    "        max_length = max(max_length, current_length)\n",
    "        current_length = 1  \n",
    "        de_count = (1 if i + 1 < len(file_contents) and file_contents[i:i+2] == \"DE\" else 0) \n",
    "\n",
    "\n",
    "max_length = max(max_length, current_length)  \n",
    "\n",
    "print(f\"Максимальное количество: {max_length}\")"
   ]
  },
  {
   "cell_type": "code",
   "execution_count": null,
   "metadata": {},
   "outputs": [
    {
     "name": "stdout",
     "output_type": "stream",
     "text": [
      "Максимальное количество: 5\n"
     ]
    }
   ],
   "source": [
    "# 8.  Строка: содержит только заглавные буквы латинского алфавита (ABC...Z). Определите максимальное количество идущих подряд символов, среди которых нет ни одной буквы E и при этом не менее трёх букв A. \n",
    "s = \"AABBBCCCAAAADFFFFAAAAABBBB\"\n",
    "\n",
    "max_length = 0\n",
    "current_length = 0\n",
    "a_count = 0\n",
    "e_present = False\n",
    "\n",
    "for char in s:\n",
    "    if char == 'A':\n",
    "        a_count += 1\n",
    "    elif char == 'E':\n",
    "        e_present = True\n",
    "    else:\n",
    "        if a_count >= 3 and not e_present:\n",
    "            current_length += a_count\n",
    "        max_length = max(max_length, current_length)\n",
    "        current_length = 0  # Сброс текущей длины\n",
    "        a_count = 0  # Сброс счетчика A\n",
    "        e_present = False  # Сброс флага E\n",
    "\n",
    "# Проверка в конце\n",
    "if a_count >= 3 and not e_present:\n",
    "    current_length += a_count\n",
    "\n",
    "max_length = max(max_length, current_length)\n",
    "\n",
    "print(\"Максимальное количество:\", max_length)\n"
   ]
  },
  {
   "cell_type": "code",
   "execution_count": 19,
   "metadata": {},
   "outputs": [
    {
     "name": "stdout",
     "output_type": "stream",
     "text": [
      "Максимальное количество: 18\n"
     ]
    }
   ],
   "source": [
    "#9.  Строка: состоит не более, чем из 1 200 000 символов английского алфавита. Определите максимальное количество идущих подряд символов, среди которых символы Q, R, S в различных комбинациях (с учётом повторений) не стоят рядом. \n",
    "s = \"ABCDEFGHIJKLMNOPQRSTUVWXYZQRSQRSQRS\" * 10000 + \"ABCXYZ\" \n",
    "\n",
    "max_length = 0\n",
    "current_length = 0\n",
    "forbidden_chars = \"QRS\"\n",
    "\n",
    "for i in range(len(s)):\n",
    "    valid = True\n",
    "    if i > 0:\n",
    "      for j in range(len(forbidden_chars)):\n",
    "        if s[i-1] == forbidden_chars[j] and s[i] in forbidden_chars:\n",
    "          valid = False\n",
    "          break\n",
    "    if valid:\n",
    "        current_length +=1\n",
    "    else:\n",
    "        max_length = max(max_length, current_length)\n",
    "        current_length =1\n",
    "\n",
    "max_length = max(max_length, current_length)\n",
    "\n",
    "print(f\"Максимальное количество: {max_length}\")\n"
   ]
  },
  {
   "cell_type": "code",
   "execution_count": 42,
   "metadata": {},
   "outputs": [
    {
     "name": "stdout",
     "output_type": "stream",
     "text": [
      "Символ который встречается чаще Е: E\n"
     ]
    }
   ],
   "source": [
    "#10.  Строка: содержит только заглавные буквы латинского алфавита (ABC…Z). Определите символ, который чаще всего встречается в файле сразу после буквы E.\n",
    "file_contents = \"EAEBEEECEDEFEEEEEGEHEIEJEKELEMEMENEOPEQERE\"\n",
    "\n",
    "\n",
    "following_e = {}\n",
    "for i in range(len(file_contents) - 1):\n",
    "    if file_contents[i] == 'E':\n",
    "        next_char = file_contents[i+1]\n",
    "        following_e[next_char] = following_e.get(next_char, 0) + 1\n",
    "\n",
    "if following_e:\n",
    "    most_common_char = max(following_e, key=following_e.get)\n",
    "    print(f\"Символ который встречается чаще Е: {most_common_char}\")\n",
    "else:\n",
    "    print(\"Нет такого символа.\")\n",
    "    "
   ]
  },
  {
   "cell_type": "code",
   "execution_count": 41,
   "metadata": {},
   "outputs": [
    {
     "name": "stdout",
     "output_type": "stream",
     "text": [
      "Максимальное количество: 1\n"
     ]
    }
   ],
   "source": [
    "#11.  Строка: состоит из символов A, B и C. Определите максимальное количество идущих подряд пар символов AB или CB ,Искомая подпоследовательность должна состоять только из пар AB, или только из пар CB, или только из пар AB и CB в произвольном порядке следования этих пар.\n",
    "\n",
    "s = \"ABABABABCBABCBABCBAB\"  \n",
    "\n",
    "max_count = 0\n",
    "current_count_ab = 0\n",
    "current_count_cb = 0\n",
    "\n",
    "for i in range(0, len(s) - 1, 2):\n",
    "    pair = s[i:i+2]\n",
    "    if pair == \"AB\":\n",
    "        current_count_ab += 1\n",
    "        current_count_cb = 0  \n",
    "    elif pair == \"CB\":\n",
    "        current_count_cb += 1\n",
    "        current_count_ab = 0  \n",
    "    else:\n",
    "        max_count = max(max_count, current_count_ab, current_count_cb)\n",
    "        current_count_ab = 0\n",
    "        current_count_cb = 0\n",
    "\n",
    "max_count = max(max_count, current_count_ab, current_count_cb)  \n",
    "\n",
    "print(f\"Максимальное количество: {max_count}\")"
   ]
  },
  {
   "cell_type": "code",
   "execution_count": 40,
   "metadata": {},
   "outputs": [
    {
     "name": "stdout",
     "output_type": "stream",
     "text": [
      "Самая длинная подстрока: 52\n"
     ]
    }
   ],
   "source": [
    "#12  Строка: состоит не более чем из 106 символов латинского алфавита. Необходимо найти самую длинную подстроку, содержащую символы из алфавита 26-⁠ричной системы счисления. В ответ записать длину последовательности символов, которая может являться числом в 26-⁠ричной системе счисления. сделай без функции и просто\n",
    "\n",
    "s = \"AZBYCXWDVUEFTGSHRIJQLKMNOPabcdefghijklmnopqrstuvwxyz\" \n",
    "\n",
    "\n",
    "max_length = 0\n",
    "current_length = 0\n",
    "\n",
    "for char in s:\n",
    "    if 'A' <= char <= 'Z' or 'a' <= char <= 'z':\n",
    "        current_length +=1\n",
    "    else:\n",
    "        max_length = max(max_length, current_length)\n",
    "        current_length = 0\n",
    "\n",
    "max_length = max(max_length, current_length) \n",
    "\n",
    "print(f\"Самая длинная подстрока: {max_length}\")"
   ]
  },
  {
   "cell_type": "code",
   "execution_count": 24,
   "metadata": {},
   "outputs": [
    {
     "name": "stdout",
     "output_type": "stream",
     "text": [
      "Длина самой длинной последовательности: 9\n"
     ]
    }
   ],
   "source": [
    "#13.  Строка: состоит не более чем из 106 символов X, Y и Z. Определите длину самой длинной последовательности, состоящей из символов Z. Хотя бы один символ Z находится в последовательности. \n",
    "\n",
    "s = \"XXZZYYYYZZZZZZZZZXXYYYZZ\" \n",
    "\n",
    "\n",
    "max_length = 0\n",
    "current_length = 0\n",
    "\n",
    "for char in s:\n",
    "    if char == 'Z':\n",
    "        current_length += 1\n",
    "    else:\n",
    "        max_length = max(max_length, current_length)\n",
    "        current_length = 0\n",
    "\n",
    "max_length = max(max_length, current_length) #\n",
    "\n",
    "if max_length > 0:\n",
    "    print(f\"Длина самой длинной последовательности: {max_length}\")\n",
    "else:\n",
    "    print(\"Символа Z нет.\")"
   ]
  },
  {
   "cell_type": "code",
   "execution_count": 23,
   "metadata": {},
   "outputs": [
    {
     "name": "stdout",
     "output_type": "stream",
     "text": [
      "Максимальное количество символов: 1\n"
     ]
    }
   ],
   "source": [
    "#14.  Строка: состоит из символов A, C, D, F и O. Определите максимальное количество идущих подряд пар символов вида:  согласная  + гласная. \n",
    "\n",
    "s = \"ACADFOAOACDF\" \n",
    "\n",
    "vowels = \"AO\"\n",
    "consonants = \"CDF\"\n",
    "\n",
    "max_count = 0\n",
    "current_count = 0\n",
    "\n",
    "for i in range(0, len(s) - 1):\n",
    "    first = s[i]\n",
    "    second = s[i+1]\n",
    "    if (first in consonants and second in vowels):\n",
    "        current_count += 1\n",
    "    else:\n",
    "        max_count = max(max_count, current_count)\n",
    "        current_count = 0\n",
    "\n",
    "max_count = max(max_count, current_count) \n",
    "\n",
    "print(f\"Максимальное количество символов: {max_count}\")"
   ]
  },
  {
   "cell_type": "code",
   "execution_count": 22,
   "metadata": {},
   "outputs": [
    {
     "name": "stdout",
     "output_type": "stream",
     "text": [
      "Количество символов: 6\n"
     ]
    }
   ],
   "source": [
    "#15.  Шифровка содержит только заглавные буквы латинского алфавита (ABC…Z). Группа из трёх \n",
    "#идущих подряд символов, содержащая по одному разу каждую из букв A, B и C, считается \n",
    "#разделителем. Разделители могут накладываться друг на друга, например, последовательность \n",
    "#символов BCABC считается идущими подряд разделителями BCA, CAB и ABC. При дешифровке \n",
    "#разделители удаляются, разбивая шифровку на фрагменты. Определите количество символов в \n",
    "#самом длинном фрагменте шифровки, полученном после удаления разделителей. Пример.\n",
    "#Пусть шифровка содержит такие символы: BADCBACKLMENBCAAA.\n",
    "#Разделители в этой строке выделены жирным шрифтом. Шифровка содержит три фрагмента: BAD, \n",
    "#KLMEN и AA. Самый длинный из них содержит 5 символов, в ответе в данном примере надо записать \n",
    "#число 5.\n",
    "\n",
    "s = \"BADCBACKLMENBCAAA\"  \n",
    "\n",
    "max_fragment_length = 0\n",
    "current_fragment_length = 0\n",
    "i = 0\n",
    "\n",
    "while i < len(s):\n",
    "    if i + 2 < len(s):\n",
    "        substring = s[i:i+3]\n",
    "        if sorted(substring) == sorted(\"ABC\"):  \n",
    "            i += 3  \n",
    "            max_fragment_length = max(max_fragment_length, current_fragment_length)\n",
    "            current_fragment_length = 0 \n",
    "            continue\n",
    "\n",
    "    current_fragment_length += 1\n",
    "    i += 1\n",
    "\n",
    "\n",
    "max_fragment_length = max(max_fragment_length, current_fragment_length) \n",
    "\n",
    "print(f\"Количество символов: {max_fragment_length}\")"
   ]
  },
  {
   "cell_type": "code",
   "execution_count": 30,
   "metadata": {},
   "outputs": [
    {
     "name": "stdout",
     "output_type": "stream",
     "text": [
      "максимальное количество: 1\n"
     ]
    }
   ],
   "source": [
    "#16.  Строка: содержит только буквы A, C, D, F, O. Определите максимальное количество идущих подряд групп символов вида: согласная + согласная + гласная.\n",
    "\n",
    "s = \"ACDFOCADFOADO\" \n",
    "\n",
    "vowels = \"OA\"\n",
    "consonants = \"ACDF\"\n",
    "\n",
    "max_count = 0\n",
    "current_count = 0\n",
    "\n",
    "for i in range(0, len(s) - 2):\n",
    "    c1 = s[i]\n",
    "    c2 = s[i+1]\n",
    "    v = s[i+2]\n",
    "    if (c1 in consonants and c2 in consonants and v in vowels):\n",
    "        current_count += 1\n",
    "    else:\n",
    "        max_count = max(max_count, current_count)\n",
    "        current_count = 0\n",
    "\n",
    "max_count = max(max_count, current_count)  \n",
    "\n",
    "print(f\"максимальное количество: {max_count}\")"
   ]
  },
  {
   "cell_type": "code",
   "execution_count": 27,
   "metadata": {},
   "outputs": [
    {
     "name": "stdout",
     "output_type": "stream",
     "text": [
      "Длина: 7\n"
     ]
    }
   ],
   "source": [
    "#17.  Строка: состоит не более чем из 106 символов L, D и R. Определите длину самой длинной последовательности, состоящей из символов L. Хотя бы один символ L находится в последовательности.\n",
    "\n",
    "s = \"DLLLLDDRLLLRDDDLLLLLLL\"  \n",
    "\n",
    "max_length = 0\n",
    "current_length = 0\n",
    "\n",
    "for char in s:\n",
    "    if char == 'L':\n",
    "        current_length += 1\n",
    "    else:\n",
    "        max_length = max(max_length, current_length)\n",
    "        current_length = 0\n",
    "\n",
    "max_length = max(max_length, current_length)  \n",
    "\n",
    "if max_length > 0:\n",
    "    print(f\"Длина: {max_length}\")\n",
    "else:\n",
    "    print(\"Сивола L нет.\")\n"
   ]
  },
  {
   "cell_type": "code",
   "execution_count": 26,
   "metadata": {},
   "outputs": [
    {
     "name": "stdout",
     "output_type": "stream",
     "text": [
      "Максимальное количество: 5\n"
     ]
    }
   ],
   "source": [
    "#18.  Строка: состоит из символов, обозначающих прописные буквы латинского алфавита. Определите максимальное количество идущих подряд символов, среди которых никакие две буквы из набора букв A, B и C (с учетом повторений) не записаны подряд.\n",
    "\n",
    "s = \"DABCEAFBCXABCDE\" \n",
    "\n",
    "forbidden_pairs = [\"AA\", \"AB\", \"AC\", \"BA\", \"BB\", \"BC\", \"CA\", \"CB\", \"CC\"]\n",
    "max_length = 0\n",
    "current_length = 0\n",
    "\n",
    "for i in range(len(s)):\n",
    "    valid = True\n",
    "    if i > 0:\n",
    "        pair = s[i-1:i+1]\n",
    "        if pair in forbidden_pairs:\n",
    "            valid = False\n",
    "\n",
    "    if valid:\n",
    "        current_length += 1\n",
    "    else:\n",
    "        max_length = max(max_length, current_length)\n",
    "        current_length = 1\n",
    "\n",
    "max_length = max(max_length, current_length) \n",
    "\n",
    "print(f\"Максимальное количество: {max_length}\")"
   ]
  },
  {
   "cell_type": "code",
   "execution_count": 25,
   "metadata": {},
   "outputs": [
    {
     "name": "stdout",
     "output_type": "stream",
     "text": [
      "Максимальное количество С: 5\n"
     ]
    }
   ],
   "source": [
    "#19.  Строка: состоит не более чем из 106 символов A, B и C. Определите максимальное количество идущих подряд символов C. \n",
    "\n",
    "s = \"AABCCCCCABCBCCCA\" \n",
    "\n",
    "max_count = 0\n",
    "current_count = 0\n",
    "\n",
    "for char in s:\n",
    "    if char == 'C':\n",
    "        current_count += 1\n",
    "    else:\n",
    "        max_count = max(max_count, current_count)\n",
    "        current_count = 0\n",
    "\n",
    "max_count = max(max_count, current_count) \n",
    "\n",
    "print(f\"Максимальное количество С: {max_count}\")"
   ]
  },
  {
   "cell_type": "code",
   "execution_count": 33,
   "metadata": {},
   "outputs": [
    {
     "name": "stdout",
     "output_type": "stream",
     "text": [
      "Максимальная длина: 5\n"
     ]
    }
   ],
   "source": [
    "#20.  Строка: состоит не более чем из 106 символов L, D и R. Определите максимальное количество идущих подряд символов, среди которых каждые два соседних различны.\n",
    "\n",
    "s = \"LRLLDRLRRRDLR\"  \n",
    "\n",
    "max_length = 0\n",
    "current_length = 0\n",
    "last_char = ''\n",
    "\n",
    "for char in s:\n",
    "    if char != last_char:\n",
    "        current_length += 1\n",
    "        last_char = char\n",
    "    else:\n",
    "        max_length = max(max_length, current_length)\n",
    "        current_length = 1  \n",
    "        last_char = char\n",
    "\n",
    "max_length = max(max_length, current_length)  \n",
    "\n",
    "print(f\"Максимальная длина: {max_length}\")"
   ]
  },
  {
   "cell_type": "code",
   "execution_count": 32,
   "metadata": {},
   "outputs": [
    {
     "name": "stdout",
     "output_type": "stream",
     "text": [
      "Длина исксов: 7\n"
     ]
    }
   ],
   "source": [
    "#21.  Строка: состоит не более чем из 106 символов X, Y и Z. Определите длину самой длинной последовательности, состоящей из символов X. Хотя бы один символ X находится в последовательности.\n",
    "\n",
    "s = \"YYXXYYYXXZZZZXXXXXXXYY\"  \n",
    "\n",
    "max_length = 0\n",
    "current_length = 0\n",
    "\n",
    "for char in s:\n",
    "    if char == 'X':\n",
    "        current_length += 1\n",
    "    else:\n",
    "        max_length = max(max_length, current_length)\n",
    "        current_length = 0\n",
    "\n",
    "max_length = max(max_length, current_length)  \n",
    "\n",
    "if max_length > 0:\n",
    "    print(f\"Длина исксов: {max_length}\")\n",
    "else:\n",
    "    print(\"Нет Х.\")"
   ]
  },
  {
   "cell_type": "code",
   "execution_count": 34,
   "metadata": {},
   "outputs": [
    {
     "name": "stdout",
     "output_type": "stream",
     "text": [
      "Максимальная цепочка: 6\n"
     ]
    }
   ],
   "source": [
    "#22.  Строка: состоит не более чем из 106 символов L, D и R. Определите максимальную длину \n",
    "#цепочки вида LDRLDRLDR... (составленной из фрагментов LDR, последний фрагмент может быть \n",
    "#неполным). \n",
    "\n",
    "s = \"LDRLDRLDLRRDLDRL\" \n",
    "\n",
    "pattern = \"LDR\"\n",
    "max_length = 0\n",
    "current_length = 0\n",
    "i = 0\n",
    "\n",
    "while i < len(s):\n",
    "    if s[i:i+3] == pattern:\n",
    "        current_length += 3\n",
    "        i += 3\n",
    "    else:\n",
    "        max_length = max(max_length, current_length)\n",
    "        current_length = 0  \n",
    "        i += 1 \n",
    "\n",
    "max_length = max(max_length, current_length) \n",
    "\n",
    "print(f\"Максимальная цепочка: {max_length}\")"
   ]
  },
  {
   "cell_type": "code",
   "execution_count": 39,
   "metadata": {},
   "outputs": [
    {
     "name": "stdout",
     "output_type": "stream",
     "text": [
      "Больше всего встречался: B\n"
     ]
    }
   ],
   "source": [
    "#23.  Строка: содержит только заглавные буквы латинского алфавита (ABC…Z). Определите символ, который чаще всего встречается между двумя одинаковыми символами.\n",
    "s = \"AAXBBBYCCCZAAADDD\" # Example string; modify as needed\n",
    "\n",
    "counts = {}\n",
    "for i in range(len(s) - 2):\n",
    "    if s[i] == s[i+2]:\n",
    "        char_between = s[i+1]\n",
    "        counts[char_between] = counts.get(char_between, 0) + 1\n",
    "\n",
    "if counts:\n",
    "    most_common = max(counts, key=counts.get)\n",
    "    print(f\"Больше всего встречался: {most_common}\")\n",
    "else:\n",
    "    print(\"Символа не нашлось\")"
   ]
  },
  {
   "cell_type": "code",
   "execution_count": 36,
   "metadata": {},
   "outputs": [
    {
     "name": "stdout",
     "output_type": "stream",
     "text": [
      "Минимальная строка: 10\n"
     ]
    }
   ],
   "source": [
    "#29.  Строка: состоит не более чем из 106 символов латинского алфавита. Определите минимальную \n",
    "#подстроку, содержащую 10 символов Т. В ответ запишите длину минимальной подстроки, \n",
    "#содержащу 10 символов Т.\n",
    "s = \"TTTTTTTTTTaTTTTTTbTTTTTTTTTTTTTTTTTTcTTTTTTTT\" \n",
    "\n",
    "min_length = float('inf') #бесконечное значение\n",
    "\n",
    "for i in range(len(s)):\n",
    "    count = 0\n",
    "    for j in range(i, len(s)):\n",
    "        if s[j] == 'T':\n",
    "            count += 1\n",
    "            if count == 10:\n",
    "                min_length = min(min_length, j - i + 1)\n",
    "                break\n",
    "\n",
    "if min_length == float('inf'):\n",
    "    print(\"Меньше 10 T в строке.\")\n",
    "else:\n",
    "    print(f\"Минимальная строка: {min_length}\")"
   ]
  },
  {
   "cell_type": "code",
   "execution_count": 35,
   "metadata": {},
   "outputs": [
    {
     "name": "stdout",
     "output_type": "stream",
     "text": [
      "Самая длинная непрерывная последовательность: 25\n"
     ]
    }
   ],
   "source": [
    "#30.  Строка: состоит не более чем из 106 символов латинского алфавита. Определите самую \n",
    "#длинную непрерывную подпоследовательность, где символ Y встречается не более 10 раз. \n",
    "\n",
    "s = \"XYXYXYXYXYXYXYXXXXXXXXYYYYYYYYYYYYYYYYYYYYYYYYYYXYXYXY\" \n",
    "\n",
    "max_length = 0\n",
    "current_length = 0\n",
    "y_count = 0\n",
    "\n",
    "for char in s:\n",
    "    if char == 'Y':\n",
    "        y_count += 1\n",
    "    if y_count <= 10:\n",
    "        current_length += 1\n",
    "    else:\n",
    "        max_length = max(max_length, current_length)\n",
    "        current_length = 1 \n",
    "        y_count = (char == 'Y')\n",
    "\n",
    "max_length = max(max_length, current_length) \n",
    "\n",
    "print(f\"Самая длинная непрерывная последовательность: {max_length}\")\n"
   ]
  }
 ],
 "metadata": {
  "kernelspec": {
   "display_name": "Python 3",
   "language": "python",
   "name": "python3"
  },
  "language_info": {
   "codemirror_mode": {
    "name": "ipython",
    "version": 3
   },
   "file_extension": ".py",
   "mimetype": "text/x-python",
   "name": "python",
   "nbconvert_exporter": "python",
   "pygments_lexer": "ipython3",
   "version": "3.10.7"
  }
 },
 "nbformat": 4,
 "nbformat_minor": 2
}
