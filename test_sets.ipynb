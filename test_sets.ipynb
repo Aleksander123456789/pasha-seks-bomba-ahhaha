{
 "cells": [
  {
   "cell_type": "code",
   "execution_count": 2,
   "metadata": {},
   "outputs": [
    {
     "ename": "",
     "evalue": "",
     "output_type": "error",
     "traceback": [
      "\u001b[1;31mThe Kernel crashed while executing code in the current cell or a previous cell. \n",
      "\u001b[1;31mPlease review the code in the cell(s) to identify a possible cause of the failure. \n",
      "\u001b[1;31mClick <a href='https://aka.ms/vscodeJupyterKernelCrash'>here</a> for more info. \n",
      "\u001b[1;31mView Jupyter <a href='command:jupyter.viewOutput'>log</a> for further details."
     ]
    }
   ],
   "source": [
    "s = '8' * 83\n",
    "# while '111' in s or '88888' in s:\n",
    "#     if '111' in s:\n",
    "#         s = s.replace('111', '88', 1)\n",
    "#     else:\n",
    "#         s = s.replace('88888', '8', 1)\n",
    "# print(s)\n",
    "            \n"
   ]
  },
  {
   "cell_type": "code",
   "execution_count": 3,
   "metadata": {},
   "outputs": [
    {
     "name": "stdout",
     "output_type": "stream",
     "text": [
      "22\n"
     ]
    }
   ],
   "source": [
    "s = 134 * '9'\n",
    "while '22222' in s or '9999' in s:\n",
    "    if '22222' in s:\n",
    "        s = s.replace('22222', '99', 1)\n",
    "    else:\n",
    "        s = s.replace('9999', '2', 1)\n",
    "print(s)"
   ]
  },
  {
   "cell_type": "code",
   "execution_count": null,
   "metadata": {},
   "outputs": [],
   "source": [
    " from ipaddress import *\n",
    "# n = ip_network(f'112.160.0.0/255.240.0.0', 0)\n",
    "# c = 0\n",
    "# for i in n:\n",
    "#     ip = f'{i:b}'\n",
    "#     if ip.count('1') % 3 != 0:\n",
    "#         c += 1\n",
    "# print(c)"
   ]
  },
  {
   "cell_type": "code",
   "execution_count": 9,
   "metadata": {},
   "outputs": [
    {
     "name": "stdout",
     "output_type": "stream",
     "text": [
      "427\n"
     ]
    }
   ],
   "source": [
    "from ipaddress import *\n",
    "n = ip_network(f'214.187.224.0/255.255.224.0', 0)\n",
    "c = 0\n",
    "for i in n:\n",
    "    ip = f'{i:b}'\n",
    "    if ip.count('1') % 6 != 0 and ip.endswith('1000'):\n",
    "        c += 1\n",
    "print(c)"
   ]
  },
  {
   "cell_type": "code",
   "execution_count": null,
   "metadata": {},
   "outputs": [],
   "source": []
  }
 ],
 "metadata": {
  "kernelspec": {
   "display_name": "Python 3",
   "language": "python",
   "name": "python3"
  },
  "language_info": {
   "codemirror_mode": {
    "name": "ipython",
    "version": 3
   },
   "file_extension": ".py",
   "mimetype": "text/x-python",
   "name": "python",
   "nbconvert_exporter": "python",
   "pygments_lexer": "ipython3",
   "version": "3.10.7"
  }
 },
 "nbformat": 4,
 "nbformat_minor": 2
}
