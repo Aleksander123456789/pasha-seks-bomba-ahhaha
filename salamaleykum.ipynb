{
 "cells": [
  {
   "cell_type": "code",
   "execution_count": null,
   "metadata": {},
   "outputs": [],
   "source": [
    "#6\n",
    "a = list(map(int, input(\"Введите элементы массива через пробел: \").split()))\n",
    "max_index = a.index(max(a))\n",
    "a[max_index], a[-1] = a[-1], a[max_index]\n",
    "print(\"Измененный массив:\", a)\n"
   ]
  },
  {
   "cell_type": "code",
   "execution_count": 2,
   "metadata": {},
   "outputs": [
    {
     "name": "stdout",
     "output_type": "stream",
     "text": [
      "Сумма: 90\n",
      "Количество: 4\n"
     ]
    }
   ],
   "source": [
    "#22\n",
    "a = list(map(int, input(\"Введите элементы массива через пробел: \").split()))\n",
    "k = int(input('Введите число k: '))\n",
    "n = int(input('Введите число n: '))\n",
    "count = 0\n",
    "summa = 0\n",
    "for num in a:\n",
    "    if num % k == 0 and num % n != 0:\n",
    "        count += 1\n",
    "        summa += num\n",
    "print(f'Сумма: {summa}')\n",
    "print(f'Количество: {count}')"
   ]
  },
  {
   "cell_type": "code",
   "execution_count": 7,
   "metadata": {},
   "outputs": [
    {
     "name": "stdout",
     "output_type": "stream",
     "text": [
      "[3, 7]\n"
     ]
    }
   ],
   "source": [
    "#15\n",
    "sequence = list(map(int, input(\"Введите элементы массива через пробел: \").split()))\n",
    "\n",
    "newsequence = [i for i in sequence[2::4] if i % 2 != 0]\n",
    "print(newsequence)"
   ]
  },
  {
   "cell_type": "code",
   "execution_count": 18,
   "metadata": {},
   "outputs": [
    {
     "name": "stdout",
     "output_type": "stream",
     "text": [
      "[1, 2, 3, 4, 5, 6, 7, 8, 9, 10, 11, 12]\n",
      "[6, 12]\n"
     ]
    }
   ],
   "source": [
    "#31\n",
    "sequence = list(map(int, input(\"Введите элементы массива через пробел: \").split()))\n",
    "print(sequence)\n",
    "new_sequence = [i for i in sequence[2::3] if i % 2 == 0]\n",
    "print(new_sequence)\n"
   ]
  },
  {
   "cell_type": "code",
   "execution_count": 19,
   "metadata": {},
   "outputs": [
    {
     "name": "stdout",
     "output_type": "stream",
     "text": [
      "Количество гласных: 21\n",
      "Количество согласных: 26\n"
     ]
    }
   ],
   "source": [
    "input_string = input('Введите строку: ').lower() #Это пример строки, которая содержит гласные и согласные\n",
    "number_vowels = 0 \n",
    "number_consonants = 0\n",
    "vowels = 'aeiouаеёиоуыэюя'\n",
    "for s in input_string:\n",
    "    if s.isalpha():\n",
    "        if s in vowels:\n",
    "            number_vowels += 1\n",
    "        else: \n",
    "            number_consonants += 1 \n",
    "print(f'Количество гласных: {number_vowels}')\n",
    "print(f'Количество согласных: {number_consonants}')"
   ]
  },
  {
   "cell_type": "code",
   "execution_count": 20,
   "metadata": {},
   "outputs": [
    {
     "name": "stdout",
     "output_type": "stream",
     "text": [
      "['отЭ', 'ремирп', 'икортс', 'йоннёледзар', 'ималеборп']\n"
     ]
    }
   ],
   "source": [
    "# Ввод строки из слов, разделенных пробелами\n",
    "input_string = input(\"Введите строку из слов, разделенных пробелами: \")\n",
    "\n",
    "# Создание списка из слов\n",
    "words_list = input_string.split()\n",
    "\n",
    "# Развернуть каждое слово в списке\n",
    "reversed_words_list = [word[::-1] for word in words_list]\n",
    "\n",
    "# Вывод результата\n",
    "print(reversed_words_list)\n"
   ]
  },
  {
   "cell_type": "code",
   "execution_count": 21,
   "metadata": {},
   "outputs": [
    {
     "name": "stdout",
     "output_type": "stream",
     "text": [
      "Список чисел в квадрате:\n",
      "[1, 4, 9, 16, 25, 36, 49, 64]\n"
     ]
    }
   ],
   "source": [
    "numbers_str = input(\"Введите натуральные числа, разделенные пробелами: \")\n",
    "n = int(input(\"Введите степень числа: \"))\n",
    "\n",
    "numbers_list = list(map(int, numbers_str.split()))\n",
    "squared_numbers = [num ** 2 for num in numbers_list]\n",
    "\n",
    "print(\"Список чисел в квадрате:\")\n",
    "print(squared_numbers)\n"
   ]
  }
 ],
 "metadata": {
  "kernelspec": {
   "display_name": "Python 3",
   "language": "python",
   "name": "python3"
  },
  "language_info": {
   "codemirror_mode": {
    "name": "ipython",
    "version": 3
   },
   "file_extension": ".py",
   "mimetype": "text/x-python",
   "name": "python",
   "nbconvert_exporter": "python",
   "pygments_lexer": "ipython3",
   "version": "3.10.7"
  }
 },
 "nbformat": 4,
 "nbformat_minor": 2
}
