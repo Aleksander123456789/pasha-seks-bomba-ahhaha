{
 "cells": [
  {
   "cell_type": "code",
   "execution_count": null,
   "metadata": {},
   "outputs": [],
   "source": [
    "#6\n",
    "a = list(map(int, input(\"Введите элементы массива через пробел: \").split()))\n",
    "max_index = a.index(max(a))\n",
    "a[max_index], a[-1] = a[-1], a[max_index]\n",
    "print(\"Измененный массив:\", a)\n"
   ]
  },
  {
   "cell_type": "code",
   "execution_count": 2,
   "metadata": {},
   "outputs": [
    {
     "name": "stdout",
     "output_type": "stream",
     "text": [
      "Сумма: 90\n",
      "Количество: 4\n"
     ]
    }
   ],
   "source": [
    "#22\n",
    "a = list(map(int, input(\"Введите элементы массива через пробел: \").split()))\n",
    "k = int(input('Введите число k: '))\n",
    "n = int(input('Введите число n: '))\n",
    "count = 0\n",
    "summa = 0\n",
    "for num in a:\n",
    "    if num % k == 0 and num % n != 0:\n",
    "        count += 1\n",
    "        summa += num\n",
    "print(f'Сумма: {summa}')\n",
    "print(f'Количество: {count}')"
   ]
  },
  {
   "cell_type": "code",
   "execution_count": 7,
   "metadata": {},
   "outputs": [
    {
     "name": "stdout",
     "output_type": "stream",
     "text": [
      "[3, 7]\n"
     ]
    }
   ],
   "source": [
    "#15\n",
    "sequence = list(map(int, input(\"Введите элементы массива через пробел: \").split()))\n",
    "\n",
    "newsequence = [i for i in sequence[2::4] if i % 2 != 0]\n",
    "print(newsequence)"
   ]
  },
  {
   "cell_type": "code",
   "execution_count": 18,
   "metadata": {},
   "outputs": [
    {
     "name": "stdout",
     "output_type": "stream",
     "text": [
      "[1, 2, 3, 4, 5, 6, 7, 8, 9, 10, 11, 12]\n",
      "[6, 12]\n"
     ]
    }
   ],
   "source": [
    "#31\n",
    "sequence = list(map(int, input(\"Введите элементы массива через пробел: \").split()))\n",
    "print(sequence)\n",
    "new_sequence = [i for i in sequence[2::3] if i % 2 == 0]\n",
    "print(new_sequence)\n"
   ]
  },
  {
   "cell_type": "code",
   "execution_count": 19,
   "metadata": {},
   "outputs": [
    {
     "name": "stdout",
     "output_type": "stream",
     "text": [
      "Количество гласных: 21\n",
      "Количество согласных: 26\n"
     ]
    }
   ],
   "source": [
    "input_string = input('Введите строку: ').lower() #Это пример строки, которая содержит гласные и согласные\n",
    "number_vowels = 0 \n",
    "number_consonants = 0\n",
    "vowels = 'aeiouаеёиоуыэюя'\n",
    "for s in input_string:\n",
    "    if s.isalpha():\n",
    "        if s in vowels:\n",
    "            number_vowels += 1\n",
    "        else: \n",
    "            number_consonants += 1 \n",
    "print(f'Количество гласных: {number_vowels}')\n",
    "print(f'Количество согласных: {number_consonants}')"
   ]
  },
  {
   "cell_type": "code",
   "execution_count": 20,
   "metadata": {},
   "outputs": [
    {
     "name": "stdout",
     "output_type": "stream",
     "text": [
      "['отЭ', 'ремирп', 'икортс', 'йоннёледзар', 'ималеборп']\n"
     ]
    }
   ],
   "source": [
    "# Ввод строки из слов, разделенных пробелами\n",
    "input_string = input(\"Введите строку из слов, разделенных пробелами: \")\n",
    "\n",
    "# Создание списка из слов\n",
    "words_list = input_string.split()\n",
    "\n",
    "# Развернуть каждое слово в списке\n",
    "reversed_words_list = [word[::-1] for word in words_list]\n",
    "\n",
    "# Вывод результата\n",
    "print(reversed_words_list)\n"
   ]
  },
  {
   "cell_type": "code",
   "execution_count": 21,
   "metadata": {},
   "outputs": [
    {
     "name": "stdout",
     "output_type": "stream",
     "text": [
      "Список чисел в квадрате:\n",
      "[1, 4, 9, 16, 25, 36, 49, 64]\n"
     ]
    }
   ],
   "source": [
    "numbers_str = input(\"Введите натуральные числа, разделенные пробелами: \")\n",
    "n = int(input(\"Введите степень числа: \"))\n",
    "\n",
    "numbers_list = list(map(int, numbers_str.split()))\n",
    "squared_numbers = [num ** 2 for num in numbers_list]\n",
    "\n",
    "print(\"Список чисел в квадрате:\")\n",
    "print(squared_numbers)\n"
   ]
  },
  {
   "cell_type": "code",
   "execution_count": 2,
   "metadata": {},
   "outputs": [
    {
     "name": "stdout",
     "output_type": "stream",
     "text": [
      "Которые есть во всех магазинах: set()\n",
      "Которые есть в некоторых магазинах: {'сыр', 'хлеб', 'молоко', 'яблоко'}\n",
      "Которых нет в магазинах: set()\n"
     ]
    }
   ],
   "source": [
    "#2\n",
    "# Получаем данные о продуктах с клавиатуры\n",
    "products = set(input(\"Введите список продуктов через запятую: \").split(',')) #яблоко, молоко, хлеб, сыр\n",
    "\n",
    "# Получаем данные о магазинах с клавиатуры\n",
    "num_markets = int(input(\"Введите количество магазинов: \")) # 3\n",
    "markets = []\n",
    "for i in range(num_markets):\n",
    "    #яблоко, молоко, хлеб\n",
    "    #яблоко, сыр\n",
    "    #молоко, сыр\n",
    "    market_items = set(input(f\"Введите продукты в магазине {i+1} через запятую: \").split(','))\n",
    "    markets.append(market_items)\n",
    "\n",
    "# Выполняем операции над множествами\n",
    "all_items = products.intersection(*markets)\n",
    "some_items = products.union(*markets) - all_items\n",
    "not_in_market = products - set.union(*markets)\n",
    "\n",
    "print(f'Которые есть во всех магазинах: {all_items}')\n",
    "print(f'Которые есть в некоторых магазинах: {some_items}')\n",
    "print(f'Которых нет в магазинах: {not_in_market}')\n"
   ]
  },
  {
   "cell_type": "code",
   "execution_count": 3,
   "metadata": {},
   "outputs": [
    {
     "name": "stdout",
     "output_type": "stream",
     "text": [
      "Которые есть во всех магазинах: set()\n",
      "Которые есть в некоторых магазинах: {'картофель', 'морковь', 'капуста', 'укроп', 'редис', 'горох'}\n",
      "Которых нет в магазинах: {'капуста'}\n"
     ]
    }
   ],
   "source": [
    "#5\n",
    "# Получаем данные о культурах с клавиатуры\n",
    "cultures = set(input(\"Введите список культур через запятую: \").split(',')) # картофель,укроп,морковь,горох,капуста,редис\n",
    "\n",
    "# Получаем данные о полях с клавиатуры\n",
    "num_plot = int(input(\"Введите количество магазинов: \")) # 3\n",
    "plots = []\n",
    "for i in range(num_plot):\n",
    "    # картофель,укроп,горох\n",
    "    #редис,укроп\n",
    "    #морковь,горох\n",
    "    plot_culture = set(input(f\"Введите продукты в участке {i+1} через запятую: \").split(','))\n",
    "    plots.append(plot_culture)\n",
    "\n",
    "all_cultures = cultures.intersection(*markets)\n",
    "some_cultures = cultures.union(*plots) - all_cultures\n",
    "not_in_plot = cultures - set.union(*plots)\n",
    "\n",
    "print(f'Которые есть на всех участках: {all_cultures}')\n",
    "print(f'Которые есть на некоторых участках: {some_cultures}')\n",
    "print(f'Которых нет на участках: {not_in_plot}')\n"
   ]
  },
  {
   "cell_type": "code",
   "execution_count": 4,
   "metadata": {},
   "outputs": [
    {
     "name": "stdout",
     "output_type": "stream",
     "text": [
      "Культуры, которые выращиваются во всех колхозах:\n",
      "\n",
      "Культуры, которые выращиваются только в некоторых колхозах:\n",
      "картофель\n",
      "морковь\n",
      "капуста\n",
      "укроп\n",
      "редис\n",
      "горох\n"
     ]
    }
   ],
   "source": [
    "#10\n",
    "# Получаем данные о сельскохозяйственных культурах с клавиатуры\n",
    "cultures = set(input(\"Введите список сельскохозяйственных культур через запятую: \").split(',')) # картофель,укроп,морковь,горох,капуста,редис\n",
    "\n",
    "\n",
    "# Получаем данные о культурах, которые выращиваются в каждом колхозе\n",
    "num_kolkhozes = int(input(\"Введите количество колхозов: \")) #3\n",
    "kolkhozes = []\n",
    "for i in range(num_kolkhozes):\n",
    "    # картофель,укроп,горох\n",
    "    #редис,укроп\n",
    "    #морковь,горох\n",
    "    kolkhoz_items = set(input(f\"Введите культуры, которые выращиваются в колхозе {i+1} через запятую: \").split(','))\n",
    "    kolkhozes.append(kolkhoz_items)\n",
    "\n",
    "# Выполняем операции над множествами\n",
    "cultures_in_all_kolkhozes = set.intersection(*kolkhozes)\n",
    "cultures_in_some_kolkhozes = cultures - cultures_in_all_kolkhozes\n",
    "\n",
    "print(\"Культуры, которые выращиваются во всех колхозах:\")\n",
    "for culture in cultures_in_all_kolkhozes:\n",
    "    print(culture)\n",
    "\n",
    "print(\"\\nКультуры, которые выращиваются только в некоторых колхозах:\")\n",
    "for culture in cultures_in_some_kolkhozes:\n",
    "    print(culture)\n"
   ]
  },
  {
   "cell_type": "code",
   "execution_count": 1,
   "metadata": {},
   "outputs": [
    {
     "name": "stdout",
     "output_type": "stream",
     "text": [
      "6\n"
     ]
    }
   ],
   "source": [
    "n = int(input())\n",
    "\n",
    "dictionary = {}\n",
    "for i in range(n):\n",
    "    surnames = input().split(': ')\n",
    "    name = surnames[0]\n",
    "    grades = list(map(int, surnames[1].split()))\n",
    "    dictionary[name] = grades\n",
    "\n",
    "quarter = int(input())\n",
    "total_grade = 0\n",
    "\n",
    "for name, grades in dictionary.items():\n",
    "    total_grade += grades[quarter - 1]\n",
    "\n",
    "average_grade = total_grade // n\n",
    "print(average_grade)\n",
    "\n",
    "categories = {\n",
    "    \"отлично\": [8, 9, 10],\n",
    "    \"хорошо\": [5, 6, 7],\n",
    "    \"удовлетворительно\": [3, 4],\n",
    "    \"неудовлетворительно\": [0, 1, 2]\n",
    "}\n",
    "for category, grade_range in categories.items():\n",
    "    if average_grade in grade_range:\n",
    "        print(average_grade, category)\n",
    "        break\n"
   ]
  },
  {
   "cell_type": "code",
   "execution_count": 1,
   "metadata": {},
   "outputs": [
    {
     "name": "stdout",
     "output_type": "stream",
     "text": [
      "Исправленный текст: Привет, как дела.\n"
     ]
    }
   ],
   "source": [
    "input_text = input()\n",
    "output_text = \"\"\n",
    "\n",
    "for i in range(len(input_text)):\n",
    "    if input_text[i] in [',', '.']:\n",
    "        output_text += input_text[i]\n",
    "        if i+1 < len(input_text) and input_text[i+1] != ' ':\n",
    "            output_text += ' '\n",
    "    else:\n",
    "        output_text += input_text[i]\n",
    "\n",
    "print(output_text)\n"
   ]
  },
  {
   "cell_type": "code",
   "execution_count": null,
   "metadata": {},
   "outputs": [],
   "source": [
    "input_string1 = input()\n",
    "input_string2 = input()\n"
   ]
  },
  {
   "cell_type": "code",
   "execution_count": 6,
   "metadata": {},
   "outputs": [
    {
     "name": "stdout",
     "output_type": "stream",
     "text": [
      "(<class 'int'>, ['-1', '2', '4', '6', '8', '10', '12', '14', '16', '18'])\n"
     ]
    }
   ],
   "source": [
    "numbers = input().split()\n",
    "half = len(numbers) // 2\n",
    "\n",
    "first_half_rev = numbers[:half][::-1]\n",
    "second_half_rev = numbers[half:][::-1]\n",
    "\n",
    "result = first_half_rev + second_half_rev\n",
    "print(result)"
   ]
  },
  {
   "cell_type": "code",
   "execution_count": 10,
   "metadata": {},
   "outputs": [
    {
     "name": "stdout",
     "output_type": "stream",
     "text": [
      "[-4, -2]\n"
     ]
    }
   ],
   "source": [
    "input_string = input().split()\n",
    "input_list = list(map(int, input_string))\n",
    "second_list = []\n",
    "for i in input_list:\n",
    "    if i < 0 and i % 2 ==0:\n",
    "        second_list.append(i)\n",
    "print(second_list)"
   ]
  },
  {
   "cell_type": "code",
   "execution_count": 11,
   "metadata": {},
   "outputs": [
    {
     "name": "stdout",
     "output_type": "stream",
     "text": [
      "o Love Pytho\n"
     ]
    }
   ],
   "source": [
    "s = \"I Do Love Python! Python is Cool!!!\"\n",
    "n = len(s)\n",
    "\n",
    "while True:\n",
    "    i = int(input(\"Введите значение i: \"))\n",
    "    j = int(input(\"Введите значение j: \"))\n",
    "\n",
    "    if abs(i) >= n or abs(j) >= n or i == j:\n",
    "        print(f\"Введите корректные значения\\ni,j могут принимать значения: [-{n}, {n})\")\n",
    "    else:\n",
    "        substring = s[i:j]\n",
    "        print(substring)\n",
    "        break"
   ]
  },
  {
   "cell_type": "code",
   "execution_count": 12,
   "metadata": {},
   "outputs": [
    {
     "ename": "SyntaxError",
     "evalue": "invalid syntax (572090198.py, line 2)",
     "output_type": "error",
     "traceback": [
      "\u001b[1;36m  Cell \u001b[1;32mIn[12], line 2\u001b[1;36m\u001b[0m\n\u001b[1;33m    trigonometry_table = tuple(float(i*30)) for i in range(n+1)\u001b[0m\n\u001b[1;37m                                            ^\u001b[0m\n\u001b[1;31mSyntaxError\u001b[0m\u001b[1;31m:\u001b[0m invalid syntax\n"
     ]
    }
   ],
   "source": [
    "n = int(input())\n",
    "trigonometry_table = tuple(float(i*30) for i in range(n+1))\n",
    "print(trigonometry_table)\n"
   ]
  }
 ],
 "metadata": {
  "kernelspec": {
   "display_name": "Python 3",
   "language": "python",
   "name": "python3"
  },
  "language_info": {
   "codemirror_mode": {
    "name": "ipython",
    "version": 3
   },
   "file_extension": ".py",
   "mimetype": "text/x-python",
   "name": "python",
   "nbconvert_exporter": "python",
   "pygments_lexer": "ipython3",
   "version": "3.10.7"
  }
 },
 "nbformat": 4,
 "nbformat_minor": 2
}
