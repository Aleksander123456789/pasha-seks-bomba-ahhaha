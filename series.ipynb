{
 "cells": [
  {
   "cell_type": "code",
   "execution_count": null,
   "metadata": {},
   "outputs": [
    {
     "name": "stdout",
     "output_type": "stream",
     "text": [
      "[1, 2, 5, 4, 3]\n"
     ]
    }
   ],
   "source": [
    "#Array124. Дано целое число К (> 0) и целочисленный массив размера N. Поме- нять\n",
    "#местами последнюю серию массива и его серию с номером К. Если серий в\n",
    "#массиве меньше К, то вывести массив без изменений.\n",
    "\n",
    "def swap_series(arr, K):\n",
    "    N = len(arr)\n",
    "    \n",
    "    \n",
    "    if K <= 0 or K > N:\n",
    "        return arr  \n",
    "    \n",
    "    index_K = K - 1 \n",
    "    index_last = N - 1  \n",
    "\n",
    "    \n",
    "    arr[index_K], arr[index_last] = arr[index_last], arr[index_K]\n",
    "    \n",
    "    return arr\n",
    "\n",
    "\n",
    "K = 3\n",
    "array = [1, 2, 3, 4, 5]\n",
    "\n",
    "result = swap_series(array, K)\n",
    "print(result)  # Вывод: [1, 2, 5, 4, 3]\n"
   ]
  },
  {
   "cell_type": "code",
   "execution_count": null,
   "metadata": {},
   "outputs": [],
   "source": []
  },
  {
   "cell_type": "code",
   "execution_count": 2,
   "metadata": {},
   "outputs": [
    {
     "name": "stdout",
     "output_type": "stream",
     "text": [
      "[1, 2, 2, 3, 3, 3, 3, 4, 4]\n"
     ]
    }
   ],
   "source": [
    "#Array 128. Дан целочисленный массив размера N. Преобразовать массив, увели-чив \n",
    "#его первую серию наибольшей длины на один элемент.\n",
    "\n",
    "def increase_longest_series(arr):\n",
    "    if not arr:\n",
    "        return arr  \n",
    "\n",
    "    max_length = 1\n",
    "    current_length = 1\n",
    "    series_value = arr[0]\n",
    "\n",
    "    # Находим первую серию наибольшей длины\n",
    "    for i in range(1, len(arr)):\n",
    "        if arr[i] == arr[i - 1]:\n",
    "            current_length += 1\n",
    "        else:\n",
    "            if current_length > max_length:\n",
    "                max_length = current_length\n",
    "                series_value = arr[i - 1]\n",
    "            current_length = 1\n",
    "\n",
    "    \n",
    "    if current_length > max_length:\n",
    "        series_value = arr[-1]\n",
    "\n",
    "    \n",
    "    result = []\n",
    "    series_found = False\n",
    "\n",
    "    for i in range(len(arr)):\n",
    "        result.append(arr[i])\n",
    "        if arr[i] == series_value and not series_found:\n",
    "            result.append(series_value)  \n",
    "            series_found = True\n",
    "\n",
    "    return result\n",
    "\n",
    "array = [1, 2, 2, 3, 3, 3, 4, 4]\n",
    "result = increase_longest_series(array)\n",
    "print(result) \n"
   ]
  },
  {
   "cell_type": "code",
   "execution_count": 3,
   "metadata": {},
   "outputs": [
    {
     "name": "stdout",
     "output_type": "stream",
     "text": [
      "[1, 2, 2, 3, 3, 3, 4, 4]\n"
     ]
    }
   ],
   "source": [
    "#Array130. Дан целочисленный массив размера N. Преобразовать массив, увели-чив\n",
    "#все его серии наибольшей длины на один элемент.\n",
    "\n",
    "\n",
    "def increase_longest_series(arr):\n",
    "    if not arr:\n",
    "        return arr  \n",
    "\n",
    "    max_length = 1\n",
    "    current_length = 1\n",
    "    \n",
    "    # Находим максимальную длину серии\n",
    "    for i in range(1, len(arr)):\n",
    "        if arr[i] == arr[i - 1]:\n",
    "            current_length += 1\n",
    "        else:\n",
    "            max_length = max(max_length, current_length)\n",
    "            current_length = 1\n",
    "            \n",
    "    max_length = max(max_length, current_length)  \n",
    "\n",
    "    \n",
    "    result = []\n",
    "    for i in range(len(arr)):\n",
    "        result.append(arr[i])\n",
    "        if i > 0 and arr[i] == arr[i - 1] and current_length == max_length:\n",
    "            result.append(arr[i])  \n",
    "\n",
    "    return result\n",
    "\n",
    "\n",
    "array = [1, 2, 2, 3, 3, 3, 4, 4]\n",
    "result = increase_longest_series(array)\n",
    "print(result)  \n"
   ]
  },
  {
   "cell_type": "code",
   "execution_count": null,
   "metadata": {},
   "outputs": [
    {
     "name": "stdout",
     "output_type": "stream",
     "text": [
      "[1, 2, 5, 4, 3]\n"
     ]
    }
   ],
   "source": [
    "#Array124. Дано целое число К (> 0) и целочисленный массив размера N. Поме- нять\n",
    "#местами последнюю серию массива и его серию с номером К. Если серий в\n",
    "#массиве меньше К, то вывести массив без изменений.\n",
    "\n",
    "K = int(input('k: '))  \n",
    "N = int(input('размер массива: '))  \n",
    "arr = []  \n",
    "\n",
    "# массива\n",
    "for _ in range(N):  \n",
    "    arr.append(int(input('добавьте число : ')))\n",
    "\n",
    "def swap_series(arr, K): \n",
    "    N = len(arr) \n",
    "     \n",
    "    \n",
    "    if K <= 0 or K > N: \n",
    "        return arr  \n",
    "     \n",
    "    \n",
    "    index_K = K - 1  \n",
    "    index_last = N - 1  \n",
    " \n",
    "    # Меняем местами элементы \n",
    "    arr[index_K], arr[index_last] = arr[index_last], arr[index_K] \n",
    "     \n",
    "    return arr\n",
    "\n",
    "result = swap_series(arr, K) \n",
    "print(result)"
   ]
  },
  {
   "cell_type": "code",
   "execution_count": 2,
   "metadata": {},
   "outputs": [
    {
     "name": "stdout",
     "output_type": "stream",
     "text": [
      "x y z w\n",
      "0 1 0 1\n"
     ]
    }
   ],
   "source": [
    "print('x y z w')\n",
    "for x in range(2):\n",
    "    for y in range(2):\n",
    "        for z in range(2):\n",
    "            for w in range(2):\n",
    "                if not((x or not y) or (y == z) or not w):\n",
    "                    print(x,y,z,w)\n"
   ]
  },
  {
   "cell_type": "code",
   "execution_count": null,
   "metadata": {},
   "outputs": [],
   "source": [
    "def(x,y,z,w)"
   ]
  }
 ],
 "metadata": {
  "kernelspec": {
   "display_name": "Python 3",
   "language": "python",
   "name": "python3"
  },
  "language_info": {
   "codemirror_mode": {
    "name": "ipython",
    "version": 3
   },
   "file_extension": ".py",
   "mimetype": "text/x-python",
   "name": "python",
   "nbconvert_exporter": "python",
   "pygments_lexer": "ipython3",
   "version": "3.10.7"
  }
 },
 "nbformat": 4,
 "nbformat_minor": 2
}
