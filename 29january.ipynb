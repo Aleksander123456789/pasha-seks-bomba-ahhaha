{
 "cells": [
  {
   "cell_type": "code",
   "execution_count": null,
   "metadata": {},
   "outputs": [],
   "source": [
    "input_string = \"МАМА МЫЛА РАМУ\"\n",
    "words = input_string.split()\n",
    "words = [word.lower() for word in words]\n",
    "sorted_words = sorted(words)\n",
    "result_string = ' '.join(sorted_words)\n",
    "print(result_string) \n"
   ]
  },
  {
   "cell_type": "code",
   "execution_count": null,
   "metadata": {},
   "outputs": [],
   "source": [
    "file_path = \"C:\\\\Users\\\\user\\\\Documents\\\\example.txt\"\n",
    "file_parts = file_path.split(\"\\\\\")  \n",
    "file_name_with_extension = file_parts[-1]\n",
    "file_name = file_name_with_extension.split(\".\")[0]\n",
    "print(file_name) \n"
   ]
  }
 ],
 "metadata": {
  "language_info": {
   "name": "python"
  }
 },
 "nbformat": 4,
 "nbformat_minor": 2
}
