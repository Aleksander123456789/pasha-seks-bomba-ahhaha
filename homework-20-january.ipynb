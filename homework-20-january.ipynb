{
 "cells": [
  {
   "cell_type": "code",
   "execution_count": 1,
   "metadata": {},
   "outputs": [
    {
     "name": "stdout",
     "output_type": "stream",
     "text": [
      "м-о\n"
     ]
    }
   ],
   "source": [
    "#1\n",
    "s = input('Введите строку: ')\n",
    "print(s[0], s[-1],sep='-')"
   ]
  },
  {
   "cell_type": "code",
   "execution_count": 4,
   "metadata": {},
   "outputs": [
    {
     "name": "stdout",
     "output_type": "stream",
     "text": [
      "лэоаит\n"
     ]
    }
   ],
   "source": [
    "#2\n",
    "s = input('Введите строку(не менее 15 символов): ')\n",
    "result = s[2:14:2]\n",
    "print(result)"
   ]
  },
  {
   "cell_type": "code",
   "execution_count": 11,
   "metadata": {},
   "outputs": [
    {
     "name": "stdout",
     "output_type": "stream",
     "text": [
      "Да\n"
     ]
    }
   ],
   "source": [
    "#3\n",
    "name1 = input('Введите первый город: ')\n",
    "name2 = input('Введите второй город: ')\n",
    "if name1[-1].upper() == name2[0].upper():\n",
    "    print('Да')\n",
    "else:\n",
    "    print('Нет')\n"
   ]
  },
  {
   "cell_type": "code",
   "execution_count": 18,
   "metadata": {},
   "outputs": [
    {
     "name": "stdout",
     "output_type": "stream",
     "text": [
      "Возможно, к новому обновлению ошибку устранят.\n"
     ]
    }
   ],
   "source": [
    "#4\n",
    "text = \"Возможно, к новому обновлению(но это неточно) ошибку устранят.\"\n",
    "name1 = text.find('(')\n",
    "name2 = text.find(')')\n",
    "result = text[0:name1] + text[name2+1:]\n",
    "print(result)"
   ]
  },
  {
   "cell_type": "code",
   "execution_count": null,
   "metadata": {},
   "outputs": [],
   "source": [
    "#5\n",
    "s = input(\"Введите строку: \")\n",
    "n = int(input(\"Введите натуральное число: \"))\n",
    "\n",
    "if n <= len(s):\n",
    "    result = s\n",
    "else:\n",
    "    diff = n - len(s)\n",
    "    left = diff // 2\n",
    "    right = diff - left\n",
    "    result = s[0]*left + s + s[-1]*right\n",
    "    if len(result) < n:\n",
    "        result += '.'\n",
    "\n",
    "print(result)\n"
   ]
  },
  {
   "cell_type": "code",
   "execution_count": 22,
   "metadata": {},
   "outputs": [
    {
     "name": "stdout",
     "output_type": "stream",
     "text": [
      "Количество гласных:14\n",
      "Количество согласных:17\n"
     ]
    }
   ],
   "source": [
    "#6\n",
    "s = input('Введите строку: ')\n",
    "vowels = 'ауеияыэюоё'\n",
    "consonants = 'йцкнгшщзхфвпрлджчсмтб'\n",
    "count_vowels = 0 \n",
    "count_consonants = 0\n",
    "for char in s:\n",
    "    if char in vowels:\n",
    "        count_vowels += 1\n",
    "    if char in consonants:\n",
    "        count_consonants += 1\n",
    "print(f'Количество гласных:{count_vowels}')\n",
    "print(f'Количество согласных:{count_consonants}')"
   ]
  }
 ],
 "metadata": {
  "kernelspec": {
   "display_name": "Python 3",
   "language": "python",
   "name": "python3"
  },
  "language_info": {
   "codemirror_mode": {
    "name": "ipython",
    "version": 3
   },
   "file_extension": ".py",
   "mimetype": "text/x-python",
   "name": "python",
   "nbconvert_exporter": "python",
   "pygments_lexer": "ipython3",
   "version": "3.10.7"
  }
 },
 "nbformat": 4,
 "nbformat_minor": 2
}
