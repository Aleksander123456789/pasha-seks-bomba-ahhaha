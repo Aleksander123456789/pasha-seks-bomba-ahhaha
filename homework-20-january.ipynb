{
 "cells": [
  {
   "cell_type": "code",
   "execution_count": 4,
   "metadata": {},
   "outputs": [
    {
     "ename": "IndexError",
     "evalue": "string index out of range",
     "output_type": "error",
     "traceback": [
      "\u001b[1;31m---------------------------------------------------------------------------\u001b[0m",
      "\u001b[1;31mIndexError\u001b[0m                                Traceback (most recent call last)",
      "Cell \u001b[1;32mIn[4], line 3\u001b[0m\n\u001b[0;32m      1\u001b[0m \u001b[38;5;66;03m#1\u001b[39;00m\n\u001b[0;32m      2\u001b[0m s \u001b[38;5;241m=\u001b[39m \u001b[38;5;28minput\u001b[39m(\u001b[38;5;124m'\u001b[39m\u001b[38;5;124mВведите строку: \u001b[39m\u001b[38;5;124m'\u001b[39m)\n\u001b[1;32m----> 3\u001b[0m \u001b[38;5;28mprint\u001b[39m(\u001b[43ms\u001b[49m\u001b[43m[\u001b[49m\u001b[38;5;241;43m0\u001b[39;49m\u001b[43m]\u001b[49m, s[\u001b[38;5;241m-\u001b[39m\u001b[38;5;241m1\u001b[39m],sep\u001b[38;5;241m=\u001b[39m\u001b[38;5;124m'\u001b[39m\u001b[38;5;124m-\u001b[39m\u001b[38;5;124m'\u001b[39m)\n",
      "\u001b[1;31mIndexError\u001b[0m: string index out of range"
     ]
    }
   ],
   "source": [
    "#1\n",
    "s = input('Введите строку: ')\n",
    "print(s[0], s[-1],sep='-')"
   ]
  },
  {
   "cell_type": "code",
   "execution_count": null,
   "metadata": {},
   "outputs": [],
   "source": []
  },
  {
   "cell_type": "code",
   "execution_count": null,
   "metadata": {},
   "outputs": [
    {
     "name": "stdout",
     "output_type": "stream",
     "text": [
      "лэоаит\n"
     ]
    }
   ],
   "source": [
    "#2\n",
    "s = input('Введите строку(не менее 15 символов): ')\n",
    "result = s[2:14:2]\n",
    "print(result)"
   ]
  },
  {
   "cell_type": "code",
   "execution_count": null,
   "metadata": {},
   "outputs": [
    {
     "name": "stdout",
     "output_type": "stream",
     "text": [
      "Да\n"
     ]
    }
   ],
   "source": [
    "#3\n",
    "name1 = input('Введите первый город: ')\n",
    "name2 = input('Введите второй город: ')\n",
    "if name1[-1].upper() == name2[0].upper():\n",
    "    print('Да')\n",
    "else:\n",
    "    print('Нет')\n"
   ]
  },
  {
   "cell_type": "code",
   "execution_count": null,
   "metadata": {},
   "outputs": [
    {
     "name": "stdout",
     "output_type": "stream",
     "text": [
      "Возможно, к новому обновлению ошибку устранят.\n"
     ]
    }
   ],
   "source": [
    "#4\n",
    "text = \"Возможно, к новому обновлению(но это неточно) ошибку устранят.\"\n",
    "name1 = text.find('(')\n",
    "name2 = text.find(')')\n",
    "result = text[0:name1] + text[name2+1:]\n",
    "print(result)"
   ]
  },
  {
   "cell_type": "code",
   "execution_count": null,
   "metadata": {},
   "outputs": [],
   "source": [
    "#5\n",
    "s = input(\"Введите строку: \")\n",
    "n = int(input(\"Введите натуральное число: \"))\n",
    "\n",
    "if n <= len(s):\n",
    "    result = s\n",
    "else:\n",
    "    diff = n - len(s)\n",
    "    left = diff // 2\n",
    "    right = diff - left\n",
    "    result = s[0]*left + s + s[-1]*right\n",
    "    if len(result) < n:\n",
    "        result += '.'\n",
    "\n",
    "print(result)\n"
   ]
  },
  {
   "cell_type": "code",
   "execution_count": null,
   "metadata": {},
   "outputs": [
    {
     "name": "stdout",
     "output_type": "stream",
     "text": [
      "Количество гласных:14\n",
      "Количество согласных:17\n"
     ]
    }
   ],
   "source": [
    "#6\n",
    "s = input('Введите строку: ')\n",
    "vowels = 'ауеияыэюоё'\n",
    "consonants = 'йцкнгшщзхфвпрлджчсмтб'\n",
    "count_vowels = 0 \n",
    "count_consonants = 0\n",
    "for char in s:\n",
    "    if char in vowels:\n",
    "        count_vowels += 1\n",
    "    if char in consonants:\n",
    "        count_consonants += 1\n",
    "print(f'Количество гласных:{count_vowels}')\n",
    "print(f'Количество согласных:{count_consonants}')"
   ]
  },
  {
   "cell_type": "code",
   "execution_count": 7,
   "metadata": {},
   "outputs": [
    {
     "name": "stdout",
     "output_type": "stream",
     "text": [
      "на\n"
     ]
    }
   ],
   "source": [
    "sentence = \"Это строка на данном языке но\"\n",
    "words = sentence.split()\n",
    "shortest_word = min(words, key=len)\n",
    "print(shortest_word)\n"
   ]
  },
  {
   "cell_type": "code",
   "execution_count": 4,
   "metadata": {},
   "outputs": [
    {
     "name": "stdout",
     "output_type": "stream",
     "text": [
      "языке. русском на строка данная Это\n"
     ]
    }
   ],
   "source": [
    "input_string = \"Это данная строка на русском языке.\"\n",
    "words = input_string.split()\n",
    "reversed_string = ' '.join(reversed(words))\n",
    "print(reversed_string)\n"
   ]
  },
  {
   "cell_type": "code",
   "execution_count": 13,
   "metadata": {},
   "outputs": [
    {
     "name": "stdout",
     "output_type": "stream",
     "text": [
      ".ИНИ.У. .ЕС. ТакСеСК.\n"
     ]
    }
   ],
   "source": [
    "input_string = \"МИНИМУМ ТЕСТ ТакСеСКЛ\"\n",
    "words = input_string.split()\n",
    "result = []\n",
    "\n",
    "for word in words:\n",
    "    last_letter = word[-1]\n",
    "    modified_word = \"\"\n",
    "    for char in word:\n",
    "        if char.lower() == last_letter.lower():\n",
    "            modified_word += \".\"\n",
    "        else:\n",
    "            modified_word += char\n",
    "    result.append(modified_word)\n",
    "\n",
    "output_string = \" \".join(result)\n",
    "print(output_string)\n"
   ]
  },
  {
   "cell_type": "code",
   "execution_count": 14,
   "metadata": {},
   "outputs": [
    {
     "name": "stdout",
     "output_type": "stream",
     "text": [
      ".ини.ум\n"
     ]
    }
   ],
   "source": [
    "word = \"минимум\"\n",
    "last_letter = word[-1]\n",
    "transformed_word = word[:-1].replace(last_letter, '.') + last_letter\n",
    "print(transformed_word)\n"
   ]
  },
  {
   "cell_type": "code",
   "execution_count": 16,
   "metadata": {},
   "outputs": [
    {
     "name": "stdout",
     "output_type": "stream",
     "text": [
      ".ИНИ.УМ .ЕСТ ТакСеСКЛ\n"
     ]
    }
   ],
   "source": [
    "input_string = \"МИНИМУМ ТЕСТ ТакСеСКЛ\"\n",
    "words = input_string.split()\n",
    "result = []\n",
    "for word in words:\n",
    "    last_letter = word[-1]\n",
    "    transformed_word = word[:-1].replace(last_letter, '.') + last_letter\n",
    "    result.append(transformed_word)\n",
    "transformed_string = ' '.join(result)\n",
    "print(transformed_string)\n"
   ]
  },
  {
   "cell_type": "code",
   "execution_count": 1,
   "metadata": {},
   "outputs": [
    {
     "name": "stdout",
     "output_type": "stream",
     "text": [
      "МИНИ.У. МАМ. ПАП.\n"
     ]
    }
   ],
   "source": [
    "input_string = \"МИНИМУМ     МАМА   ПАПА\"\n",
    "words = input_string.split()  # Разделяем строку на слова\n",
    "result = []  # Создаем пустой список для результата\n",
    "for word in words:\n",
    "    last_letter = word[-1]  # Получаем последнюю букву слова\n",
    "    transformed_word = word[::-1].replace(last_letter, '.', word.count(last_letter) - 1)[::-1]\n",
    "    result.append(transformed_word)  # Добавляем преобразованное слово в список результата\n",
    "\n",
    "output_string = ' '.join(result)  # Объединяем преобразованные слова обратно в строку с пробелами\n",
    "print(output_string)  # Выведет: \".ИНИ.УМ .А.А .А.А\"\n"
   ]
  },
  {
   "cell_type": "code",
   "execution_count": 5,
   "metadata": {},
   "outputs": [
    {
     "name": "stdout",
     "output_type": "stream",
     "text": [
      "МИНИ.У. МАМ. ПАП.\n"
     ]
    }
   ],
   "source": [
    "input_string = \"МИНИМУМ     МАМА ПАПА\"\n",
    "words = input_string.split()  # Разделяем строку на слова\n",
    "result = []  # Создаем пустой список для результата\n",
    "for word in words:\n",
    "    last_letter = word[-1]  # Получаем последнюю букву слова\n",
    "    transformed_word = word[::-1].replace(last_letter, '.', word.count(last_letter) - 1)[::-1]\n",
    "    result.append(transformed_word)  # Добавляем преобразованное слово в список результата\n",
    "\n",
    "output_string = ' '.join(result)  # Объединяем преобразованные слова обратно в строку с пробелами\n",
    "print(output_string)  # Выведет: \".ИНИ.УМ АМАМ АПАП\"\n"
   ]
  },
  {
   "cell_type": "code",
   "execution_count": 6,
   "metadata": {},
   "outputs": [
    {
     "name": "stdout",
     "output_type": "stream",
     "text": [
      "МИНИМУММАМАПАПА\n"
     ]
    }
   ],
   "source": [
    "input_string = \"МИНИМУМ МАМА ПАПА\"\n",
    "words = input_string.split()  # Разделяем строку на слова\n",
    "result = []  # Создаем пустой список для результата\n",
    "for word in words:\n",
    "    last_letter = word[-1]  # Получаем последнюю букву слова\n",
    "    transformed_word = word[::-1].replace(last_letter, '.', word.count(last_letter) - 1)[::-1]\n",
    "    result.append(transformed_word)  # Добавляем преобразованное слово в список результата\n",
    "\n",
    "output_string = ' '.join(result)\n",
    "# Добавляем пробелы обратно в соответствии с исходным количеством пробелов\n",
    "output_string = ''.join(c if c != ' ' else ' ' for c in input_string if c != ' ')\n",
    "print(output_string)  # Выведет: \".ИНИ.УМ АМАМ АПАП\"\n"
   ]
  },
  {
   "cell_type": "code",
   "execution_count": 1,
   "metadata": {},
   "outputs": [
    {
     "name": "stdout",
     "output_type": "stream",
     "text": [
      "МИНИМУМ ВЫВОД ПРЕОБРАЗОВАТЬ\n"
     ]
    }
   ],
   "source": [
    "def replace_last_letters(sentence):\n",
    "    words = sentence.split()\n",
    "    result = []\n",
    "    for word in words:\n",
    "        last_letter = ''\n",
    "        new_word = ''\n",
    "        for letter in word:\n",
    "            if letter.lower() == last_letter.lower():\n",
    "                new_word += '.'\n",
    "            else:\n",
    "                new_word += letter\n",
    "            last_letter = letter\n",
    "        result.append(new_word)\n",
    "    return ' '.join(result)\n",
    "\n",
    "input_sentence = \"МИНИМУМ   ВЫВОД   ПРЕОБРАЗОВАТЬ\"\n",
    "output_sentence = replace_last_letters(input_sentence)\n",
    "print(output_sentence)\n"
   ]
  },
  {
   "cell_type": "code",
   "execution_count": 3,
   "metadata": {},
   "outputs": [
    {
     "name": "stdout",
     "output_type": "stream",
     "text": [
      "МИНИМУМ  ВЫВОД  ПРЕОБРАЗОВАТЬ\n"
     ]
    }
   ],
   "source": [
    "def replace_last_letters(sentence):\n",
    "    words = sentence.split()\n",
    "    result = []\n",
    "    for word in words:\n",
    "        last_letter = ''\n",
    "        new_word = ''\n",
    "        for letter in word:\n",
    "            if letter.lower() == last_letter.lower():\n",
    "                new_word += '.'\n",
    "            else:\n",
    "                new_word += letter\n",
    "            last_letter = letter\n",
    "        result.append(new_word)\n",
    "        result.append('')  # добавляем пробел после каждого слова (кроме последнего)\n",
    "    result.pop()  # удаляем лишний пробел в конце строки\n",
    "    return ' '.join(result)\n",
    "\n",
    "input_sentence = \"МИНИМУМ   ВЫВОД  ПРЕОБРАЗОВАТЬ\"\n",
    "output_sentence = replace_last_letters(input_sentence)\n",
    "print(output_sentence)\n"
   ]
  },
  {
   "cell_type": "code",
   "execution_count": 8,
   "metadata": {},
   "outputs": [
    {
     "name": "stdout",
     "output_type": "stream",
     "text": [
      "МИНИМУМ   ВЫВОД  ПРЕОБРАЗОВАТЬ\n"
     ]
    }
   ],
   "source": [
    "input_sentence = \"МИНИМУМ   ВЫВОД  ПРЕОБРАЗОВАТЬ\"\n",
    "words = input_sentence.split(\" \")  # разделяем строку по пробелам\n",
    "result = []\n",
    "for word in words:\n",
    "    last_letter = '' \n",
    "    new_word = ''\n",
    "    for letter in word[::-1]:  \n",
    "        if letter.lower() == last_letter.lower():  \n",
    "            new_word = '.' + new_word  \n",
    "        else:\n",
    "            new_word = letter + new_word  \n",
    "        last_letter = letter  \n",
    "    result.append(new_word)\n",
    "output_sentence = ' '.join(result)  \n",
    "print(output_sentence)\n"
   ]
  }
 ],
 "metadata": {
  "kernelspec": {
   "display_name": "Python 3",
   "language": "python",
   "name": "python3"
  },
  "language_info": {
   "codemirror_mode": {
    "name": "ipython",
    "version": 3
   },
   "file_extension": ".py",
   "mimetype": "text/x-python",
   "name": "python",
   "nbconvert_exporter": "python",
   "pygments_lexer": "ipython3",
   "version": "3.10.7"
  }
 },
 "nbformat": 4,
 "nbformat_minor": 2
}
