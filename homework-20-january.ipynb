{
 "cells": [
  {
   "cell_type": "code",
   "execution_count": 4,
   "metadata": {},
   "outputs": [
    {
     "ename": "IndexError",
     "evalue": "string index out of range",
     "output_type": "error",
     "traceback": [
      "\u001b[1;31m---------------------------------------------------------------------------\u001b[0m",
      "\u001b[1;31mIndexError\u001b[0m                                Traceback (most recent call last)",
      "Cell \u001b[1;32mIn[4], line 3\u001b[0m\n\u001b[0;32m      1\u001b[0m \u001b[38;5;66;03m#1\u001b[39;00m\n\u001b[0;32m      2\u001b[0m s \u001b[38;5;241m=\u001b[39m \u001b[38;5;28minput\u001b[39m(\u001b[38;5;124m'\u001b[39m\u001b[38;5;124mВведите строку: \u001b[39m\u001b[38;5;124m'\u001b[39m)\n\u001b[1;32m----> 3\u001b[0m \u001b[38;5;28mprint\u001b[39m(\u001b[43ms\u001b[49m\u001b[43m[\u001b[49m\u001b[38;5;241;43m0\u001b[39;49m\u001b[43m]\u001b[49m, s[\u001b[38;5;241m-\u001b[39m\u001b[38;5;241m1\u001b[39m],sep\u001b[38;5;241m=\u001b[39m\u001b[38;5;124m'\u001b[39m\u001b[38;5;124m-\u001b[39m\u001b[38;5;124m'\u001b[39m)\n",
      "\u001b[1;31mIndexError\u001b[0m: string index out of range"
     ]
    }
   ],
   "source": [
    "#1\n",
    "s = input('Введите строку: ')\n",
    "print(s[0], s[-1],sep='-')"
   ]
  },
  {
   "cell_type": "code",
   "execution_count": 3,
   "metadata": {},
   "outputs": [],
   "source": [
    "import antigravity\n"
   ]
  },
  {
   "cell_type": "code",
   "execution_count": null,
   "metadata": {},
   "outputs": [
    {
     "name": "stdout",
     "output_type": "stream",
     "text": [
      "лэоаит\n"
     ]
    }
   ],
   "source": [
    "#2\n",
    "s = input('Введите строку(не менее 15 символов): ')\n",
    "result = s[2:14:2]\n",
    "print(result)"
   ]
  },
  {
   "cell_type": "code",
   "execution_count": null,
   "metadata": {},
   "outputs": [
    {
     "name": "stdout",
     "output_type": "stream",
     "text": [
      "Да\n"
     ]
    }
   ],
   "source": [
    "#3\n",
    "name1 = input('Введите первый город: ')\n",
    "name2 = input('Введите второй город: ')\n",
    "if name1[-1].upper() == name2[0].upper():\n",
    "    print('Да')\n",
    "else:\n",
    "    print('Нет')\n"
   ]
  },
  {
   "cell_type": "code",
   "execution_count": null,
   "metadata": {},
   "outputs": [
    {
     "name": "stdout",
     "output_type": "stream",
     "text": [
      "Возможно, к новому обновлению ошибку устранят.\n"
     ]
    }
   ],
   "source": [
    "#4\n",
    "text = \"Возможно, к новому обновлению(но это неточно) ошибку устранят.\"\n",
    "name1 = text.find('(')\n",
    "name2 = text.find(')')\n",
    "result = text[0:name1] + text[name2+1:]\n",
    "print(result)"
   ]
  },
  {
   "cell_type": "code",
   "execution_count": null,
   "metadata": {},
   "outputs": [],
   "source": [
    "#5\n",
    "s = input(\"Введите строку: \")\n",
    "n = int(input(\"Введите натуральное число: \"))\n",
    "\n",
    "if n <= len(s):\n",
    "    result = s\n",
    "else:\n",
    "    diff = n - len(s)\n",
    "    left = diff // 2\n",
    "    right = diff - left\n",
    "    result = s[0]*left + s + s[-1]*right\n",
    "    if len(result) < n:\n",
    "        result += '.'\n",
    "\n",
    "print(result)\n"
   ]
  },
  {
   "cell_type": "code",
   "execution_count": null,
   "metadata": {},
   "outputs": [
    {
     "name": "stdout",
     "output_type": "stream",
     "text": [
      "Количество гласных:14\n",
      "Количество согласных:17\n"
     ]
    }
   ],
   "source": [
    "#6\n",
    "s = input('Введите строку: ')\n",
    "vowels = 'ауеияыэюоё'\n",
    "consonants = 'йцкнгшщзхфвпрлджчсмтб'\n",
    "count_vowels = 0 \n",
    "count_consonants = 0\n",
    "for char in s:\n",
    "    if char in vowels:\n",
    "        count_vowels += 1\n",
    "    if char in consonants:\n",
    "        count_consonants += 1\n",
    "print(f'Количество гласных:{count_vowels}')\n",
    "print(f'Количество согласных:{count_consonants}')"
   ]
  },
  {
   "cell_type": "code",
   "execution_count": 7,
   "metadata": {},
   "outputs": [
    {
     "name": "stdout",
     "output_type": "stream",
     "text": [
      "на\n"
     ]
    }
   ],
   "source": [
    "sentence = \"Это строка на данном языке но\"\n",
    "words = sentence.split()\n",
    "shortest_word = min(words, key=len)\n",
    "print(shortest_word)\n"
   ]
  },
  {
   "cell_type": "code",
   "execution_count": 4,
   "metadata": {},
   "outputs": [
    {
     "name": "stdout",
     "output_type": "stream",
     "text": [
      "языке. русском на строка данная Это\n"
     ]
    }
   ],
   "source": [
    "input_string = \"Это данная строка на русском языке.\"\n",
    "words = input_string.split()\n",
    "reversed_string = ' '.join(reversed(words))\n",
    "print(reversed_string)\n"
   ]
  },
  {
   "cell_type": "code",
   "execution_count": 13,
   "metadata": {},
   "outputs": [
    {
     "name": "stdout",
     "output_type": "stream",
     "text": [
      ".ИНИ.У. .ЕС. ТакСеСК.\n"
     ]
    }
   ],
   "source": [
    "input_string = \"МИНИМУМ ТЕСТ ТакСеСКЛ\"\n",
    "words = input_string.split()\n",
    "result = []\n",
    "\n",
    "for word in words:\n",
    "    last_letter = word[-1]\n",
    "    modified_word = \"\"\n",
    "    for char in word:\n",
    "        if char.lower() == last_letter.lower():\n",
    "            modified_word += \".\"\n",
    "        else:\n",
    "            modified_word += char\n",
    "    result.append(modified_word)\n",
    "\n",
    "output_string = \" \".join(result)\n",
    "print(output_string)\n"
   ]
  },
  {
   "cell_type": "code",
   "execution_count": 14,
   "metadata": {},
   "outputs": [
    {
     "name": "stdout",
     "output_type": "stream",
     "text": [
      ".ини.ум\n"
     ]
    }
   ],
   "source": [
    "word = \"минимум\"\n",
    "last_letter = word[-1]\n",
    "transformed_word = word[:-1].replace(last_letter, '.') + last_letter\n",
    "print(transformed_word)\n"
   ]
  },
  {
   "cell_type": "code",
   "execution_count": 16,
   "metadata": {},
   "outputs": [
    {
     "name": "stdout",
     "output_type": "stream",
     "text": [
      ".ИНИ.УМ .ЕСТ ТакСеСКЛ\n"
     ]
    }
   ],
   "source": [
    "input_string = \"МИНИМУМ ТЕСТ ТакСеСКЛ\"\n",
    "words = input_string.split()\n",
    "result = []\n",
    "for word in words:\n",
    "    last_letter = word[-1]\n",
    "    transformed_word = word[:-1].replace(last_letter, '.') + last_letter\n",
    "    result.append(transformed_word)\n",
    "transformed_string = ' '.join(result)\n",
    "print(transformed_string)\n"
   ]
  },
  {
   "cell_type": "code",
   "execution_count": 1,
   "metadata": {},
   "outputs": [
    {
     "name": "stdout",
     "output_type": "stream",
     "text": [
      "МИНИ.У. МАМ. ПАП.\n"
     ]
    }
   ],
   "source": [
    "input_string = \"МИНИМУМ     МАМА   ПАПА\"\n",
    "words = input_string.split()  # Разделяем строку на слова\n",
    "result = []  # Создаем пустой список для результата\n",
    "for word in words:\n",
    "    last_letter = word[-1]  # Получаем последнюю букву слова\n",
    "    transformed_word = word[::-1].replace(last_letter, '.', word.count(last_letter) - 1)[::-1]\n",
    "    result.append(transformed_word)  # Добавляем преобразованное слово в список результата\n",
    "\n",
    "output_string = ' '.join(result)  # Объединяем преобразованные слова обратно в строку с пробелами\n",
    "print(output_string)  # Выведет: \".ИНИ.УМ .А.А .А.А\"\n"
   ]
  },
  {
   "cell_type": "code",
   "execution_count": 5,
   "metadata": {},
   "outputs": [
    {
     "name": "stdout",
     "output_type": "stream",
     "text": [
      "МИНИ.У. МАМ. ПАП.\n"
     ]
    }
   ],
   "source": [
    "input_string = \"МИНИМУМ     МАМА ПАПА\"\n",
    "words = input_string.split()  # Разделяем строку на слова\n",
    "result = []  # Создаем пустой список для результата\n",
    "for word in words:\n",
    "    last_letter = word[-1]  # Получаем последнюю букву слова\n",
    "    transformed_word = word[::-1].replace(last_letter, '.', word.count(last_letter) - 1)[::-1]\n",
    "    result.append(transformed_word)  # Добавляем преобразованное слово в список результата\n",
    "\n",
    "output_string = ' '.join(result)  # Объединяем преобразованные слова обратно в строку с пробелами\n",
    "print(output_string)  # Выведет: \".ИНИ.УМ АМАМ АПАП\"\n"
   ]
  },
  {
   "cell_type": "code",
   "execution_count": 6,
   "metadata": {},
   "outputs": [
    {
     "name": "stdout",
     "output_type": "stream",
     "text": [
      "МИНИМУММАМАПАПА\n"
     ]
    }
   ],
   "source": [
    "input_string = \"МИНИМУМ МАМА ПАПА\"\n",
    "words = input_string.split()  # Разделяем строку на слова\n",
    "result = []  # Создаем пустой список для результата\n",
    "for word in words:\n",
    "    last_letter = word[-1]  # Получаем последнюю букву слова\n",
    "    transformed_word = word[::-1].replace(last_letter, '.', word.count(last_letter) - 1)[::-1]\n",
    "    result.append(transformed_word)  # Добавляем преобразованное слово в список результата\n",
    "\n",
    "output_string = ' '.join(result)\n",
    "# Добавляем пробелы обратно в соответствии с исходным количеством пробелов\n",
    "output_string = ''.join(c if c != ' ' else ' ' for c in input_string if c != ' ')\n",
    "print(output_string)  # Выведет: \".ИНИ.УМ АМАМ АПАП\"\n"
   ]
  },
  {
   "cell_type": "code",
   "execution_count": 1,
   "metadata": {},
   "outputs": [
    {
     "name": "stdout",
     "output_type": "stream",
     "text": [
      "МИНИМУМ ВЫВОД ПРЕОБРАЗОВАТЬ\n"
     ]
    }
   ],
   "source": [
    "def replace_last_letters(sentence):\n",
    "    words = sentence.split()\n",
    "    result = []\n",
    "    for word in words:\n",
    "        last_letter = ''\n",
    "        new_word = ''\n",
    "        for letter in word:\n",
    "            if letter.lower() == last_letter.lower():\n",
    "                new_word += '.'\n",
    "            else:\n",
    "                new_word += letter\n",
    "            last_letter = letter\n",
    "        result.append(new_word)\n",
    "    return ' '.join(result)\n",
    "\n",
    "input_sentence = \"МИНИМУМ   ВЫВОД   ПРЕОБРАЗОВАТЬ\"\n",
    "output_sentence = replace_last_letters(input_sentence)\n",
    "print(output_sentence)\n"
   ]
  },
  {
   "cell_type": "code",
   "execution_count": 3,
   "metadata": {},
   "outputs": [
    {
     "name": "stdout",
     "output_type": "stream",
     "text": [
      "МИНИМУМ  ВЫВОД  ПРЕОБРАЗОВАТЬ\n"
     ]
    }
   ],
   "source": [
    "def replace_last_letters(sentence):\n",
    "    words = sentence.split()\n",
    "    result = []\n",
    "    for word in words:\n",
    "        last_letter = ''\n",
    "        new_word = ''\n",
    "        for letter in word:\n",
    "            if letter.lower() == last_letter.lower():\n",
    "                new_word += '.'\n",
    "            else:\n",
    "                new_word += letter\n",
    "            last_letter = letter\n",
    "        result.append(new_word)\n",
    "        result.append('')  # добавляем пробел после каждого слова (кроме последнего)\n",
    "    result.pop()  # удаляем лишний пробел в конце строки\n",
    "    return ' '.join(result)\n",
    "\n",
    "input_sentence = \"МИНИМУМ   ВЫВОД  ПРЕОБРАЗОВАТЬ\"\n",
    "output_sentence = replace_last_letters(input_sentence)\n",
    "print(output_sentence)\n"
   ]
  },
  {
   "cell_type": "code",
   "execution_count": 8,
   "metadata": {},
   "outputs": [
    {
     "name": "stdout",
     "output_type": "stream",
     "text": [
      "МИНИМУМ   ВЫВОД  ПРЕОБРАЗОВАТЬ\n"
     ]
    }
   ],
   "source": [
    "input_sentence = \"МИНИМУМ   ВЫВОД  ПРЕОБРАЗОВАТЬ\"\n",
    "words = input_sentence.split(\" \")  # разделяем строку по пробелам\n",
    "result = []\n",
    "for word in words:\n",
    "    last_letter = '' \n",
    "    new_word = ''\n",
    "    for letter in word[::-1]:  \n",
    "        if letter.lower() == last_letter.lower():  \n",
    "            new_word = '.' + new_word  \n",
    "        else:\n",
    "            new_word = letter + new_word  \n",
    "        last_letter = letter  \n",
    "    result.append(new_word)\n",
    "output_sentence = ' '.join(result)  \n",
    "print(output_sentence)\n"
   ]
  },
  {
   "cell_type": "code",
   "execution_count": 5,
   "metadata": {},
   "outputs": [
    {
     "name": "stdout",
     "output_type": "stream",
     "text": [
      "Это пример строки на языке Python\n"
     ]
    }
   ],
   "source": [
    "#2.2.1\n",
    "s = 'Это    пример    строки    на  языке Python'.split()\n",
    "stroka = ' '.join(s)\n",
    "print(stroka)"
   ]
  },
  {
   "cell_type": "code",
   "execution_count": 10,
   "metadata": {},
   "outputs": [
    {
     "name": "stdout",
     "output_type": "stream",
     "text": [
      "на\n"
     ]
    }
   ],
   "source": [
    "#2.2.2\n",
    "n = 3\n",
    "s = 'Это    пример    строки    на  языке Python'.split()\n",
    "stroka = ' '.join(s)\n",
    "name = s[n]\n",
    "print(name)"
   ]
  },
  {
   "cell_type": "code",
   "execution_count": 14,
   "metadata": {},
   "outputs": [
    {
     "name": "stdout",
     "output_type": "stream",
     "text": [
      "Python языке на строки пример Это\n"
     ]
    }
   ],
   "source": [
    "#2.2.3\n",
    "s = 'Это    пример    строки    на  языке Python'.split()\n",
    "s = reversed(s)\n",
    "stroka = ' '.join(s)\n",
    "print(stroka)"
   ]
  },
  {
   "cell_type": "code",
   "execution_count": 49,
   "metadata": {},
   "outputs": [
    {
     "name": "stdout",
     "output_type": "stream",
     "text": [
      "['1', '0', '3']\n"
     ]
    }
   ],
   "source": [
    "#2.2.4\n",
    "s = '1 11 0 3 120'.split()\n",
    "list_1 = []\n",
    "for char in s:\n",
    "    if int(char) < 10:\n",
    "        list_1.append(char)\n",
    "print(list_1)"
   ]
  },
  {
   "cell_type": "code",
   "execution_count": 27,
   "metadata": {},
   "outputs": [
    {
     "name": "stdout",
     "output_type": "stream",
     "text": [
      "3\n"
     ]
    }
   ],
   "source": [
    "#2.2.5\n",
    "surnames = [\"Иванов\", \n",
    "            \"Петров\", \n",
    "            \"Сидоров\", \n",
    "            \"Смирнов\", \n",
    "            \"Иванов\", \n",
    "            \"Козлов\", \n",
    "            \"Петров\", \n",
    "            \"Сидоров\"]\n",
    "surname_counts = []\n",
    "count = 0\n",
    "for surname in surnames:\n",
    "    if surname in surname_counts:\n",
    "        count +=1\n",
    "        surname_counts.append(surname)\n",
    "    else:\n",
    "        surname_counts.append(surname)\n",
    "print(count)\n"
   ]
  },
  {
   "cell_type": "code",
   "execution_count": 50,
   "metadata": {},
   "outputs": [
    {
     "ename": "TypeError",
     "evalue": "'list' object is not callable",
     "output_type": "error",
     "traceback": [
      "\u001b[1;31m---------------------------------------------------------------------------\u001b[0m",
      "\u001b[1;31mTypeError\u001b[0m                                 Traceback (most recent call last)",
      "Cell \u001b[1;32mIn[50], line 4\u001b[0m\n\u001b[0;32m      2\u001b[0m str1 \u001b[38;5;241m=\u001b[39m \u001b[38;5;28minput\u001b[39m(\u001b[38;5;124m\"\u001b[39m\u001b[38;5;124mВведите первую строку чисел через пробел: \u001b[39m\u001b[38;5;124m\"\u001b[39m)\n\u001b[0;32m      3\u001b[0m str2 \u001b[38;5;241m=\u001b[39m \u001b[38;5;28minput\u001b[39m(\u001b[38;5;124m\"\u001b[39m\u001b[38;5;124mВведите вторую строку чисел через пробел: \u001b[39m\u001b[38;5;124m\"\u001b[39m)\n\u001b[1;32m----> 4\u001b[0m list1 \u001b[38;5;241m=\u001b[39m \u001b[38;5;28;43mlist\u001b[39;49m\u001b[43m(\u001b[49m\u001b[38;5;28;43mmap\u001b[39;49m\u001b[43m(\u001b[49m\u001b[38;5;28;43mint\u001b[39;49m\u001b[43m,\u001b[49m\u001b[43m \u001b[49m\u001b[43mstr1\u001b[49m\u001b[38;5;241;43m.\u001b[39;49m\u001b[43msplit\u001b[49m\u001b[43m(\u001b[49m\u001b[43m)\u001b[49m\u001b[43m)\u001b[49m\u001b[43m)\u001b[49m\n\u001b[0;32m      5\u001b[0m list2 \u001b[38;5;241m=\u001b[39m \u001b[38;5;28mlist\u001b[39m(\u001b[38;5;28mmap\u001b[39m(\u001b[38;5;28mint\u001b[39m, str2\u001b[38;5;241m.\u001b[39msplit()))\n\u001b[0;32m      6\u001b[0m common_list \u001b[38;5;241m=\u001b[39m list1 \u001b[38;5;241m+\u001b[39m list2\n",
      "\u001b[1;31mTypeError\u001b[0m: 'list' object is not callable"
     ]
    }
   ],
   "source": [
    "#2.2.6\n",
    "str1 = input(\"Введите первую строку чисел через пробел: \")\n",
    "str2 = input(\"Введите вторую строку чисел через пробел: \")\n",
    "list1 = list(map(int, str1.split()))\n",
    "list2 = list(map(int, str2.split()))\n",
    "common_list = list1 + list2\n",
    "\n",
    "n = len(common_list)\n",
    "for i in range(n-1):\n",
    "    for j in range(n-1):\n",
    "        if common_list[j] > common_list[j+1]:\n",
    "            common_list[j], common_list[j+1] = common_list[j+1], common_list[j]\n",
    "\n",
    "print(common_list)\n",
    "\n",
    "\n"
   ]
  }
 ],
 "metadata": {
  "kernelspec": {
   "display_name": "Python 3",
   "language": "python",
   "name": "python3"
  },
  "language_info": {
   "codemirror_mode": {
    "name": "ipython",
    "version": 3
   },
   "file_extension": ".py",
   "mimetype": "text/x-python",
   "name": "python",
   "nbconvert_exporter": "python",
   "pygments_lexer": "ipython3",
   "version": "3.10.7"
  }
 },
 "nbformat": 4,
 "nbformat_minor": 2
}
