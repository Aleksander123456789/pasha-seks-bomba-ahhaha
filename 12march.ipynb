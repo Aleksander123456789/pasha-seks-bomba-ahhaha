{
 "cells": [
  {
   "cell_type": "code",
   "execution_count": 5,
   "metadata": {},
   "outputs": [
    {
     "name": "stdout",
     "output_type": "stream",
     "text": [
      "!\n",
      "r\n",
      "!\n"
     ]
    }
   ],
   "source": [
    "#1 Дана квадратная матрица целых чисел. Найти количество строк матрицы, которые состоят из одних нулей\n",
    "# Пример матрицы\n",
    "matrix = [\n",
    "    [0, 0, 0],\n",
    "    [1, 0, 0],\n",
    "    [0, 0, 0],\n",
    "    [0, 0, 0]\n",
    "]\n",
    "\n",
    "count_zero_rows = 0\n",
    "\n",
    "for row in matrix:\n",
    "    if all(element == 0 for element in row):  \n",
    "        count_zero_rows += 1\n",
    "\n",
    "print(\"Количество строк с нулями:\", count_zero_rows)\n"
   ]
  },
  {
   "cell_type": "code",
   "execution_count": 2,
   "metadata": {},
   "outputs": [
    {
     "name": "stdout",
     "output_type": "stream",
     "text": [
      "Количество строк без нулей: 1\n"
     ]
    }
   ],
   "source": [
    "#2 Дана квадратная матрица целых чисел. Найти количество строк матрицы, которые не содержат ни одного нуля\n",
    "matrix = [\n",
    "    [0, 0, 0],\n",
    "    [1, 0, 0],\n",
    "    [1, 1, 1],\n",
    "]\n",
    "count_not_zero_rows = 0\n",
    "for row in matrix:\n",
    "    if all(element != 0 for element in row):\n",
    "        count_not_zero_rows += 1\n",
    "print(f'Количество строк без нулей: {count_not_zero_rows}')"
   ]
  },
  {
   "cell_type": "code",
   "execution_count": 4,
   "metadata": {},
   "outputs": [
    {
     "name": "stdout",
     "output_type": "stream",
     "text": [
      "Количество строк, содержащих хотя-бы один нуль: 2\n"
     ]
    }
   ],
   "source": [
    "#3 Дана квадратная матрица целых чисел. Найти количество строк матрицы, которые содержат хотябы один нуль.\n",
    "matrix = [\n",
    "    [0, 0, 0],\n",
    "    [1, 0, 0],\n",
    "    [1, 1, 1],\n",
    "]\n",
    "count = 0\n",
    "for row in matrix:\n",
    "    if row[0] == 0 or row[1] == 0 or row[2] == 0:\n",
    "            count += 1\n",
    "print(f'Количество строк, содержащих хотя-бы один нуль: {count}')"
   ]
  },
  {
   "cell_type": "code",
   "execution_count": 3,
   "metadata": {},
   "outputs": [
    {
     "name": "stdout",
     "output_type": "stream",
     "text": [
      "Количество стобцов: 3\n"
     ]
    }
   ],
   "source": [
    "#4 Дана квадратная матрица целых чисел. Найти количество столбцов матрицы, в которых количество нулей больше половины количества элементов в столбце\n",
    "m = [\n",
    "            [1, 2, 3, 4],\n",
    "            [0, 0, 0, 6],\n",
    "            [5, 0, 0, 8],\n",
    "            [0, 0, 0, 6],\n",
    "            [0, 3, 3, 9]\n",
    "        ]\n",
    "num_columns = len(m[0])\n",
    "count = 0\n",
    "for col in range(num_columns):\n",
    "    zero_count = 0\n",
    "    for row in range(len(m)):\n",
    "        if m[row][col] == 0:\n",
    "            zero_count += 1\n",
    "    if zero_count > len(m) / 2:\n",
    "        count += 1\n",
    "print(f'Количество стобцов: {count}')"
   ]
  },
  {
   "cell_type": "code",
   "execution_count": 11,
   "metadata": {},
   "outputs": [
    {
     "name": "stdout",
     "output_type": "stream",
     "text": [
      "Номер строк с единицами: [1, 2]\n"
     ]
    }
   ],
   "source": [
    "#5 Дана квадратная матрица. Определить номера строк матрицы, которые состоят из одних единиц.\n",
    "matrix = [\n",
    "    [0, 0, 0],\n",
    "    [1, 1, 1],\n",
    "    [1, 1, 1],\n",
    "]\n",
    "total = []\n",
    "for row in range(len(matrix)):\n",
    "    if all(element == 1 for element in matrix[row]):\n",
    "        total.append(row)\n",
    "print(f'Номер строк с единицами: {total}')"
   ]
  },
  {
   "cell_type": "code",
   "execution_count": 14,
   "metadata": {},
   "outputs": [
    {
     "name": "stdout",
     "output_type": "stream",
     "text": [
      "Номер строк с положительными числами: [0, 2]\n"
     ]
    }
   ],
   "source": [
    "#6 Дана квадратная матрица. Определить номера строк матрицы, которые не содержат ни одного отрицательного элемента.\n",
    "matrix = [\n",
    "    [0, 0, 0],\n",
    "    [-1, 1, 1],\n",
    "    [1, 1, 1],\n",
    "]\n",
    "total = []\n",
    "for row in range(len(matrix)):\n",
    "    if all(element >= 0 for element in matrix[row]):\n",
    "        total.append(row)\n",
    "print(f'Номер строк с положительными числами: {total}')\n"
   ]
  },
  {
   "cell_type": "code",
   "execution_count": 17,
   "metadata": {},
   "outputs": [
    {
     "name": "stdout",
     "output_type": "stream",
     "text": [
      "Номера столбцов, которые содержат хотя бы один положительный элемент: [1, 2]\n"
     ]
    }
   ],
   "source": [
    "#7 Дана квадратная матрица. Определить номера столбцов матрицы, которые  содержат хотя бы один положительный элемент.\n",
    "matrix = [\n",
    "    [-1, -1, -1],\n",
    "    [-1, 1, 1],\n",
    "    [-100, 1, 1],\n",
    "]\n",
    "total = []\n",
    "for j in range(len(matrix[0])):\n",
    "    for i in range(len(matrix)):\n",
    "        if matrix [i][j] > 0:\n",
    "            total.append(j)\n",
    "            break\n",
    "print(f'Номера столбцов, которые содержат хотя бы один положительный элемент: {total}')"
   ]
  },
  {
   "cell_type": "code",
   "execution_count": 18,
   "metadata": {},
   "outputs": [
    {
     "name": "stdout",
     "output_type": "stream",
     "text": [
      "Являются\n"
     ]
    }
   ],
   "source": [
    "#8 Дана квадратная матрица. Определить, являются ли все элементы матрицы нулями\n",
    "matrix = [\n",
    "    [0, 0, 0],\n",
    "    [0, 0, 0],\n",
    "    [0, 0, 0],\n",
    "]\n",
    "all_zeroes = all(all(element == 0 for element in row) for row in matrix)\n",
    "if all_zeroes:\n",
    "    print('Являются')\n",
    "else:\n",
    "    print('Не являются')"
   ]
  },
  {
   "cell_type": "code",
   "execution_count": 19,
   "metadata": {},
   "outputs": [
    {
     "name": "stdout",
     "output_type": "stream",
     "text": [
      "Все элементы матрицы, кроме элементов на главной диагонали, равны нулю\n"
     ]
    }
   ],
   "source": [
    "#9 Дана квадратная матрица. Определить, являются ли все элементы матрицы нулями кроме элементов главной диагонали\n",
    "matrix = [\n",
    "    [2, 0, 0],\n",
    "    [0, 3, 0],\n",
    "    [0, 0, 4]\n",
    "]\n",
    "diagonal = True\n",
    "for i in range(len(matrix)):\n",
    "    for j in range(len(matrix)):\n",
    "        if matrix[i][j] != 0 and i != j:\n",
    "            diagonal = False\n",
    "if diagonal:\n",
    "    print(\"Все элементы матрицы, кроме элементов на главной диагонали, равны нулю\")\n",
    "else:\n",
    "    print(\"Есть не нулевые элементы в матрице, кроме элементов на главной диагонали\")\n",
    "    \n"
   ]
  },
  {
   "cell_type": "code",
   "execution_count": 1,
   "metadata": {},
   "outputs": [
    {
     "name": "stdout",
     "output_type": "stream",
     "text": [
      "Все элементы матрицы, кроме элементов на главной диагонали, равны нулю и элементы на главной диагонали равны единице\n"
     ]
    }
   ],
   "source": [
    "#10 Дана квадратная матрица. Определить, являются ли все элементы матрицы нулями, а элементы на главной диагонали единицами?\n",
    "matrix = [\n",
    "    [1, 0, 0],\n",
    "    [0, 1, 0],\n",
    "    [0, 0, 1]\n",
    "]\n",
    "diagonal = True\n",
    "\n",
    "for i in range(len(matrix)):\n",
    "    for j in range(len(matrix)):\n",
    "        if (i != j and matrix[i][j] != 0) or (i == j and matrix[i][j] != 1):\n",
    "            diagonal = False\n",
    "\n",
    "if diagonal:\n",
    "    print(\"Все элементы матрицы, кроме элементов на главной диагонали, равны нулю и элементы на главной диагонали равны единице\")\n",
    "else:\n",
    "    print(\"Есть не нулевые элементы в матрице, кроме элементов на главной диагонали или элементы на главной диагонали не равны единице\")\n"
   ]
  },
  {
   "cell_type": "code",
   "execution_count": 4,
   "metadata": {},
   "outputs": [
    {
     "name": "stdout",
     "output_type": "stream",
     "text": [
      "True\n"
     ]
    }
   ],
   "source": [
    "#11 Дана квадратная матрица. Определить, образует ли количество нулей в строках матрицы неубывающую последовательность чисел/\n",
    "m = [\n",
    "    [1, 0, 2],\n",
    "    [0, 1, 0],\n",
    "    [0, 0, 0],\n",
    "]\n",
    "\n",
    "nula = []\n",
    "a = 0\n",
    "for row in m:\n",
    "    for col in row:\n",
    "        if col == 0:\n",
    "            a += 1\n",
    "    else:\n",
    "        nula.append(a)\n",
    "        a = 0\n",
    "\n",
    "if nula == list(sorted(nula)):\n",
    "    print(True)\n",
    "else:\n",
    "    print(False)"
   ]
  },
  {
   "cell_type": "code",
   "execution_count": null,
   "metadata": {},
   "outputs": [],
   "source": [
    "#12\n",
    "m = [\n",
    "        [1, 0, 0],\n",
    "        [0, 2, 0],\n",
    "        [0, 0, 3],\n",
    "    ]\n",
    "nula = []\n",
    "\n",
    "for row in m:\n",
    "    nula.append(sum(row))\n",
    "if nula == list(sorted(nula)):\n",
    "    print(True)\n",
    "else:\n",
    "    print(False)\n"
   ]
  },
  {
   "cell_type": "code",
   "execution_count": null,
   "metadata": {},
   "outputs": [],
   "source": [
    "#13\n",
    "m = [\n",
    "        [1, 0, 0],\n",
    "        [0, 2, 0],\n",
    "        [0, 0, 1],\n",
    "    ]\n",
    "nula = [0 for i in range(len(m[0]))]\n",
    "\n",
    "for col in range(len(m[0])):\n",
    "    for row in range(len(m)):\n",
    "        nula[col] += m[row][col]\n",
    "if nula == nula[::-1]:\n",
    "    print(True)\n",
    "else:\n",
    "    print(False)"
   ]
  },
  {
   "cell_type": "code",
   "execution_count": null,
   "metadata": {},
   "outputs": [],
   "source": [
    "#14\n",
    "m = [\n",
    "        [1, 0, 0],\n",
    "        [0, 1, 0],\n",
    "        [0, 0, 1],\n",
    "    ]\n",
    "nula = [0 for i in range(len(m[0]))]\n",
    "\n",
    "for col in range(len(m[0])):\n",
    "    for row in range(len(m)):\n",
    "        nula[col] += m[row][col]\n",
    "\n",
    "if len(set(nula)) == 1:\n",
    "    print(True)\n",
    "else:\n",
    "    print(False)"
   ]
  },
  {
   "cell_type": "code",
   "execution_count": null,
   "metadata": {},
   "outputs": [],
   "source": [
    "#15\n",
    "matrix1 = [\n",
    "        [2, 3, 5, 7],\n",
    "        [4, 5, 6, 8],\n",
    "        [7, 8, 9, 10],\n",
    "        [11, 12, 13, 14]\n",
    "    ]\n",
    "\n",
    "matrix = [\n",
    "        [11, 0, 0, 0],\n",
    "        [0, 0, 0, 0],\n",
    "        [0, 0, 0, 0],\n",
    "        [0, 0, 0, 0]\n",
    "        ]\n",
    "\n",
    "\n",
    "\n",
    "def is_prime(num):\n",
    "    if num < 2:\n",
    "        return False\n",
    "    for i in range(2, int(num**0.5) + 1):\n",
    "        if num % i == 0:\n",
    "            return False\n",
    "    return True\n",
    "n = len(matrix)\n",
    "count = 0\n",
    "\n",
    "for i in range(n):\n",
    "    for j in range(i, n):\n",
    "        for k in range(i, j + 1):\n",
    "            if is_prime(matrix[k][j]) and is_prime(matrix[i][k]):\n",
    "                count += 1\n",
    "\n",
    "print(count)"
   ]
  },
  {
   "cell_type": "code",
   "execution_count": null,
   "metadata": {},
   "outputs": [],
   "source": [
    "def multy(number):\n",
    "    return number * 3\n",
    "number = int(input())\n",
    "result = multy(number)\n",
    "print(result)"
   ]
  },
  {
   "cell_type": "code",
   "execution_count": null,
   "metadata": {},
   "outputs": [],
   "source": [
    "def is_even(n):\n",
    "    if n % 2 == 0:\n",
    "        return True\n",
    "    else:\n",
    "        return False"
   ]
  },
  {
   "cell_type": "code",
   "execution_count": null,
   "metadata": {},
   "outputs": [],
   "source": [
    "def hello(name):\n",
    "    print(f'Hello, {name}!')"
   ]
  },
  {
   "cell_type": "code",
   "execution_count": null,
   "metadata": {},
   "outputs": [],
   "source": [
    "def hello_2(name, language):\n",
    "    if language == 'русский':\n",
    "        return f\"Привет, {name}!\"\n",
    "    else:\n",
    "        return f\"Hello, {name}!\""
   ]
  },
  {
   "cell_type": "code",
   "execution_count": null,
   "metadata": {},
   "outputs": [],
   "source": [
    "def hello_3(n: int,):\n",
    "    return 'Hello' * n"
   ]
  },
  {
   "cell_type": "code",
   "execution_count": null,
   "metadata": {},
   "outputs": [],
   "source": [
    "def div(n: int):\n",
    "    count = 0\n",
    "    for i in range(1, int(n) + 1):\n",
    "        if n % i == 0 :\n",
    "            count += 1 \n",
    "    \n",
    "\n",
    "    return count\n",
    "\n"
   ]
  },
  {
   "cell_type": "code",
   "execution_count": null,
   "metadata": {},
   "outputs": [],
   "source": [
    "def factorial(n):\n",
    "    total = 1\n",
    "    for i in range(1, n):\n",
    "        total *= i\n",
    "    return total"
   ]
  },
  {
   "cell_type": "code",
   "execution_count": null,
   "metadata": {},
   "outputs": [],
   "source": [
    "def series(n):\n",
    "    summa = 1\n",
    "    for i in range(1, n-1):\n",
    "        summa += i * i+1\n",
    "    return summa                           "
   ]
  },
  {
   "cell_type": "code",
   "execution_count": null,
   "metadata": {},
   "outputs": [],
   "source": [
    "def telephone(number):\n",
    "    if number.startswith('+7') and (len(number)-2) == 10 and number[2:].isdigit():\n",
    "        print(True)\n",
    "    else:\n",
    "        print(False)"
   ]
  },
  {
   "cell_type": "code",
   "execution_count": null,
   "metadata": {},
   "outputs": [],
   "source": [
    "def count_without_8(spisok):\n",
    "    count = 0\n",
    "    for _ in spisok:\n",
    "        if '8' in str(_):\n",
    "            pass\n",
    "        else:\n",
    "            count += 1\n",
    "    return count\n",
    "    \n"
   ]
  },
  {
   "cell_type": "code",
   "execution_count": null,
   "metadata": {},
   "outputs": [],
   "source": [
    "def final_price(price, discount):\n",
    "    discount = 1\n",
    "    total = price - price *  discount\n",
    "    return total\n"
   ]
  },
  {
   "cell_type": "code",
   "execution_count": null,
   "metadata": {},
   "outputs": [],
   "source": [
    "def min_max(pasha, f = 'min'):\n",
    "    if f == 'max':\n",
    "        salam = max(pasha)\n",
    "    if f == 'min':\n",
    "        salam = min(pasha)\n",
    "    \n",
    "    count = pasha.count(salam)\n",
    "    return count\n",
    "\n"
   ]
  },
  {
   "cell_type": "code",
   "execution_count": null,
   "metadata": {},
   "outputs": [],
   "source": [
    "def my_list(n, value):\n",
    "    yura = [value] * n\n",
    "    return yura\n"
   ]
  },
  {
   "cell_type": "code",
   "execution_count": null,
   "metadata": {},
   "outputs": [],
   "source": [
    "def num_correct(n: str):\n",
    "    total = list()\n",
    "    for i in n:\n",
    "        if 2<i<10:\n",
    "            total.append(i)\n",
    "    return total"
   ]
  },
  {
   "cell_type": "code",
   "execution_count": 1,
   "metadata": {},
   "outputs": [
    {
     "name": "stdout",
     "output_type": "stream",
     "text": [
      "[1, 2, 3, 5, 7]\n"
     ]
    }
   ],
   "source": [
    "def all_sort(*args):\n",
    "    sorted_list = sorted(args)\n",
    "    return sorted_list\n",
    "\n",
    "# Пример вызова функции:\n",
    "result = all_sort(5, 2, 7, 1, 3)\n",
    "print(result)  # Выведет [1, 2, 3, 5, 7]\n",
    "\n"
   ]
  },
  {
   "cell_type": "code",
   "execution_count": null,
   "metadata": {},
   "outputs": [],
   "source": [
    "def month(number, language = 'русский'):\n",
    "    months_ru = {\n",
    "        1: \"Январь\", 2: \"Февраль\", 3: \"Март\", 4: \"Апрель\",\n",
    "        5: \"Май\", 6: \"Июнь\", 7: \"Июль\", 8: \"Август\",\n",
    "        9: \"Сентябрь\", 10: \"Октябрь\", 11: \"Ноябрь\", 12: \"Декабрь\"\n",
    "    }\n",
    "\n",
    "    months_en = {\n",
    "        1: \"January\", 2: \"February\", 3: \"March\", 4: \"April\",\n",
    "        5: \"May\", 6: \"June\", 7: \"July\", 8: \"August\",\n",
    "        9: \"September\", 10: \"October\", 11: \"November\", 12: \"December\"\n",
    "    }\n",
    "    if language == 'русский':\n",
    "        return months_ru(number)\n",
    "    else:\n",
    "        return months_en(number)\n"
   ]
  },
  {
   "cell_type": "code",
   "execution_count": null,
   "metadata": {},
   "outputs": [],
   "source": [
    "def month(month_number, language=\"русский\"):\n",
    "    months_ru = {\n",
    "        1: \"Январь\", 2: \"Февраль\", 3: \"Март\", 4: \"Апрель\",\n",
    "        5: \"Май\", 6: \"Июнь\", 7: \"Июль\", 8: \"Август\",\n",
    "        9: \"Сентябрь\", 10: \"Октябрь\", 11: \"Ноябрь\", 12: \"Декабрь\"\n",
    "    }\n",
    "\n",
    "    months_en = {\n",
    "        1: \"January\", 2: \"February\", 3: \"March\", 4: \"April\",\n",
    "        5: \"May\", 6: \"June\", 7: \"July\", 8: \"August\",\n",
    "        9: \"September\", 10: \"October\", 11: \"November\", 12: \"December\"\n",
    "    }\n",
    "\n",
    "    if language == \"русский\":\n",
    "        return months_ru.get(month_number, \"Неверный номер месяца\")\n",
    "    else:\n",
    "        return months_en.get(month_number, \"Invalid month number\")\n",
    "\n",
    "# Пример использования\n",
    "print(month(3))  # Выведет \"Март\"\n",
    "print(month(9, language=\"english\"))  # Выведет \"September\"\n"
   ]
  },
  {
   "cell_type": "code",
   "execution_count": null,
   "metadata": {},
   "outputs": [],
   "source": [
    "def final_price_2(*prices, discount=1):\n",
    "        discount_amount = prices * discount / 100\n",
    "        final_price = prices - discount_amount\n",
    "        if final_price < 0:\n",
    "            final_price = 0\n",
    "        return round(final_price, 2)\n",
    "    for price in prices:\n",
    "        result.append(calculate_final_price(price))\n",
    "\n",
    "    return result\n"
   ]
  },
  {
   "cell_type": "code",
   "execution_count": null,
   "metadata": {},
   "outputs": [],
   "source": [
    "def my_abs(n: int):\n",
    "    return abs(n)"
   ]
  },
  {
   "cell_type": "code",
   "execution_count": null,
   "metadata": {},
   "outputs": [],
   "source": [
    "def length(x):\n",
    "    total = str(abs(x))\n",
    "    return len(total)\n"
   ]
  },
  {
   "cell_type": "code",
   "execution_count": null,
   "metadata": {},
   "outputs": [],
   "source": [
    "def str_lower(name):\n",
    "    words = name.split()\n",
    "    total = [word.lower() for word in words]\n",
    "    return total"
   ]
  },
  {
   "cell_type": "code",
   "execution_count": null,
   "metadata": {},
   "outputs": [],
   "source": [
    "def exchange(list1, list2):\n",
    "    temp = list1.copy\n",
    "    list1.clear()\n",
    "    list1.extend(list2)\n",
    "    list2.clear()\n",
    "    list2.extend(temp)\n",
    "    \n"
   ]
  },
  {
   "cell_type": "code",
   "execution_count": null,
   "metadata": {},
   "outputs": [],
   "source": [
    "def assess_collapse(mass, astral_body='Earth'):\n",
    "    CRITICAL = 1000\n",
    "    GRAVITY = {     \"Earth\": 9.8,\n",
    "                    \"Jupiter\": 24.79,\n",
    "                    \"Moon\": 1.63, }\n",
    "    total_wight = mass * GRAVITY[astral_body]\n",
    "    if CRITICAL > total_wight:\n",
    "        return False\n",
    "    else:\n",
    "        return True\n",
    "    "
   ]
  },
  {
   "cell_type": "code",
   "execution_count": null,
   "metadata": {},
   "outputs": [],
   "source": [
    "def calc_tiles(form = 'A4', size):\n",
    "    "
   ]
  },
  {
   "cell_type": "code",
   "execution_count": null,
   "metadata": {},
   "outputs": [],
   "source": [
    "def average(*n):\n",
    "    total = sum(n)\n",
    "    show = total / len(n)\n",
    "    return round(show, 2)"
   ]
  },
  {
   "cell_type": "code",
   "execution_count": null,
   "metadata": {},
   "outputs": [],
   "source": [
    "def same(*n):\n",
    "    if len(set(n)) == 1:\n",
    "        return True\n",
    "    else:\n",
    "        return False"
   ]
  },
  {
   "cell_type": "code",
   "execution_count": null,
   "metadata": {},
   "outputs": [],
   "source": [
    "def count_list():\n",
    "    "
   ]
  },
  {
   "cell_type": "code",
   "execution_count": null,
   "metadata": {},
   "outputs": [],
   "source": [
    "def rectangle(n=2, m=2, s='*'):\n",
    "    total = n * s\n",
    "    for i in range(m+1):\n",
    "        print(total)"
   ]
  },
  {
   "cell_type": "code",
   "execution_count": null,
   "metadata": {},
   "outputs": [],
   "source": [
    "def simples(n): \n",
    "    epanov_pavel = list() \n",
    "    for i in range(2, n+1): \n",
    "        if all(i % j != 0 for j in range(2, int(i**0.5)+1)):\n",
    "            epanov_pavel.append(i) \n",
    "    return epanov_pavel"
   ]
  },
  {
   "cell_type": "code",
   "execution_count": null,
   "metadata": {},
   "outputs": [],
   "source": [
    "def check_pass(username, password):\n",
    "    USERS = {\n",
    "    \"admin\": \"admin\",\n",
    "    \"Doberman\": \"derparol\",\n",
    "    \"BabValya\": \"12345\",\n",
    "} \n",
    "    if username in USERS and USERS[username] == password:\n",
    "        if USERS[username] == password:\n",
    "            return True\n",
    "        else:\n",
    "            print(\"НЕВЕРНЫЙ ПАРОЛЬ!\")\n",
    "            return False\n",
    "    else:\n",
    "        print('ПОЛЬЗОВАТЕЛЬ НЕ ОБНАРУЖЕН!')\n",
    "        return False\n",
    "\n",
    "def authorize():\n",
    "    while True:\n",
    "        romchik = input().split()\n",
    "        if len(romchik) != 2:\n",
    "            print(\"ОШИБКА АВТОРИЗАЦИИ!\")\n",
    "            continue\n",
    "        username, password = romchik\n",
    "        if check_pass(username, password):\n",
    "            print(\"УСПЕШНО\")\n",
    "            return True\n",
    "\n",
    "    \n"
   ]
  }
 ],
 "metadata": {
  "kernelspec": {
   "display_name": "Python 3",
   "language": "python",
   "name": "python3"
  },
  "language_info": {
   "codemirror_mode": {
    "name": "ipython",
    "version": 3
   },
   "file_extension": ".py",
   "mimetype": "text/x-python",
   "name": "python",
   "nbconvert_exporter": "python",
   "pygments_lexer": "ipython3",
   "version": "3.10.7"
  }
 },
 "nbformat": 4,
 "nbformat_minor": 2
}
