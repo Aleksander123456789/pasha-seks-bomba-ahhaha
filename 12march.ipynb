{
 "cells": [
  {
   "cell_type": "code",
   "execution_count": 5,
   "metadata": {},
   "outputs": [
    {
     "name": "stdout",
     "output_type": "stream",
     "text": [
      "!\n",
      "r\n",
      "!\n"
     ]
    }
   ],
   "source": [
    "#1 Дана квадратная матрица целых чисел. Найти количество строк матрицы, которые состоят из одних нулей\n",
    "# Пример матрицы\n",
    "matrix = [\n",
    "    [0, 0, 0],\n",
    "    [1, 0, 0],\n",
    "    [0, 0, 0],\n",
    "    [0, 0, 0]\n",
    "]\n",
    "\n",
    "count_zero_rows = 0\n",
    "\n",
    "for row in matrix:\n",
    "    if all(element == 0 for element in row):  \n",
    "        count_zero_rows += 1\n",
    "\n",
    "print(\"Количество строк с нулями:\", count_zero_rows)\n"
   ]
  },
  {
   "cell_type": "code",
   "execution_count": 2,
   "metadata": {},
   "outputs": [
    {
     "name": "stdout",
     "output_type": "stream",
     "text": [
      "Количество строк без нулей: 1\n"
     ]
    }
   ],
   "source": [
    "#2 Дана квадратная матрица целых чисел. Найти количество строк матрицы, которые не содержат ни одного нуля\n",
    "matrix = [\n",
    "    [0, 0, 0],\n",
    "    [1, 0, 0],\n",
    "    [1, 1, 1],\n",
    "]\n",
    "count_not_zero_rows = 0\n",
    "for row in matrix:\n",
    "    if all(element != 0 for element in row):\n",
    "        count_not_zero_rows += 1\n",
    "print(f'Количество строк без нулей: {count_not_zero_rows}')"
   ]
  },
  {
   "cell_type": "code",
   "execution_count": 4,
   "metadata": {},
   "outputs": [
    {
     "name": "stdout",
     "output_type": "stream",
     "text": [
      "Количество строк, содержащих хотя-бы один нуль: 2\n"
     ]
    }
   ],
   "source": [
    "#3 Дана квадратная матрица целых чисел. Найти количество строк матрицы, которые содержат хотябы один нуль.\n",
    "matrix = [\n",
    "    [0, 0, 0],\n",
    "    [1, 0, 0],\n",
    "    [1, 1, 1],\n",
    "]\n",
    "count = 0\n",
    "for row in matrix:\n",
    "    if row[0] == 0 or row[1] == 0 or row[2] == 0:\n",
    "            count += 1\n",
    "print(f'Количество строк, содержащих хотя-бы один нуль: {count}')"
   ]
  },
  {
   "cell_type": "code",
   "execution_count": 3,
   "metadata": {},
   "outputs": [
    {
     "name": "stdout",
     "output_type": "stream",
     "text": [
      "Количество стобцов: 3\n"
     ]
    }
   ],
   "source": [
    "#4 Дана квадратная матрица целых чисел. Найти количество столбцов матрицы, в которых количество нулей больше половины количества элементов в столбце\n",
    "m = [\n",
    "            [1, 2, 3, 4],\n",
    "            [0, 0, 0, 6],\n",
    "            [5, 0, 0, 8],\n",
    "            [0, 0, 0, 6],\n",
    "            [0, 3, 3, 9]\n",
    "        ]\n",
    "num_columns = len(m[0])\n",
    "count = 0\n",
    "for col in range(num_columns):\n",
    "    zero_count = 0\n",
    "    for row in range(len(m)):\n",
    "        if m[row][col] == 0:\n",
    "            zero_count += 1\n",
    "    if zero_count > len(m) / 2:\n",
    "        count += 1\n",
    "print(f'Количество стобцов: {count}')"
   ]
  },
  {
   "cell_type": "code",
   "execution_count": 11,
   "metadata": {},
   "outputs": [
    {
     "name": "stdout",
     "output_type": "stream",
     "text": [
      "Номер строк с единицами: [1, 2]\n"
     ]
    }
   ],
   "source": [
    "#5 Дана квадратная матрица. Определить номера строк матрицы, которые состоят из одних единиц.\n",
    "matrix = [\n",
    "    [0, 0, 0],\n",
    "    [1, 1, 1],\n",
    "    [1, 1, 1],\n",
    "]\n",
    "total = []\n",
    "for row in range(len(matrix)):\n",
    "    if all(element == 1 for element in matrix[row]):\n",
    "        total.append(row)\n",
    "print(f'Номер строк с единицами: {total}')"
   ]
  },
  {
   "cell_type": "code",
   "execution_count": 14,
   "metadata": {},
   "outputs": [
    {
     "name": "stdout",
     "output_type": "stream",
     "text": [
      "Номер строк с положительными числами: [0, 2]\n"
     ]
    }
   ],
   "source": [
    "#6 Дана квадратная матрица. Определить номера строк матрицы, которые не содержат ни одного отрицательного элемента.\n",
    "matrix = [\n",
    "    [0, 0, 0],\n",
    "    [-1, 1, 1],\n",
    "    [1, 1, 1],\n",
    "]\n",
    "total = []\n",
    "for row in range(len(matrix)):\n",
    "    if all(element >= 0 for element in matrix[row]):\n",
    "        total.append(row)\n",
    "print(f'Номер строк с положительными числами: {total}')\n"
   ]
  },
  {
   "cell_type": "code",
   "execution_count": 17,
   "metadata": {},
   "outputs": [
    {
     "name": "stdout",
     "output_type": "stream",
     "text": [
      "Номера столбцов, которые содержат хотя бы один положительный элемент: [1, 2]\n"
     ]
    }
   ],
   "source": [
    "#7 Дана квадратная матрица. Определить номера столбцов матрицы, которые  содержат хотя бы один положительный элемент.\n",
    "matrix = [\n",
    "    [-1, -1, -1],\n",
    "    [-1, 1, 1],\n",
    "    [-100, 1, 1],\n",
    "]\n",
    "total = []\n",
    "for j in range(len(matrix[0])):\n",
    "    for i in range(len(matrix)):\n",
    "        if matrix [i][j] > 0:\n",
    "            total.append(j)\n",
    "            break\n",
    "print(f'Номера столбцов, которые содержат хотя бы один положительный элемент: {total}')"
   ]
  },
  {
   "cell_type": "code",
   "execution_count": 18,
   "metadata": {},
   "outputs": [
    {
     "name": "stdout",
     "output_type": "stream",
     "text": [
      "Являются\n"
     ]
    }
   ],
   "source": [
    "#8 Дана квадратная матрица. Определить, являются ли все элементы матрицы нулями\n",
    "matrix = [\n",
    "    [0, 0, 0],\n",
    "    [0, 0, 0],\n",
    "    [0, 0, 0],\n",
    "]\n",
    "all_zeroes = all(all(element == 0 for element in row) for row in matrix)\n",
    "if all_zeroes:\n",
    "    print('Являются')\n",
    "else:\n",
    "    print('Не являются')"
   ]
  },
  {
   "cell_type": "code",
   "execution_count": 19,
   "metadata": {},
   "outputs": [
    {
     "name": "stdout",
     "output_type": "stream",
     "text": [
      "Все элементы матрицы, кроме элементов на главной диагонали, равны нулю\n"
     ]
    }
   ],
   "source": [
    "#9 Дана квадратная матрица. Определить, являются ли все элементы матрицы нулями кроме элементов главной диагонали\n",
    "matrix = [\n",
    "    [2, 0, 0],\n",
    "    [0, 3, 0],\n",
    "    [0, 0, 4]\n",
    "]\n",
    "diagonal = True\n",
    "for i in range(len(matrix)):\n",
    "    for j in range(len(matrix)):\n",
    "        if matrix[i][j] != 0 and i != j:\n",
    "            diagonal = False\n",
    "if diagonal:\n",
    "    print(\"Все элементы матрицы, кроме элементов на главной диагонали, равны нулю\")\n",
    "else:\n",
    "    print(\"Есть не нулевые элементы в матрице, кроме элементов на главной диагонали\")\n",
    "    \n"
   ]
  },
  {
   "cell_type": "code",
   "execution_count": 1,
   "metadata": {},
   "outputs": [
    {
     "name": "stdout",
     "output_type": "stream",
     "text": [
      "Все элементы матрицы, кроме элементов на главной диагонали, равны нулю и элементы на главной диагонали равны единице\n"
     ]
    }
   ],
   "source": [
    "#10 Дана квадратная матрица. Определить, являются ли все элементы матрицы нулями, а элементы на главной диагонали единицами?\n",
    "matrix = [\n",
    "    [1, 0, 0],\n",
    "    [0, 1, 0],\n",
    "    [0, 0, 1]\n",
    "]\n",
    "diagonal = True\n",
    "\n",
    "for i in range(len(matrix)):\n",
    "    for j in range(len(matrix)):\n",
    "        if (i != j and matrix[i][j] != 0) or (i == j and matrix[i][j] != 1):\n",
    "            diagonal = False\n",
    "\n",
    "if diagonal:\n",
    "    print(\"Все элементы матрицы, кроме элементов на главной диагонали, равны нулю и элементы на главной диагонали равны единице\")\n",
    "else:\n",
    "    print(\"Есть не нулевые элементы в матрице, кроме элементов на главной диагонали или элементы на главной диагонали не равны единице\")\n"
   ]
  },
  {
   "cell_type": "code",
   "execution_count": 4,
   "metadata": {},
   "outputs": [
    {
     "name": "stdout",
     "output_type": "stream",
     "text": [
      "True\n"
     ]
    }
   ],
   "source": [
    "#11 Дана квадратная матрица. Определить, образует ли количество нулей в строках матрицы неубывающую последовательность чисел/\n",
    "m = [\n",
    "    [1, 0, 2],\n",
    "    [0, 1, 0],\n",
    "    [0, 0, 0],\n",
    "]\n",
    "\n",
    "nula = []\n",
    "a = 0\n",
    "for row in m:\n",
    "    for col in row:\n",
    "        if col == 0:\n",
    "            a += 1\n",
    "    else:\n",
    "        nula.append(a)\n",
    "        a = 0\n",
    "\n",
    "if nula == list(sorted(nula)):\n",
    "    print(True)\n",
    "else:\n",
    "    print(False)"
   ]
  }
 ],
 "metadata": {
  "kernelspec": {
   "display_name": "Python 3",
   "language": "python",
   "name": "python3"
  },
  "language_info": {
   "codemirror_mode": {
    "name": "ipython",
    "version": 3
   },
   "file_extension": ".py",
   "mimetype": "text/x-python",
   "name": "python",
   "nbconvert_exporter": "python",
   "pygments_lexer": "ipython3",
   "version": "3.10.7"
  }
 },
 "nbformat": 4,
 "nbformat_minor": 2
}
