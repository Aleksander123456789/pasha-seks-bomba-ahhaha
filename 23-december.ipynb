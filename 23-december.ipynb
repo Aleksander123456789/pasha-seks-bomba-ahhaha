{
 "cells": [
  {
   "cell_type": "code",
   "execution_count": 3,
   "metadata": {},
   "outputs": [
    {
     "name": "stdout",
     "output_type": "stream",
     "text": [
      "1.185662037037037\n"
     ]
    }
   ],
   "source": [
    "#25\n",
    "n = int(input())\n",
    "summa= 0 \n",
    "for x in range(1,n+1):\n",
    "    summa += 1/x**3\n",
    "print(summa)\n"
   ]
  },
  {
   "cell_type": "code",
   "execution_count": 6,
   "metadata": {},
   "outputs": [
    {
     "name": "stdout",
     "output_type": "stream",
     "text": [
      "0.3659027777777778\n"
     ]
    }
   ],
   "source": [
    "#26\n",
    "n = int(input())\n",
    "summa = 0\n",
    "for x in range(2, 2*n+1, 2):\n",
    "    summa += 1/x**2\n",
    "print(summa) \n"
   ]
  },
  {
   "cell_type": "code",
   "execution_count": 7,
   "metadata": {},
   "outputs": [
    {
     "data": {
      "text/plain": [
       "0.3659027777777778"
      ]
     },
     "execution_count": 7,
     "metadata": {},
     "output_type": "execute_result"
    }
   ],
   "source": [
    "N = 5\n",
    "summa = 0\n",
    "for n in range(1, N+1):\n",
    "    summa += 1/(2*n)**2\n",
    "    \n",
    "summa"
   ]
  },
  {
   "cell_type": "code",
   "execution_count": null,
   "metadata": {},
   "outputs": [],
   "source": [
    "x = int(input())\n",
    "a = int(input())\n",
    "y=(((((x-a)*x-a)*x-a)*x-a)*x-a)*x-a\n"
   ]
  },
  {
   "cell_type": "code",
   "execution_count": 15,
   "metadata": {},
   "outputs": [
    {
     "name": "stdout",
     "output_type": "stream",
     "text": [
      "2027025\n"
     ]
    }
   ],
   "source": [
    "#40\n",
    "n = int(input())\n",
    "total = 1\n",
    "if n % 2 == 0:\n",
    "    for i in range(2,n+1,2):\n",
    "        total *= i\n",
    "if n % 2 != 0 :\n",
    "    for i in range(1,n+1,2):\n",
    "        total *= i\n",
    "print(total)"
   ]
  },
  {
   "cell_type": "code",
   "execution_count": 16,
   "metadata": {},
   "outputs": [
    {
     "data": {
      "text/plain": [
       "2027025"
      ]
     },
     "execution_count": 16,
     "metadata": {},
     "output_type": "execute_result"
    }
   ],
   "source": [
    "1 * 3* 5 * 7 * 9* 11 * 13 *15"
   ]
  },
  {
   "cell_type": "code",
   "execution_count": 17,
   "metadata": {},
   "outputs": [
    {
     "name": "stdout",
     "output_type": "stream",
     "text": [
      "128\n"
     ]
    }
   ],
   "source": [
    "#41\n",
    "import math\n",
    "n = int(input())\n",
    "total = 1\n",
    "if n % 2 == 0:\n",
    "    for i in range(2,n+1,2):\n",
    "        total += math.factorial(i)\n",
    "if n % 2 != 0 :\n",
    "    for i in range(1,n+1,2):\n",
    "        total += math.factorial(i)\n",
    "print(total)"
   ]
  },
  {
   "cell_type": "code",
   "execution_count": 28,
   "metadata": {},
   "outputs": [
    {
     "name": "stdout",
     "output_type": "stream",
     "text": [
      "0.6095238095238095\n"
     ]
    }
   ],
   "source": [
    "#44\n",
    "x = 10\n",
    "n = 3\n",
    "division = 1\n",
    "for i in range(1,2*n+1):\n",
    "    if i %2 == 0:\n",
    "        division *= x-i\n",
    "    if i %2 != 0:\n",
    "        division /= x-i\n",
    "print(division)"
   ]
  },
  {
   "cell_type": "markdown",
   "metadata": {},
   "source": [
    "numbers = list(map(int, input()).split()))"
   ]
  },
  {
   "cell_type": "code",
   "execution_count": 31,
   "metadata": {},
   "outputs": [
    {
     "name": "stdout",
     "output_type": "stream",
     "text": [
      "100\n"
     ]
    }
   ],
   "source": [
    "#45\n",
    "x = 2\n",
    "a = 1\n",
    "n = int(input())\n",
    "total = x\n",
    "for i in range(n):\n",
    "    total = (total+a)**2\n",
    "print(total)\n",
    "    "
   ]
  },
  {
   "cell_type": "code",
   "execution_count": 37,
   "metadata": {},
   "outputs": [
    {
     "name": "stdout",
     "output_type": "stream",
     "text": [
      "5\n"
     ]
    }
   ],
   "source": [
    "#53\n",
    "numbers = list(map(int, input().split()))\n",
    "min_x = float('inf')\n",
    "for x in numbers:\n",
    "    if x < min_x and x>0:\n",
    "        min_x = x\n",
    "print(min_x)\n"
   ]
  },
  {
   "cell_type": "code",
   "execution_count": 40,
   "metadata": {},
   "outputs": [
    {
     "name": "stdout",
     "output_type": "stream",
     "text": [
      "5\n"
     ]
    }
   ],
   "source": [
    "#55 \n",
    "numbers = list(map(int, input().split()))\n",
    "count = 0\n",
    "for x in numbers:\n",
    "    if x % 2 == 0:\n",
    "        count += 1\n",
    "print(count)\n"
   ]
  },
  {
   "cell_type": "code",
   "execution_count": 47,
   "metadata": {},
   "outputs": [
    {
     "name": "stdout",
     "output_type": "stream",
     "text": [
      "3.0\n"
     ]
    }
   ],
   "source": [
    "#56\n",
    "numbers = list(map(int, input().split()))\n",
    "arithmetic_mean = 0\n",
    "for x in numbers:\n",
    "    if x > 0 :\n",
    "        arithmetic_mean += x\n",
    "print(arithmetic_mean/(len(numbers)-1))"
   ]
  },
  {
   "cell_type": "code",
   "execution_count": 8,
   "metadata": {},
   "outputs": [
    {
     "name": "stdout",
     "output_type": "stream",
     "text": [
      "365\n"
     ]
    }
   ],
   "source": [
    "#32\n",
    "x = 3\n",
    "a = 1\n",
    "n = 6\n",
    "total = 1\n",
    "for i in range(n):\n",
    "    total = total * x - a\n",
    "print(total)\n"
   ]
  },
  {
   "cell_type": "markdown",
   "metadata": {},
   "source": [
    "5\n",
    "\n",
    "4\n",
    "\n",
    "10\n",
    "\n",
    "85\n",
    "\n",
    "20\n",
    "\n",
    "-50"
   ]
  },
  {
   "cell_type": "code",
   "execution_count": 17,
   "metadata": {},
   "outputs": [
    {
     "name": "stdout",
     "output_type": "stream",
     "text": [
      "52.5\n"
     ]
    }
   ],
   "source": [
    "#7\n",
    "n = int(input())\n",
    "sum_ = 0\n",
    "count = 0\n",
    "for _ in range(n):\n",
    "    x = int(input())\n",
    "    if x > 10:\n",
    "        sum_ += x \n",
    "        count += 1\n",
    "print(sum_/count)\n"
   ]
  },
  {
   "cell_type": "code",
   "execution_count": 20,
   "metadata": {},
   "outputs": [
    {
     "name": "stdout",
     "output_type": "stream",
     "text": [
      "2.4879461819264805\n"
     ]
    }
   ],
   "source": [
    "#9\n",
    "from math import sin\n",
    "x = 2\n",
    "n = int(input())\n",
    "sum_ = 0\n",
    "for i in range(1,n+1):\n",
    "    sum_ += (sin(x))**i\n",
    "print(sum_)\n"
   ]
  },
  {
   "cell_type": "code",
   "execution_count": 31,
   "metadata": {},
   "outputs": [
    {
     "data": {
      "text/plain": [
       "('0o1076', 6)"
      ]
     },
     "execution_count": 31,
     "metadata": {},
     "output_type": "execute_result"
    }
   ],
   "source": [
    "oct(574), 574 % 8\n"
   ]
  },
  {
   "cell_type": "markdown",
   "metadata": {},
   "source": [
    "1       1 \n",
    "\n",
    "5       4\n",
    "\n",
    "6       9\n",
    "\n",
    "456     16"
   ]
  },
  {
   "cell_type": "code",
   "execution_count": 1,
   "metadata": {},
   "outputs": [],
   "source": [
    "def t_range(*args, **kwargs):\n",
    "    return tuple(range(*args, **kwargs))"
   ]
  },
  {
   "cell_type": "code",
   "execution_count": 5,
   "metadata": {},
   "outputs": [
    {
     "data": {
      "text/plain": [
       "99"
      ]
     },
     "execution_count": 5,
     "metadata": {},
     "output_type": "execute_result"
    }
   ],
   "source": [
    "len(t_range(1,100))"
   ]
  },
  {
   "cell_type": "code",
   "execution_count": 8,
   "metadata": {},
   "outputs": [
    {
     "data": {
      "text/plain": [
       "1.4"
      ]
     },
     "execution_count": 8,
     "metadata": {},
     "output_type": "execute_result"
    }
   ],
   "source": [
    "abs(-1.4)"
   ]
  },
  {
   "cell_type": "code",
   "execution_count": 7,
   "metadata": {},
   "outputs": [
    {
     "ename": "ValueError",
     "evalue": "invalid literal for int() with base 10: ''",
     "output_type": "error",
     "traceback": [
      "\u001b[1;31m---------------------------------------------------------------------------\u001b[0m",
      "\u001b[1;31mValueError\u001b[0m                                Traceback (most recent call last)",
      "Cell \u001b[1;32mIn[7], line 5\u001b[0m\n\u001b[0;32m      3\u001b[0m ssuma \u001b[38;5;241m=\u001b[39m \u001b[38;5;241m0\u001b[39m\n\u001b[0;32m      4\u001b[0m \u001b[38;5;28;01mfor\u001b[39;00m i \u001b[38;5;129;01min\u001b[39;00m \u001b[38;5;28mrange\u001b[39m(\u001b[38;5;241m1\u001b[39m, \u001b[38;5;241m101\u001b[39m):\n\u001b[1;32m----> 5\u001b[0m     x \u001b[38;5;241m=\u001b[39m \u001b[38;5;28;43mint\u001b[39;49m\u001b[43m(\u001b[49m\u001b[38;5;28;43minput\u001b[39;49m\u001b[43m(\u001b[49m\u001b[43m)\u001b[49m\u001b[43m)\u001b[49m \u001b[38;5;66;03m# с 1 по 9\u001b[39;00m\n\u001b[0;32m      6\u001b[0m     \u001b[38;5;28;01mif\u001b[39;00m fabs(x) \u001b[38;5;241m<\u001b[39m i\u001b[38;5;241m*\u001b[39m\u001b[38;5;241m*\u001b[39m\u001b[38;5;241m2\u001b[39m:\n\u001b[0;32m      7\u001b[0m         ssuma \u001b[38;5;241m+\u001b[39m\u001b[38;5;241m=\u001b[39m x \n",
      "\u001b[1;31mValueError\u001b[0m: invalid literal for int() with base 10: ''"
     ]
    }
   ],
   "source": [
    "#23\n",
    "ssuma = 0\n",
    "for i in range(1, 101):\n",
    "    x = int(input())# с 1 по 9\n",
    "    if abs(x) < i**2:\n",
    "        ssuma += x \n",
    "print(ssuma)\n"
   ]
  },
  {
   "cell_type": "code",
   "execution_count": 24,
   "metadata": {},
   "outputs": [
    {
     "name": "stdout",
     "output_type": "stream",
     "text": [
      "39\n",
      "49\n",
      "59\n",
      "69\n",
      "79\n",
      "89\n",
      "91\n",
      "99\n",
      "574\n"
     ]
    }
   ],
   "source": [
    "#17\n",
    "summma = 0 \n",
    "for i in range(31, 100):\n",
    "    if i % 7 == 0 and (i % 10 == 1 or i % 10 == 9):\n",
    "        print(i)\n",
    "        summma += i \n",
    "print(summma)"
   ]
  },
  {
   "cell_type": "code",
   "execution_count": null,
   "metadata": {},
   "outputs": [],
   "source": []
  },
  {
   "cell_type": "code",
   "execution_count": null,
   "metadata": {},
   "outputs": [],
   "source": []
  },
  {
   "cell_type": "code",
   "execution_count": 14,
   "metadata": {},
   "outputs": [
    {
     "name": "stdout",
     "output_type": "stream",
     "text": [
      "2\n"
     ]
    }
   ],
   "source": [
    "#6\n",
    "n = int(input())\n",
    "a = 10\n",
    "b = 20\n",
    "count = 0\n",
    "for i in range(n):\n",
    "    x = int(input('Введите число: '))\n",
    "    if a <= x <= b:\n",
    "        count += 1 \n",
    "print(count)"
   ]
  },
  {
   "cell_type": "code",
   "execution_count": 1,
   "metadata": {},
   "outputs": [],
   "source": [
    "#60\n",
    "def find_max_sum_pair_indices(arr):\n",
    "    max_sum = float('-inf')  # Инициализируем максимальную сумму как минус бесконечность\n",
    "    max_sum_indices = (0, 1)  # Инициализируем порядковые номера пары чисел с максимальной суммой\n",
    "\n",
    "    for i in range(len(arr) - 1):\n",
    "        current_sum = arr[i] + arr[i + 1]  # Вычисляем сумму текущей пары чисел\n",
    "        if current_sum >= max_sum:  # Если текущая сумма больше или равна максимальной\n",
    "            max_sum = current_sum  # Обновляем максимальную сумму\n",
    "            max_sum_indices = (i, i + 1)  # Обновляем порядковые номера пары чисел\n",
    "\n",
    "    return max_sum_indices\n",
    "\n",
    "# Пример использования\n",
    "sequence = [1, 3, 5, 2, 8, 4, 6]\n",
    "result = find_max_sum_pair_indices(sequence)\n",
    "print(\"Порядковые номера двух соседних чисел с максимальной суммой:\", result)\n"
   ]
  },
  {
   "cell_type": "code",
   "execution_count": null,
   "metadata": {},
   "outputs": [],
   "source": [
    "#59\n",
    "arr = [1, 3, 5, 2, 8, 4, 6]\n",
    "min_sum = float('inf')  # Инициализируем минимальную сумму как плюс бесконечность\n",
    "min_sum_indices = (0, 1)  # Инициализируем порядковые номера пары чисел с минимальной суммой\n",
    "\n",
    "for i in range(len(arr) - 1):\n",
    "    current_sum = arr[i] + arr[i + 1]  # Вычисляем сумму текущей пары чисел\n",
    "    if current_sum <= min_sum:  # Если текущая сумма меньше или равна минимальной\n",
    "        min_sum = current_sum  # Обновляем минимальную сумму\n",
    "        min_sum_indices = (i, i + 1)  # Обновляем порядковые номера пары чисел\n",
    "\n",
    "print(\"Порядковые номера двух соседних чисел с минимальной суммой:\", min_sum_indices)\n"
   ]
  },
  {
   "cell_type": "code",
   "execution_count": null,
   "metadata": {},
   "outputs": [],
   "source": [
    "#58\n",
    "arr = [1, 3, 5, 2, 8, 4, 6]\n",
    "max_sum = float('-inf')  # Инициализируем максимальную сумму как минус бесконечность\n",
    "max_sum_indices = (0, 1)  # Инициализируем порядковые номера пары чисел с максимальной суммой\n",
    "\n",
    "for i in range(len(arr) - 1):\n",
    "    current_sum = arr[i] + arr[i + 1]  # Вычисляем сумму текущей пары чисел\n",
    "    if current_sum >= max_sum:  # Если текущая сумма больше или равна максимальной\n",
    "        max_sum = current_sum  # Обновляем максимальную сумму\n",
    "        max_sum_indices = (i, i + 1)  # Обновляем порядковые номера пары чисел\n",
    "\n",
    "print(\"Порядковые номера двух соседних чисел с максимальной суммой:\", max_sum_indices)\n"
   ]
  },
  {
   "cell_type": "code",
   "execution_count": null,
   "metadata": {},
   "outputs": [],
   "source": [
    "#57\n",
    "n = int(input(\"Введите количество чисел: \"))\n",
    "arr = []\n",
    "for i in range(n):\n",
    "    num = int(input(f\"Введите {i+1}-е число: \"))\n",
    "    arr.append(num)\n",
    "\n",
    "num_zero_pairs = 0\n",
    "num_even_pairs = 0\n",
    "num_odd_digit_pairs = 0\n",
    "\n",
    "for i in range(len(arr) - 1):\n",
    "    if arr[i] == arr[i + 1] == 0:\n",
    "        num_zero_pairs += 1\n",
    "    if arr[i] % 2 == arr[i + 1] % 2 == 0:\n",
    "        num_even_pairs += 1\n",
    "    if arr[i] % 10 % 2 != 0 and arr[i + 1] % 10 % 2 != 0:\n",
    "        num_odd_digit_pairs += 1\n",
    "\n",
    "print(\"Количество пар соседних чисел, равных между собой:\")\n",
    "print(f\" - Равных нулю: {num_zero_pairs}\")\n",
    "print(f\" - Четных: {num_even_pairs}\")\n",
    "print(f\" - Оканчивающихся на нечетную цифру: {num_odd_digit_pairs}\")\n"
   ]
  },
  {
   "cell_type": "code",
   "execution_count": null,
   "metadata": {},
   "outputs": [],
   "source": [
    "#52\n",
    "n = int(input(\"Введите значение n: \"))\n",
    "result = 0\n",
    "product = 1\n",
    "for i in range(1, n+1):\n",
    "    product *= i\n",
    "    result += i * product\n",
    "print(\"Сумма последовательности равна:\", result)\n"
   ]
  },
  {
   "cell_type": "code",
   "execution_count": null,
   "metadata": {},
   "outputs": [],
   "source": [
    "#50\n",
    "sign_changes = 0\n",
    "prev_number = int(input(\"Введите число: \"))\n",
    "if prev_number != 0:\n",
    "    prev_sign = 1 if prev_number > 0 else -1\n",
    "\n",
    "    while True:\n",
    "        number = int(input(\"Введите число: \"))\n",
    "        if number == 0:\n",
    "            break\n",
    "        sign = 1 if number > 0 else -1\n",
    "        if sign != prev_sign:\n",
    "            sign_changes += 1\n",
    "            prev_sign = sign\n",
    "\n",
    "print(\"Количество изменений знака: \", sign_changes)\n"
   ]
  },
  {
   "cell_type": "code",
   "execution_count": 3,
   "metadata": {},
   "outputs": [],
   "source": [
    "#47\n",
    "numbers = list(map(float, input('ввод 20 чисел: ').split()))\n",
    "previous = numbers[0]\n",
    "for i in range(len(numbers)):\n",
    "    if previous > numbers[i]:\n",
    "        print(numbers[i])\n",
    "        pass\n"
   ]
  },
  {
   "cell_type": "code",
   "execution_count": null,
   "metadata": {},
   "outputs": [],
   "source": [
    "#49\n",
    "last_index = -1\n",
    "\n",
    "for i in range(20):\n",
    "    number = float(input(\"Введите число: \"))\n",
    "    if int(number * 10) % 10 == 7:\n",
    "        last_index = i + 1\n",
    "\n",
    "if last_index != -1:\n",
    "    print(\"В последовательности есть число, оканчивающееся на 7. Порядковый номер последнего такого числа:\", last_index)\n",
    "else:\n",
    "    print(\"В последовательности нет чисел, оканчивающихся на 7.\")\n"
   ]
  },
  {
   "cell_type": "code",
   "execution_count": 5,
   "metadata": {},
   "outputs": [
    {
     "name": "stdout",
     "output_type": "stream",
     "text": [
      "В последовательности есть число 77.\n",
      "Порядковый номер третьего числа 77: 3\n"
     ]
    }
   ],
   "source": [
    "#48\n",
    "count_77 = 0\n",
    "third_77_index = -1\n",
    "\n",
    "while True:\n",
    "    number = int(input(\"Введите число: \"))\n",
    "    if number == 100:\n",
    "        break\n",
    "    if number == 77:\n",
    "        count_77 += 1\n",
    "        if count_77 == 3:\n",
    "            third_77_index = count_77\n",
    "            break\n",
    "\n",
    "if count_77 > 0:\n",
    "    print(\"В последовательности есть число 77.\")\n",
    "    if third_77_index != -1:\n",
    "        print(\"Порядковый номер третьего числа 77:\", third_77_index)\n",
    "    else:\n",
    "        print(\"В последовательности меньше трех чисел 77.\")\n",
    "else:\n",
    "    print(\"В последовательности нет числа 77.\")\n"
   ]
  },
  {
   "cell_type": "code",
   "execution_count": 2,
   "metadata": {},
   "outputs": [],
   "source": [
    "#51\n",
    "sequence = []\n",
    "number = int(input(\"Введите число: \"))\n",
    "max_number = number\n",
    "max_index = 0\n",
    "\n",
    "while number != 0:\n",
    "    sequence.append(number)\n",
    "    number = int(input(\"Введите число: \"))\n",
    "    if number > max_number:\n",
    "        max_number = number\n",
    "        max_index = len(sequence)\n",
    "\n",
    "print(\"Номер последнего из наибольших чисел: \", max_index)\n"
   ]
  },
  {
   "cell_type": "code",
   "execution_count": null,
   "metadata": {},
   "outputs": [],
   "source": [
    "#46\n",
    "count_7 = 0\n",
    "first_7_index = -1\n",
    "i = 0\n",
    "\n",
    "while True:\n",
    "    number = int(input(\"Введите число: \"))\n",
    "    i += 1\n",
    "    if number == -1:\n",
    "        break\n",
    "    if number % 7 == 0:\n",
    "        count_7 += 1\n",
    "        if count_7 == 1:\n",
    "            first_7_index = i\n",
    "\n",
    "if count_7 > 0:\n",
    "    print(\"В последовательности есть число, кратное 7.\")\n",
    "    print(\"Порядковый номер первого числа, кратного 7:\", first_7_index)\n",
    "else:\n",
    "    print(\"В последовательности нет чисел, кратных 7.\")\n"
   ]
  },
  {
   "cell_type": "code",
   "execution_count": 44,
   "metadata": {},
   "outputs": [
    {
     "data": {
      "text/plain": [
       "3.0"
      ]
     },
     "execution_count": 44,
     "metadata": {},
     "output_type": "execute_result"
    }
   ],
   "source": [
    "n = 1\n",
    "x - a"
   ]
  },
  {
   "cell_type": "code",
   "execution_count": 5,
   "metadata": {},
   "outputs": [
    {
     "data": {
      "text/plain": [
       "365"
      ]
     },
     "execution_count": 5,
     "metadata": {},
     "output_type": "execute_result"
    }
   ],
   "source": [
    "x = 3\n",
    "a = 1\n",
    "y=((((( x-a)*x-a)*x-a)*x-a)*x-a)*x-a\n",
    "y"
   ]
  },
  {
   "cell_type": "code",
   "execution_count": 22,
   "metadata": {},
   "outputs": [
    {
     "data": {
      "text/plain": [
       "0.6095238095238096"
      ]
     },
     "execution_count": 22,
     "metadata": {},
     "output_type": "execute_result"
    }
   ],
   "source": [
    "n = 6\n",
    "x = 10\n",
    "((x-2)*(x-4)*(x-6))/((x-1)*(x-3)*(x-5))\n"
   ]
  }
 ],
 "metadata": {
  "kernelspec": {
   "display_name": "Python 3",
   "language": "python",
   "name": "python3"
  },
  "language_info": {
   "codemirror_mode": {
    "name": "ipython",
    "version": 3
   },
   "file_extension": ".py",
   "mimetype": "text/x-python",
   "name": "python",
   "nbconvert_exporter": "python",
   "pygments_lexer": "ipython3",
   "version": "3.10.7"
  }
 },
 "nbformat": 4,
 "nbformat_minor": 2
}
