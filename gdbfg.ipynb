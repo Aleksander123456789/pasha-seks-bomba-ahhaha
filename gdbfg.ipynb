{
 "cells": [
  {
   "cell_type": "code",
   "execution_count": 5,
   "metadata": {},
   "outputs": [
    {
     "name": "stdout",
     "output_type": "stream",
     "text": [
      "Длина окружности радиуса  4.0  равна  25.133\n",
      "Площадь круга радиуса  4.0  равна  50.265\n",
      "Объем шара радиуса  4.0  равен  268.083\n",
      "Площадь поверхности шара радиуса  4.0  равна  201.062\n"
     ]
    }
   ],
   "source": [
    "n = float(input(''))\n",
    "a = 2 * 3.141592 *n\n",
    "b = 3.141592 * n**2\n",
    "c = (4/3) * 3.141592 *n**3\n",
    "d = 4 * 3.141592 * n**2\n",
    "print(\"Длина окружности радиуса \",n,\" равна \", round(a, 3))\n",
    "print(\"Площадь круга радиуса \",n,\" равна \",round(b, 3))\n",
    "print(\"Объем шара радиуса \",n,\" равен \",round(c, 3))\n",
    "print(\"Площадь поверхности шара радиуса \",n,\" равна \",round(d, 3))"
   ]
  },
  {
   "cell_type": "code",
   "execution_count": 1,
   "metadata": {},
   "outputs": [
    {
     "name": "stdout",
     "output_type": "stream",
     "text": [
      "В этом году вам исполнится  24  года (лет)\n"
     ]
    }
   ],
   "source": [
    "a = int(input())\n",
    "print(\"В этом году вам исполнится \",2023 - a,\" года (лет)\")"
   ]
  },
  {
   "cell_type": "code",
   "execution_count": 2,
   "metadata": {},
   "outputs": [
    {
     "name": "stdout",
     "output_type": "stream",
     "text": [
      "sfsf fsfs dassdf\n"
     ]
    }
   ],
   "source": [
    "a = input()\n",
    "b = input()\n",
    "c = input()\n",
    "print(b,c,a,)"
   ]
  },
  {
   "cell_type": "code",
   "execution_count": 8,
   "metadata": {},
   "outputs": [
    {
     "name": "stdout",
     "output_type": "stream",
     "text": [
      "*   *\n",
      "** **\n",
      " ***\n",
      "* * *\n"
     ]
    }
   ],
   "source": [
    "a = input()\n",
    "print(a,a, sep=\"   \")\n",
    "print(a+a, a+a)\n",
    "print(\" \" + a+a+a )\n",
    "print(a, a, a)\n"
   ]
  },
  {
   "cell_type": "code",
   "execution_count": 12,
   "metadata": {},
   "outputs": [
    {
     "name": "stdout",
     "output_type": "stream",
     "text": [
      "молоко\n",
      "олово\n",
      "долото\n",
      "головоломка\n",
      "солома\n",
      "голова\n",
      "коловорот\n",
      "сколопендра\n",
      "полотер\n"
     ]
    }
   ],
   "source": [
    "s = \"оло\"\n",
    "print(\"м\"+s+\"ко\")\n",
    "print(s+\"во\")\n",
    "print(\"д\"+s+\"то\")\n",
    "print(\"г\"+s+\"воломка\")\n",
    "print(\"с\"+s+\"ма\")\n",
    "print(\"г\"+s+\"ва\")\n",
    "print(\"к\"+s+\"ворот\")\n",
    "print(\"ск\"+s+\"пендра\")\n",
    "print(\"п\"+s+\"тер\")"
   ]
  },
  {
   "cell_type": "code",
   "execution_count": 13,
   "metadata": {},
   "outputs": [
    {
     "name": "stdout",
     "output_type": "stream",
     "text": [
      "ПАМ-ПА-РА-ПАМ-ПАМ\n"
     ]
    }
   ],
   "source": [
    "s1 = 'ПАМ'\n",
    "s2 = 'ПА'\n",
    "s3 = 'РА'\n",
    "s4 = 'РУ'\n",
    "s5 = 'РАМ'\n",
    "print(s1,s2,s3,s1,s1, sep=\"-\")\n",
    "print(s2,s2,s4)"
   ]
  },
  {
   "cell_type": "code",
   "execution_count": 1,
   "metadata": {},
   "outputs": [
    {
     "name": "stdout",
     "output_type": "stream",
     "text": [
      "*********************\n",
      "*   *   *   *   *   *\n",
      "*   *   *   *   *   *\n",
      "*********************\n",
      "*   *   *   *   *   *\n",
      "*   *   *   *   *   *\n",
      "*********************\n",
      "*   *   *   *   *   *\n",
      "*   *   *   *   *   *\n",
      "*********************\n",
      "*   *   *   *   *   *\n",
      "*   *   *   *   *   *\n",
      "*********************\n"
     ]
    }
   ],
   "source": [
    "print(\"\"\"*********************\n",
    "*   *   *   *   *   *\n",
    "*   *   *   *   *   *\n",
    "*********************\n",
    "*   *   *   *   *   *\n",
    "*   *   *   *   *   *\n",
    "*********************\n",
    "*   *   *   *   *   *\n",
    "*   *   *   *   *   *\n",
    "*********************\n",
    "*   *   *   *   *   *\n",
    "*   *   *   *   *   *\n",
    "*********************\"\"\")"
   ]
  },
  {
   "cell_type": "code",
   "execution_count": 1,
   "metadata": {},
   "outputs": [
    {
     "name": "stdout",
     "output_type": "stream",
     "text": [
      "2\n"
     ]
    }
   ],
   "source": [
    "n = int(input())\n",
    "k = int(input())\n",
    "count = k % n\n",
    "print(count)"
   ]
  },
  {
   "cell_type": "code",
   "execution_count": 7,
   "metadata": {},
   "outputs": [
    {
     "name": "stdout",
     "output_type": "stream",
     "text": [
      "106.35\n"
     ]
    }
   ],
   "source": [
    "anna = int(input())\n",
    "oleg = int(input())\n",
    "yula = int(input())\n",
    "count = (anna / 100) * 15 + (oleg / 100) * 15 + (yula / 100) * 15\n",
    "print(count)"
   ]
  },
  {
   "cell_type": "code",
   "execution_count": 17,
   "metadata": {},
   "outputs": [
    {
     "name": "stdout",
     "output_type": "stream",
     "text": [
      "74.035\n"
     ]
    }
   ],
   "source": [
    "distance = float(input())\n",
    "fuel_consumption = float(input())\n",
    "fuel_price = float(input())\n",
    "distance_full = 2 * distance\n",
    "total_fuel = (fuel_consumption / 100) * distance_full\n",
    "total_cost = total_fuel * fuel_price\n",
    "\n",
    "print(round(total_cost, 3))"
   ]
  },
  {
   "cell_type": "code",
   "execution_count": null,
   "metadata": {},
   "outputs": [],
   "source": [
    "number = input()\n",
    "number_second = number[]"
   ]
  },
  {
   "cell_type": "code",
   "execution_count": null,
   "metadata": {},
   "outputs": [],
   "source": [
    "a = \" \"\n",
    "print(a+type(digits)+a)"
   ]
  },
  {
   "cell_type": "code",
   "execution_count": 15,
   "metadata": {},
   "outputs": [
    {
     "data": {
      "text/plain": [
       "4"
      ]
     },
     "execution_count": 15,
     "metadata": {},
     "output_type": "execute_result"
    }
   ],
   "source": [
    "number = int(input())\n",
    "number"
   ]
  },
  {
   "cell_type": "code",
   "execution_count": 8,
   "metadata": {},
   "outputs": [
    {
     "ename": "ValueError",
     "evalue": "could not convert string to float: ''",
     "output_type": "error",
     "traceback": [
      "\u001b[1;31m---------------------------------------------------------------------------\u001b[0m",
      "\u001b[1;31mValueError\u001b[0m                                Traceback (most recent call last)",
      "\u001b[1;32md:\\Games\\PythonLessons\\gdbfg.ipynb Cell 11\u001b[0m line \u001b[0;36m6\n\u001b[0;32m      <a href='vscode-notebook-cell:/d%3A/Games/PythonLessons/gdbfg.ipynb#X25sZmlsZQ%3D%3D?line=2'>3</a>\u001b[0m weight1 \u001b[39m=\u001b[39m \u001b[39mfloat\u001b[39m(\u001b[39minput\u001b[39m())\n\u001b[0;32m      <a href='vscode-notebook-cell:/d%3A/Games/PythonLessons/gdbfg.ipynb#X25sZmlsZQ%3D%3D?line=4'>5</a>\u001b[0m name2 \u001b[39m=\u001b[39m \u001b[39minput\u001b[39m()\n\u001b[1;32m----> <a href='vscode-notebook-cell:/d%3A/Games/PythonLessons/gdbfg.ipynb#X25sZmlsZQ%3D%3D?line=5'>6</a>\u001b[0m price2 \u001b[39m=\u001b[39m \u001b[39mfloat\u001b[39;49m(\u001b[39minput\u001b[39;49m())\n\u001b[0;32m      <a href='vscode-notebook-cell:/d%3A/Games/PythonLessons/gdbfg.ipynb#X25sZmlsZQ%3D%3D?line=6'>7</a>\u001b[0m weight2 \u001b[39m=\u001b[39m \u001b[39mfloat\u001b[39m(\u001b[39minput\u001b[39m())\n\u001b[0;32m      <a href='vscode-notebook-cell:/d%3A/Games/PythonLessons/gdbfg.ipynb#X25sZmlsZQ%3D%3D?line=8'>9</a>\u001b[0m total1 \u001b[39m=\u001b[39m price1 \u001b[39m*\u001b[39m weight1\n",
      "\u001b[1;31mValueError\u001b[0m: could not convert string to float: ''"
     ]
    }
   ],
   "source": [
    "name1 = input()\n",
    "price1 = float(input())\n",
    "weight1 = float(input())\n",
    "\n",
    "name2 = input()\n",
    "price2 = float(input())\n",
    "weight2 = float(input())\n",
    "\n",
    "total1 = price1 * weight1\n",
    "total2 = price2 * weight2\n",
    "total = total1 + total2\n",
    "\n",
    "\n",
    "print('Наименование изделия   Цена   Вес/Кол.    ВСЕГО')\n",
    "print(\"-------------------- ------- -------- ---------\")\n",
    "\n",
    "print(\"{:<20} {:>7.2f} {:>8.2f} {:>9.2f}\".format(name1, price1, weight1, total1))\n",
    "print(\"{:<20} {:>7.2f} {:>8.2f} {:>9.2f}\".format(name2, price2, weight2, total2))\n",
    "print(\"-------------------- ------- -------- ---------\")\n",
    "print(\"{:<20} {:>26.2f}\".format(\"ИТОГО\", total))\n"
   ]
  },
  {
   "cell_type": "code",
   "execution_count": 4,
   "metadata": {},
   "outputs": [
    {
     "data": {
      "text/plain": [
       "8.660254037844387"
      ]
     },
     "execution_count": 4,
     "metadata": {},
     "output_type": "execute_result"
    }
   ],
   "source": [
    "75**0.5"
   ]
  },
  {
   "cell_type": "code",
   "execution_count": 12,
   "metadata": {},
   "outputs": [
    {
     "name": "stdout",
     "output_type": "stream",
     "text": [
      "1296\n"
     ]
    }
   ],
   "source": [
    "a = int(input())\n",
    "n = int(input())\n",
    "first = a - a**2\n",
    "second = first**n\n",
    "print(second)"
   ]
  },
  {
   "cell_type": "code",
   "execution_count": 1,
   "metadata": {},
   "outputs": [
    {
     "name": "stdout",
     "output_type": "stream",
     "text": [
      "Унылая пора! Очей очарованье! \n",
      "Приятна мне твоя прощальная краса -Люблю я пышное природы увяданье,В багрец и золото одетые леса.\n",
      "А.С. Пушкин\n"
     ]
    }
   ],
   "source": [
    "s1 = 'Унылая пора! Очей очарованье! \\nПриятна мне твоя проща'\n",
    "s2 = 'льная краса -'\n",
    "s3 = 'Люблю я пышное природы увяданье,'\n",
    "s4 = 'В багрец и золото одетые леса.\\n'\n",
    "s5 = 'А.С. Пушкин'\n",
    "print(s1+s2+s3+s4+s5)"
   ]
  },
  {
   "cell_type": "code",
   "execution_count": 8,
   "metadata": {},
   "outputs": [
    {
     "name": "stdout",
     "output_type": "stream",
     "text": [
      "25.0\n"
     ]
    }
   ],
   "source": [
    "n = int(input(\"Введите число пассажиров\"))\n",
    "price = int(input(\"Цена билета второго класса\"))\n",
    "count = (n - 3/4*n) * price + (price/2) * (3/4*n)\n",
    "print(count)"
   ]
  },
  {
   "cell_type": "code",
   "execution_count": 19,
   "metadata": {},
   "outputs": [
    {
     "name": "stdout",
     "output_type": "stream",
     "text": [
      "28\n"
     ]
    }
   ],
   "source": [
    "a = int(input())\n",
    "b = int(input())\n",
    "c = int(input())\n",
    "a1 = (a + 1) // 2 #8.5\n",
    "b1 = (b + 1) // 2 #9,5\n",
    "c1 = (c + 1) // 2 #9\n",
    "count = a1 + b1 + c1\n",
    "print(count)"
   ]
  },
  {
   "cell_type": "code",
   "execution_count": 21,
   "metadata": {},
   "outputs": [
    {
     "name": "stdout",
     "output_type": "stream",
     "text": [
      "2.05\n"
     ]
    }
   ],
   "source": [
    "recept = int(input())\n",
    "omg = recept * 409.5\n",
    "omgad = omg / 1000\n",
    "print(round(omgad,2))"
   ]
  },
  {
   "cell_type": "code",
   "execution_count": 24,
   "metadata": {},
   "outputs": [
    {
     "name": "stdout",
     "output_type": "stream",
     "text": [
      "Остаток от деления 1\n",
      "Если он равен 0 то  25 делится нацело на число  4\n"
     ]
    }
   ],
   "source": [
    "number_first = int(input())\n",
    "number_second = int(input())\n",
    "count_first =  number_first % number_second\n",
    "print('Остаток от деления',count_first)\n",
    "print('Если он равен 0 то ', number_first, 'делится нацело на число ', number_second)"
   ]
  },
  {
   "cell_type": "code",
   "execution_count": 25,
   "metadata": {},
   "outputs": [
    {
     "name": "stdout",
     "output_type": "stream",
     "text": [
      "56088\n"
     ]
    }
   ],
   "source": [
    "number = int(input())\n",
    "number_first_three = number // 1000\n",
    "number_second_three = number % 1000\n",
    "result = number_first_three * number_second_three\n",
    "print(result)"
   ]
  },
  {
   "cell_type": "code",
   "execution_count": 26,
   "metadata": {},
   "outputs": [
    {
     "name": "stdout",
     "output_type": "stream",
     "text": [
      "*-----*\n",
      "|   ||   ||   ||   ||   |\n",
      "*-----**-----*\n",
      "|   ||   ||   ||   ||   |\n",
      "*-----**-----*\n",
      "|   ||   ||   ||   ||   |\n",
      "*-----**-----*\n",
      "|   ||   ||   ||   ||   |\n",
      "*-----*\n"
     ]
    }
   ],
   "source": [
    "\n",
    "cell = int(input(\"Введите ширину ячейки: \"))\n",
    "cells = int(input(\"Введите количество ячеек в строках: \"))\n",
    "row = int(input(\"Введите высоту ячейки: \"))\n",
    "rows = int(input(\"Введите количество строк: \"))\n",
    "\n",
    "#  строка-граница\n",
    "border = \"*\" + \"-\" * (cell + 2) + \"*\"\n",
    "\n",
    "#  строки с ячейками\n",
    "row_string = \"|\" + \" \" * cell + \"|\"\n",
    "rows_string = row_string * cells\n",
    "\n",
    "# прямоугольник из строк\n",
    "rectangle = border + \"\\n\" + rows_string + \"\\n\" + border\n",
    "\n",
    "# Повторяем прямоугольник нужное количество раз\n",
    "result = rectangle * rows\n",
    "\n",
    "print(result)"
   ]
  },
  {
   "cell_type": "code",
   "execution_count": 7,
   "metadata": {},
   "outputs": [
    {
     "name": "stdout",
     "output_type": "stream",
     "text": [
      "Сумма денег, получаемая авиакомпанией: 50.0\n"
     ]
    }
   ],
   "source": [
    "\n",
    "n = int(input(\"Введите количество пассажиров: \"))\n",
    "x = int(input(\"Введите цену билета второго класса: \"))\n",
    "\n",
    "# Рассчитываем количество пассажиров второго класса и первого класса\n",
    "passengers_second_class = n * 3 / 4\n",
    "passengers_first_class = n - passengers_second_class\n",
    "\n",
    "# Рассчитываем сумму денег от продажи билетов\n",
    "total_money = passengers_second_class * x + passengers_first_class * (2 * x)\n",
    "\n",
    "print(\"Сумма денег, получаемая авиакомпанией:\", total_money)\n"
   ]
  }
 ],
 "metadata": {
  "kernelspec": {
   "display_name": "Python 3",
   "language": "python",
   "name": "python3"
  },
  "language_info": {
   "codemirror_mode": {
    "name": "ipython",
    "version": 3
   },
   "file_extension": ".py",
   "mimetype": "text/x-python",
   "name": "python",
   "nbconvert_exporter": "python",
   "pygments_lexer": "ipython3",
   "version": "3.10.7"
  }
 },
 "nbformat": 4,
 "nbformat_minor": 2
}
