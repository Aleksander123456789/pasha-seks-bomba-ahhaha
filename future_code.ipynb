{
 "cells": [
  {
   "cell_type": "code",
   "execution_count": 1,
   "metadata": {},
   "outputs": [
    {
     "name": "stdout",
     "output_type": "stream",
     "text": [
      "с-а\n"
     ]
    }
   ],
   "source": [
    "#3.1.1\n",
    "stroka = input()\n",
    "print(stroka[0]+'-'+stroka[-1])"
   ]
  },
  {
   "cell_type": "code",
   "execution_count": 2,
   "metadata": {},
   "outputs": [
    {
     "name": "stdout",
     "output_type": "stream",
     "text": [
      "леть\n"
     ]
    }
   ],
   "source": [
    "#3.1.2\n",
    "stroka = input()\n",
    "print(stroka[3:])\n"
   ]
  },
  {
   "cell_type": "code",
   "execution_count": 3,
   "metadata": {},
   "outputs": [
    {
     "name": "stdout",
     "output_type": "stream",
     "text": [
      "ааеь\n"
     ]
    }
   ],
   "source": [
    "#3.1.3\n",
    "stroka = input()\n",
    "print(stroka[0::2])\n"
   ]
  },
  {
   "cell_type": "code",
   "execution_count": 5,
   "metadata": {},
   "outputs": [
    {
     "name": "stdout",
     "output_type": "stream",
     "text": [
      "l,wrd\n"
     ]
    }
   ],
   "source": [
    "#3.1.4\n",
    "stroka = input()\n",
    "print(stroka[3:14:2])"
   ]
  },
  {
   "cell_type": "code",
   "execution_count": 6,
   "metadata": {},
   "outputs": [
    {
     "name": "stdout",
     "output_type": "stream",
     "text": [
      "ДА\n"
     ]
    }
   ],
   "source": [
    "#3.1.7\n",
    "moscow = input()\n",
    "archangelsk = input()\n",
    "if moscow[-1] == archangelsk[0]:\n",
    "    print('ДА')\n",
    "else:\n",
    "    print('НЕТ')"
   ]
  },
  {
   "cell_type": "code",
   "execution_count": 17,
   "metadata": {},
   "outputs": [
    {
     "name": "stdout",
     "output_type": "stream",
     "text": [
      "hhhhhellooooo\n"
     ]
    }
   ],
   "source": [
    "s = input()\n",
    "n = int(input())\n",
    "\n",
    "if n <= len(s):\n",
    "    result = s[:n]  # Обрезаем строку до длины n\n",
    "else:\n",
    "    diff = n - len(s)\n",
    "    left = diff // 2\n",
    "    right = diff - left\n",
    "    result = s[0]*left + s + s[-1]*right\n",
    "    if len(result) < n and len(s[0]*left) != len(s[-1]*right):\n",
    "        result += '.'*(n - len(result))  # Добавляем точки до достижения длины n\n",
    "\n",
    "print(result)\n",
    "\n"
   ]
  },
  {
   "cell_type": "code",
   "execution_count": 18,
   "metadata": {},
   "outputs": [
    {
     "name": "stdout",
     "output_type": "stream",
     "text": [
      "x: 1, y: 1.\n"
     ]
    }
   ],
   "source": [
    "s = input()\n",
    "name1 = s.count('x')\n",
    "name2 = s.count('y')\n",
    "print(f'x: {name1}, y: {name2}.')"
   ]
  },
  {
   "cell_type": "code",
   "execution_count": 20,
   "metadata": {},
   "outputs": [
    {
     "name": "stdout",
     "output_type": "stream",
     "text": [
      "Еж под елкой\n"
     ]
    }
   ],
   "source": [
    "s = input(\"Введите строку: \")\n",
    "result = s.replace('Ё', 'Е')\n",
    "result = result.replace('ё', 'е')\n",
    "print(result)\n"
   ]
  }
 ],
 "metadata": {
  "kernelspec": {
   "display_name": "Python 3",
   "language": "python",
   "name": "python3"
  },
  "language_info": {
   "codemirror_mode": {
    "name": "ipython",
    "version": 3
   },
   "file_extension": ".py",
   "mimetype": "text/x-python",
   "name": "python",
   "nbconvert_exporter": "python",
   "pygments_lexer": "ipython3",
   "version": "3.10.7"
  }
 },
 "nbformat": 4,
 "nbformat_minor": 2
}
