{
 "cells": [
  {
   "cell_type": "code",
   "execution_count": 7,
   "metadata": {},
   "outputs": [
    {
     "name": "stdout",
     "output_type": "stream",
     "text": [
      "194\n"
     ]
    }
   ],
   "source": [
    "count = 0\n",
    "for x in range(6):\n",
    "    for y in range(105):\n",
    "        if y < 100 and y >= 3 and x > 2 and x < 5:\n",
    "            count += 1            \n",
    "print(count)"
   ]
  },
  {
   "cell_type": "code",
   "execution_count": 8,
   "metadata": {},
   "outputs": [
    {
     "data": {
      "text/plain": [
       "29.714285714285715"
      ]
     },
     "execution_count": 8,
     "metadata": {},
     "output_type": "execute_result"
    }
   ],
   "source": [
    "(13*128/7)/8"
   ]
  },
  {
   "cell_type": "code",
   "execution_count": 1,
   "metadata": {},
   "outputs": [
    {
     "name": "stdout",
     "output_type": "stream",
     "text": [
      "Введите отрицательное число!\n",
      "Произведение всех введенных отрицательных чисел: -20\n"
     ]
    }
   ],
   "source": [
    "product = 1\n",
    "while True:\n",
    "    num = int(input(\"Введите число: \"))\n",
    "    if num == 0:\n",
    "        break\n",
    "    elif num > 0:\n",
    "        print(\"Введите отрицательное число!\")\n",
    "    else:\n",
    "        product *= num\n",
    "\n",
    "print(\"Произведение всех введенных отрицательных чисел:\", product)\n"
   ]
  },
  {
   "cell_type": "code",
   "execution_count": null,
   "metadata": {},
   "outputs": [],
   "source": [
    "product = 1\n",
    "count = 0\n",
    "while True:\n",
    "    num = int(input(\"Введите число: \"))\n",
    "    count += 1\n",
    "    if count == 5:\n",
    "        break\n",
    "    elif num < 0:\n",
    "        print(\"Введите положительное число!\")\n",
    "    else:\n",
    "        product *= num\n",
    "\n",
    "print(\"Произведение всех введенных отрицательных чисел:\", product)"
   ]
  },
  {
   "cell_type": "code",
   "execution_count": null,
   "metadata": {},
   "outputs": [],
   "source": [
    "count = 0\n",
    "total_sum = 0\n",
    "\n",
    "while count < 5:\n",
    "    num = int(input(\"Введите число: \"))\n",
    "    if num <= 0:\n",
    "        print(\"Введите положительное число!\")\n",
    "    else:\n",
    "        total_sum += num\n",
    "        count += 1\n",
    "\n",
    "print(\"Сумма введенных чисел:\", total_sum)"
   ]
  },
  {
   "cell_type": "code",
   "execution_count": null,
   "metadata": {},
   "outputs": [],
   "source": [
    "num = int(input(\"Введите число: \"))\n",
    "min_num = num\n",
    "max_num = num\n",
    "sum_num = num\n",
    "count = 1\n",
    "\n",
    "while num != 0:\n",
    "    if num < min_num:\n",
    "        min_num = num\n",
    "    if num > max_num:\n",
    "        max_num = num\n",
    "    sum_num += num\n",
    "    count += 1\n",
    "    num = int(input(\"Введите число: \"))\n",
    "\n",
    "if count == 1:\n",
    "    print(\"Вы не ввели ни одного числа.\")\n",
    "else:\n",
    "    print(\"Количество чисел:\", count - 1)\n",
    "    print(\"Минимальное число:\", min_num)\n",
    "    print(\"Максимальное число:\", max_num)\n",
    "    print(\"Сумма чисел:\", sum_num)\n",
    "    print(\"Среднее число:\", sum_num / (count - 1))"
   ]
  },
  {
   "cell_type": "code",
   "execution_count": null,
   "metadata": {},
   "outputs": [],
   "source": [
    "count = 0\n",
    "product = 1\n",
    "\n",
    "while count < 6:\n",
    "    num = int(input(\"Введите число: \"))\n",
    "    if num % 2 == 0:\n",
    "        product *= num\n",
    "        count += 1\n",
    "    else:\n",
    "        print(\"Введите четное число!\")\n",
    "\n",
    "print(\"Произведение введенных чисел:\", product)"
   ]
  },
  {
   "cell_type": "code",
   "execution_count": null,
   "metadata": {},
   "outputs": [],
   "source": [
    "speed_truck = float(input(\"Введите скорость грузового автомобиля (км/ч): \"))\n",
    "time = float(input(\"Введите количество часов: \"))\n",
    "speed_car = float(input(\"Введите скорость легкового автомобиля (км/ч): \"))\n",
    "\n",
    "distance_truck = speed_truck * time\n",
    "distance_car = speed_car * (time + 1)\n",
    "\n",
    "if distance_car >= distance_truck:\n",
    "    print(\"Легковой автомобиль догонит грузовой через\", time, \"часов\")\n",
    "else:\n",
    "    print(\"Легковой автомобиль не догонит грузовой через\", time, \"часов\")"
   ]
  },
  {
   "cell_type": "code",
   "execution_count": null,
   "metadata": {},
   "outputs": [],
   "source": [
    "minutes = float(input(\"Введите количество минут разговоров в месяц: \"))\n",
    "monthly_fee = float(input(\"Введите ежемесячную абонентскую плату: \"))\n",
    "normal_minutes = float(input(\"Введите количество минут включенных в абонентскую плату: \"))\n",
    "\n",
    "if minutes <= normal_minutes:\n",
    "    total_cost = monthly_fee\n",
    "else:\n",
    "    extra_minutes = minutes - normal_minutes\n",
    "    extra_cost = extra_minutes * 1\n",
    "    total_cost = monthly_fee + extra_cost\n",
    "\n",
    "print(\"Плата за пользование телефоном составляет:\", total_cost, \"рублей\")"
   ]
  },
  {
   "cell_type": "code",
   "execution_count": null,
   "metadata": {},
   "outputs": [],
   "source": [
    "hour = int(input(\"Введите текущее время в часах (от 0 до 23): \"))\n",
    "\n",
    "if hour < 0 or hour > 23:\n",
    "    print(\"Ошибка! Некорректное время\")\n",
    "elif hour < 6:\n",
    "    print(\"Сейчас ночь\")\n",
    "elif hour < 12:\n",
    "    print(\"Сейчас утро\")\n",
    "elif hour < 18:\n",
    "    print(\"Сейчас день\")\n",
    "else:\n",
    "    print(\"Сейчас вечер\")"
   ]
  },
  {
   "cell_type": "code",
   "execution_count": null,
   "metadata": {},
   "outputs": [],
   "source": [
    "a = float(input(\"Введите длину стороны a: \"))\n",
    "b = float(input(\"Введите длину стороны b: \"))\n",
    "c = float(input(\"Введите длину стороны c: \"))\n",
    "\n",
    "# Проверяем, является ли треугольник прямоугольным\n",
    "if a**2 + b**2 == c**2 or a**2 + c**2 == b**2 or b**2 + c**2 == a**2:\n",
    "    print(\"Треугольник является прямоугольным\")\n",
    "else:\n",
    "    print(\"Треугольник не является прямоугольным\")"
   ]
  },
  {
   "cell_type": "code",
   "execution_count": 2,
   "metadata": {},
   "outputs": [
    {
     "name": "stdout",
     "output_type": "stream",
     "text": [
      "Координаты четвертой вершины прямоугольника: 4 -2\n"
     ]
    }
   ],
   "source": [
    "def find_fourth_point(x1, y1, x2, y2, x3, y3):\n",
    "    x4 = x1 + x3 - x2\n",
    "    y4 = y1 + y3 - y2\n",
    "    return x4, y4\n",
    "\n",
    "x1 = int(input('x1'))\n",
    "y1 = int(input('y1'))\n",
    "x2 = int(input('x2'))\n",
    "y2 = int(input('y2'))\n",
    "x3 = int(input('x3'))\n",
    "y3 = int(input('y2'))\n",
    "\n",
    "x4, y4 = find_fourth_point(x1, y1, x2, y2, x3, y3)\n",
    "print(\"Координаты четвертой вершины прямоугольника:\", x4, y4)"
   ]
  },
  {
   "cell_type": "code",
   "execution_count": 3,
   "metadata": {},
   "outputs": [
    {
     "name": "stdout",
     "output_type": "stream",
     "text": [
      "The coordinates of the fourth vertex are: (-2.0, -2.0)\n"
     ]
    }
   ],
   "source": [
    "x1, y1 = map(int, input(\"Enter the coordinates of the first vertex (x1 y1): \").split())\n",
    "x2, y2 = map(int, input(\"Enter the coordinates of the second vertex (x2 y2): \").split())\n",
    "x3, y3 = map(int, input(\"Enter the coordinates of the third vertex (x3 y3): \").split())\n",
    " \n",
    "# Calculate the center of the rectangle\n",
    "center_x = (x1 + x2 + x3) / 3\n",
    "center_y = (y1 + y2 + y3) / 3\n",
    " \n",
    "# Calculate the coordinates of the fourth vertex\n",
    "x4 = 2 * center_x - x1 - x2 - x3\n",
    "y4 = 2 * center_y - y1 - y2 - y3\n",
    " \n",
    "# Output the coordinates of the fourth vertex\n",
    "print(f\"The coordinates of the fourth vertex are: ({x4}, {y4})\")"
   ]
  },
  {
   "cell_type": "code",
   "execution_count": 21,
   "metadata": {},
   "outputs": [
    {
     "name": "stdout",
     "output_type": "stream",
     "text": [
      "найдено\n"
     ]
    }
   ],
   "source": [
    "s = \"I Do Love Python! Python is Cool!!!\"\n",
    "search_str = input(\"Введите строку для поиска: \")\n",
    "\n",
    "result = \"не найдено\"\n",
    "\n",
    "if search_str in s:\n",
    "    result = \"найдено\"\n",
    "\n",
    "print(result)"
   ]
  },
  {
   "cell_type": "code",
   "execution_count": 38,
   "metadata": {},
   "outputs": [
    {
     "name": "stdout",
     "output_type": "stream",
     "text": [
      "не делиться\n"
     ]
    }
   ],
   "source": [
    "a = int(input())\n",
    "b = int(input())\n",
    "result = 'не делиться'\n",
    "if a % b == 0:\n",
    "    result = 'делиться'\n",
    "print(result)"
   ]
  },
  {
   "cell_type": "code",
   "execution_count": null,
   "metadata": {},
   "outputs": [],
   "source": []
  },
  {
   "cell_type": "code",
   "execution_count": 23,
   "metadata": {},
   "outputs": [
    {
     "name": "stdout",
     "output_type": "stream",
     "text": [
      "Первое чётное\n"
     ]
    }
   ],
   "source": [
    "a = int(input())\n",
    "b = int(input())\n",
    "if a % 2 == 0 and b % 2 == 0:\n",
    "    print('Оба чётные')\n",
    "if a % 2 == 0 and b % 2 != 0:\n",
    "    print('Первое чётное')\n",
    "if a % 2 != 0 and b % 2 == 0:\n",
    "    print('Второе чётное')\n",
    "if a % 2 != 0 and b % 2 != 0:\n",
    "    print('Оба нечётные')"
   ]
  },
  {
   "cell_type": "code",
   "execution_count": 24,
   "metadata": {},
   "outputs": [
    {
     "name": "stdout",
     "output_type": "stream",
     "text": [
      "Не делится на 2, 3, 5, 7\n"
     ]
    }
   ],
   "source": [
    "a = int(input(\"Введите число: \"))\n",
    "\n",
    "if a % 2 == 0: print(\"Делится на 2\")\n",
    "if a % 3 == 0: print(\"Делится на 3\")\n",
    "if a % 5 == 0: print(\"Делится на 5\")\n",
    "if a % 7 == 0: print(\"Делится на 7\")\n",
    "\n",
    "if a % 2 != 0 and a % 3 != 0 and a % 5 != 0 and a % 7 != 0: \n",
    "    print(\"Не делится на 2, 3, 5, 7\")"
   ]
  },
  {
   "cell_type": "code",
   "execution_count": 1,
   "metadata": {},
   "outputs": [],
   "source": [
    "import math"
   ]
  },
  {
   "cell_type": "code",
   "execution_count": 29,
   "metadata": {},
   "outputs": [
    {
     "name": "stdout",
     "output_type": "stream",
     "text": [
      "цифра\n"
     ]
    }
   ],
   "source": [
    "number = input(\"Введите цифру: \")\n",
    "result = 'не цифра'\n",
    "if number == 1 or number == 2 or number == 3 or number == 4 or number == 5 or number == 6 or number == 7 or number == 8 or number == 9:\n",
    "    print(\"цифра\")\n",
    "if not(number.isdigit() or len(number) == 1):\n",
    "    print(\"не цифра\")\n",
    "1\n"
   ]
  },
  {
   "cell_type": "code",
   "execution_count": null,
   "metadata": {},
   "outputs": [],
   "source": []
  },
  {
   "cell_type": "code",
   "execution_count": null,
   "metadata": {},
   "outputs": [
    {
     "ename": "KeyboardInterrupt",
     "evalue": "Interrupted by user",
     "output_type": "error",
     "traceback": [
      "\u001b[1;31m---------------------------------------------------------------------------\u001b[0m",
      "\u001b[1;31mKeyboardInterrupt\u001b[0m                         Traceback (most recent call last)",
      "\u001b[1;32md:\\Games\\PythonLessons\\31-oct-2023.ipynb Cell 8\u001b[0m line \u001b[0;36m1\n\u001b[1;32m----> <a href='vscode-notebook-cell:/d%3A/Games/PythonLessons/31-oct-2023.ipynb#X23sZmlsZQ%3D%3D?line=0'>1</a>\u001b[0m number \u001b[39m=\u001b[39m \u001b[39mint\u001b[39m(\u001b[39minput\u001b[39;49m(\u001b[39m\"\u001b[39;49m\u001b[39mВведите цифру: \u001b[39;49m\u001b[39m\"\u001b[39;49m))\n\u001b[0;32m      <a href='vscode-notebook-cell:/d%3A/Games/PythonLessons/31-oct-2023.ipynb#X23sZmlsZQ%3D%3D?line=2'>3</a>\u001b[0m result \u001b[39m=\u001b[39m \u001b[39m'\u001b[39m\u001b[39mцифра\u001b[39m\u001b[39m'\u001b[39m\n\u001b[0;32m      <a href='vscode-notebook-cell:/d%3A/Games/PythonLessons/31-oct-2023.ipynb#X23sZmlsZQ%3D%3D?line=3'>4</a>\u001b[0m \u001b[39mif\u001b[39;00m number \u001b[39m>\u001b[39m \u001b[39m9\u001b[39m \u001b[39mor\u001b[39;00m number \u001b[39m<\u001b[39m \u001b[39m0\u001b[39m:\n",
      "File \u001b[1;32m~\\AppData\\Roaming\\Python\\Python310\\site-packages\\ipykernel\\kernelbase.py:1202\u001b[0m, in \u001b[0;36mKernel.raw_input\u001b[1;34m(self, prompt)\u001b[0m\n\u001b[0;32m   1200\u001b[0m     msg \u001b[39m=\u001b[39m \u001b[39m\"\u001b[39m\u001b[39mraw_input was called, but this frontend does not support input requests.\u001b[39m\u001b[39m\"\u001b[39m\n\u001b[0;32m   1201\u001b[0m     \u001b[39mraise\u001b[39;00m StdinNotImplementedError(msg)\n\u001b[1;32m-> 1202\u001b[0m \u001b[39mreturn\u001b[39;00m \u001b[39mself\u001b[39;49m\u001b[39m.\u001b[39;49m_input_request(\n\u001b[0;32m   1203\u001b[0m     \u001b[39mstr\u001b[39;49m(prompt),\n\u001b[0;32m   1204\u001b[0m     \u001b[39mself\u001b[39;49m\u001b[39m.\u001b[39;49m_parent_ident[\u001b[39m\"\u001b[39;49m\u001b[39mshell\u001b[39;49m\u001b[39m\"\u001b[39;49m],\n\u001b[0;32m   1205\u001b[0m     \u001b[39mself\u001b[39;49m\u001b[39m.\u001b[39;49mget_parent(\u001b[39m\"\u001b[39;49m\u001b[39mshell\u001b[39;49m\u001b[39m\"\u001b[39;49m),\n\u001b[0;32m   1206\u001b[0m     password\u001b[39m=\u001b[39;49m\u001b[39mFalse\u001b[39;49;00m,\n\u001b[0;32m   1207\u001b[0m )\n",
      "File \u001b[1;32m~\\AppData\\Roaming\\Python\\Python310\\site-packages\\ipykernel\\kernelbase.py:1245\u001b[0m, in \u001b[0;36mKernel._input_request\u001b[1;34m(self, prompt, ident, parent, password)\u001b[0m\n\u001b[0;32m   1242\u001b[0m \u001b[39mexcept\u001b[39;00m \u001b[39mKeyboardInterrupt\u001b[39;00m:\n\u001b[0;32m   1243\u001b[0m     \u001b[39m# re-raise KeyboardInterrupt, to truncate traceback\u001b[39;00m\n\u001b[0;32m   1244\u001b[0m     msg \u001b[39m=\u001b[39m \u001b[39m\"\u001b[39m\u001b[39mInterrupted by user\u001b[39m\u001b[39m\"\u001b[39m\n\u001b[1;32m-> 1245\u001b[0m     \u001b[39mraise\u001b[39;00m \u001b[39mKeyboardInterrupt\u001b[39;00m(msg) \u001b[39mfrom\u001b[39;00m \u001b[39mNone\u001b[39;00m\n\u001b[0;32m   1246\u001b[0m \u001b[39mexcept\u001b[39;00m \u001b[39mException\u001b[39;00m:\n\u001b[0;32m   1247\u001b[0m     \u001b[39mself\u001b[39m\u001b[39m.\u001b[39mlog\u001b[39m.\u001b[39mwarning(\u001b[39m\"\u001b[39m\u001b[39mInvalid Message:\u001b[39m\u001b[39m\"\u001b[39m, exc_info\u001b[39m=\u001b[39m\u001b[39mTrue\u001b[39;00m)\n",
      "\u001b[1;31mKeyboardInterrupt\u001b[0m: Interrupted by user"
     ]
    }
   ],
   "source": [
    "number = int(input(\"Введите цифру: \"))\n",
    "\n",
    "result = 'цифра'\n",
    "if number > 9 or number < 0:\n",
    "    result = 'не цифра'\n",
    "print(result)"
   ]
  },
  {
   "cell_type": "code",
   "execution_count": 3,
   "metadata": {},
   "outputs": [
    {
     "data": {
      "text/plain": [
       "-6.405331196646276"
      ]
     },
     "execution_count": 3,
     "metadata": {},
     "output_type": "execute_result"
    }
   ],
   "source": [
    "math.tan(30)\n"
   ]
  },
  {
   "cell_type": "code",
   "execution_count": 8,
   "metadata": {},
   "outputs": [
    {
     "data": {
      "text/plain": [
       "0.5773502691896257"
      ]
     },
     "execution_count": 8,
     "metadata": {},
     "output_type": "execute_result"
    }
   ],
   "source": [
    "math.tan(math.pi/6)\n",
    "\n",
    "\n",
    "\n"
   ]
  },
  {
   "cell_type": "code",
   "execution_count": 15,
   "metadata": {},
   "outputs": [
    {
     "name": "stdout",
     "output_type": "stream",
     "text": [
      "38\n"
     ]
    }
   ],
   "source": [
    "count = 0\n",
    "for x in range(10):\n",
    "    for y in range(10):\n",
    "        if x > 0 and y < -math.tan(math.pi/6)* x  + 10 and y > math.tan(math.pi/6) * x:\n",
    "            count += 1\n",
    "print(count)"
   ]
  },
  {
   "cell_type": "code",
   "execution_count": 31,
   "metadata": {},
   "outputs": [
    {
     "name": "stdout",
     "output_type": "stream",
     "text": [
      "'а','б','в','г','д','е','ж','з','и','й','к','л','м','н','о','п','р','с','т','у','ф','х','ц','ч','ш','щ','ъ','ы','ь','э','ю','я',"
     ]
    }
   ],
   "source": [
    "for c in range(ord('а'),ord('я')+1):\n",
    "    print(\"'\",chr(c),\"'\",sep='',end=',')"
   ]
  },
  {
   "cell_type": "code",
   "execution_count": 35,
   "metadata": {},
   "outputs": [],
   "source": [
    "alphabet = ['а','б','в','г','д','е','ё','ж','з','и','й','к','л','м','н','о','п','р','с','т','у','ф','х','ц','ч','ш','щ','ъ','ы','ь','э','ю','я']"
   ]
  },
  {
   "cell_type": "code",
   "execution_count": null,
   "metadata": {},
   "outputs": [],
   "source": [
    "(x = -5) and (x<-5) and (y<0)"
   ]
  },
  {
   "cell_type": "code",
   "execution_count": 45,
   "metadata": {},
   "outputs": [
    {
     "data": {
      "text/plain": [
       "5.0"
      ]
     },
     "execution_count": 45,
     "metadata": {},
     "output_type": "execute_result"
    }
   ],
   "source": [
    "t = (40 *1024 *1024 *8)/(32000 *32 *2)\n",
    "t\n",
    "\n",
    "\n",
    "t2 = (1 * 16000 * 16 *t)/( 1024 *1024 *8)\n",
    "t2"
   ]
  },
  {
   "cell_type": "code",
   "execution_count": 2,
   "metadata": {},
   "outputs": [
    {
     "ename": "NameError",
     "evalue": "name 'alphabet' is not defined",
     "output_type": "error",
     "traceback": [
      "\u001b[1;31m---------------------------------------------------------------------------\u001b[0m",
      "\u001b[1;31mNameError\u001b[0m                                 Traceback (most recent call last)",
      "\u001b[1;32md:\\Games\\PythonLessons\\31-oct-2023.ipynb Cell 8\u001b[0m line \u001b[0;36m1\n\u001b[0;32m     <a href='vscode-notebook-cell:/d%3A/Games/PythonLessons/31-oct-2023.ipynb#X10sZmlsZQ%3D%3D?line=9'>10</a>\u001b[0m \u001b[39mif\u001b[39;00m is_upper:\n\u001b[0;32m     <a href='vscode-notebook-cell:/d%3A/Games/PythonLessons/31-oct-2023.ipynb#X10sZmlsZQ%3D%3D?line=10'>11</a>\u001b[0m     c \u001b[39m=\u001b[39m c\u001b[39m.\u001b[39mlower()\n\u001b[1;32m---> <a href='vscode-notebook-cell:/d%3A/Games/PythonLessons/31-oct-2023.ipynb#X10sZmlsZQ%3D%3D?line=12'>13</a>\u001b[0m i \u001b[39m=\u001b[39m alphabet\u001b[39m.\u001b[39mindex(c)\n\u001b[0;32m     <a href='vscode-notebook-cell:/d%3A/Games/PythonLessons/31-oct-2023.ipynb#X10sZmlsZQ%3D%3D?line=13'>14</a>\u001b[0m c_shifted \u001b[39m=\u001b[39m alphabet[(i\u001b[39m+\u001b[39m\u001b[39m2\u001b[39m)\u001b[39m%\u001b[39m\u001b[39mlen\u001b[39m(alphabet)]\n\u001b[0;32m     <a href='vscode-notebook-cell:/d%3A/Games/PythonLessons/31-oct-2023.ipynb#X10sZmlsZQ%3D%3D?line=15'>16</a>\u001b[0m \u001b[39mif\u001b[39;00m is_upper:\n",
      "\u001b[1;31mNameError\u001b[0m: name 'alphabet' is not defined"
     ]
    }
   ],
   "source": [
    "word = \"Фёдор\"\n",
    "shifted_word = \"\"\n",
    "for c in word:\n",
    "    if c == ' ':\n",
    "        shifted_word += c\n",
    "        continue\n",
    "    \n",
    "    is_upper = c.isupper()\n",
    "    \n",
    "    if is_upper:\n",
    "        c = c.lower()\n",
    "    \n",
    "    i = alphabet.index(c)\n",
    "    c_shifted = alphabet[(i+2)%len(alphabet)]\n",
    "    \n",
    "    if is_upper:\n",
    "        shifted_word += c_shifted.upper()\n",
    "    else:\n",
    "        shifted_word += c_shifted\n",
    "    \n",
    "shifted_word"
   ]
  },
  {
   "cell_type": "code",
   "execution_count": 43,
   "metadata": {},
   "outputs": [
    {
     "data": {
      "text/plain": [
       "1188.0"
      ]
     },
     "execution_count": 43,
     "metadata": {},
     "output_type": "execute_result"
    }
   ],
   "source": [
    "(1023*768*24)/15872"
   ]
  },
  {
   "cell_type": "code",
   "execution_count": 42,
   "metadata": {},
   "outputs": [
    {
     "data": {
      "text/plain": [
       "1"
      ]
     },
     "execution_count": 42,
     "metadata": {},
     "output_type": "execute_result"
    }
   ],
   "source": [
    "int(1/3+1/3+1/3)"
   ]
  },
  {
   "cell_type": "code",
   "execution_count": 39,
   "metadata": {},
   "outputs": [
    {
     "data": {
      "text/plain": [
       "256"
      ]
     },
     "execution_count": 39,
     "metadata": {},
     "output_type": "execute_result"
    }
   ],
   "source": [
    "2**int(i)"
   ]
  },
  {
   "cell_type": "code",
   "execution_count": 6,
   "metadata": {},
   "outputs": [
    {
     "data": {
      "text/plain": [
       "321"
      ]
     },
     "execution_count": 6,
     "metadata": {},
     "output_type": "execute_result"
    }
   ],
   "source": [
    "num = int(input())\n",
    "def reverse_number(num):\n",
    "    if num < 10:\n",
    "        return num\n",
    "    else:\n",
    "        return int(str(num % 10) + str(reverse_number(num // 10))) \n",
    "            \n",
    "reverse_number(num)"
   ]
  }
 ],
 "metadata": {
  "kernelspec": {
   "display_name": "Python 3",
   "language": "python",
   "name": "python3"
  },
  "language_info": {
   "codemirror_mode": {
    "name": "ipython",
    "version": 3
   },
   "file_extension": ".py",
   "mimetype": "text/x-python",
   "name": "python",
   "nbconvert_exporter": "python",
   "pygments_lexer": "ipython3",
   "version": "3.10.7"
  }
 },
 "nbformat": 4,
 "nbformat_minor": 2
}
