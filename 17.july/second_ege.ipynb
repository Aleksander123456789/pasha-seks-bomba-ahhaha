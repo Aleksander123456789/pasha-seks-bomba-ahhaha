{
 "cells": [
  {
   "cell_type": "code",
   "execution_count": 2,
   "metadata": {},
   "outputs": [
    {
     "name": "stdout",
     "output_type": "stream",
     "text": [
      "x y z w\n",
      "0 0 0 1\n",
      "0 0 1 1\n",
      "1 0 1 1\n"
     ]
    }
   ],
   "source": [
    "print(\"x y z w\")\n",
    "for x in range(2):\n",
    "    for y in range(2):\n",
    "        for z in range(2):\n",
    "            for w in range(2):\n",
    "                if not(not(x <= z) or (y == w)or y):\n",
    "                    print(x, y, z, w)"
   ]
  },
  {
   "cell_type": "code",
   "execution_count": 1,
   "metadata": {},
   "outputs": [
    {
     "name": "stdout",
     "output_type": "stream",
     "text": [
      "215766\n"
     ]
    }
   ],
   "source": [
    "from ipaddress import *\n",
    "c = 0\n",
    "n = ip_network(f'112.160.0.0/255.240.0.0', 0)\n",
    "for i in n:\n",
    "    ip = f'{i:b}'\n",
    "    if ip.count('1') % 5 == 0:\n",
    "        c += 1\n",
    "print(c)"
   ]
  },
  {
   "cell_type": "code",
   "execution_count": 1,
   "metadata": {},
   "outputs": [
    {
     "name": "stdout",
     "output_type": "stream",
     "text": [
      "x w z y\n"
     ]
    }
   ],
   "source": [
    "from itertools import *\n",
    "def f(x, y, z, w):\n",
    "    return (not(x) and y and z and not(w)) or (not(x) and y and not(z) and not(w)) or (x and y and z and not(w))\n",
    "\n",
    "for a1, a2, a3, a4, a5, a6, a7 in product([0, 1], repeat=7):\n",
    "     t = [(1, a1, a2, a3), (0, a4, 1, a5), (a6, 0, 0, a7)]\n",
    "     if len(t) == len(set(t)):\n",
    "         for i in permutations('xyzw'):\n",
    "             if [f(**dict(zip(i, r))) for r in t] == [1, 1, 1]:\n",
    "                 print(*i)"
   ]
  },
  {
   "cell_type": "code",
   "execution_count": 1,
   "metadata": {},
   "outputs": [
    {
     "ename": "",
     "evalue": "",
     "output_type": "error",
     "traceback": [
      "\u001b[1;31mThe Kernel crashed while executing code in the current cell or a previous cell. \n",
      "\u001b[1;31mPlease review the code in the cell(s) to identify a possible cause of the failure. \n",
      "\u001b[1;31mClick <a href='https://aka.ms/vscodeJupyterKernelCrash'>here</a> for more info. \n",
      "\u001b[1;31mView Jupyter <a href='command:jupyter.viewOutput'>log</a> for further details."
     ]
    }
   ],
   "source": [
    "from turtle import *\n",
    "tracer(0)\n",
    "left(90)\n",
    "r = 10\n",
    "\n",
    "\n",
    "for i in range(10):\n",
    "    forward(22 * r)\n",
    "    right(90)\n",
    "    forward(16*r)\n",
    "    right(90)\n",
    "up()\n",
    "forward(1*r)\n",
    "right(90)\n",
    "forward(1*r)\n",
    "left(90)\n",
    "down()\n",
    "for i in range(10):\n",
    "    forward(72*r)\n",
    "    right(90)\n",
    "    forward(79*r)\n",
    "    right(90)\n",
    "\n",
    "up()\n",
    "for x in range(-20, 20):\n",
    "    for y in range(-20, 20):\n",
    "        goto(x*r, y*r)\n",
    "        dot(5, 'green')\n",
    "update()        \n",
    "\n",
    "\n",
    "\n",
    "\n",
    "\n",
    "    "
   ]
  }
 ],
 "metadata": {
  "kernelspec": {
   "display_name": "Python 3",
   "language": "python",
   "name": "python3"
  },
  "language_info": {
   "codemirror_mode": {
    "name": "ipython",
    "version": 3
   },
   "file_extension": ".py",
   "mimetype": "text/x-python",
   "name": "python",
   "nbconvert_exporter": "python",
   "pygments_lexer": "ipython3",
   "version": "3.10.7"
  }
 },
 "nbformat": 4,
 "nbformat_minor": 2
}
