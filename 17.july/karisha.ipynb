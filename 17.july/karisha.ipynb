{
 "cells": [
  {
   "cell_type": "code",
   "execution_count": 4,
   "metadata": {},
   "outputs": [
    {
     "ename": "Terminator",
     "evalue": "",
     "output_type": "error",
     "traceback": [
      "\u001b[1;31m---------------------------------------------------------------------------\u001b[0m",
      "\u001b[1;31mTerminator\u001b[0m                                Traceback (most recent call last)",
      "Cell \u001b[1;32mIn[4], line 12\u001b[0m\n\u001b[0;32m      1\u001b[0m \u001b[38;5;66;03m#Повтори 2 [Вперёд 11 Направо 90 Вперёд 17 Направо 90]\u001b[39;00m\n\u001b[0;32m      2\u001b[0m \u001b[38;5;66;03m#Поднять хвост\u001b[39;00m\n\u001b[0;32m      3\u001b[0m \u001b[38;5;66;03m#Вперёд 7 Налево 90 Назад 1 Направо 90\u001b[39;00m\n\u001b[0;32m      4\u001b[0m \u001b[38;5;66;03m#Опустить хвост\u001b[39;00m\n\u001b[0;32m      5\u001b[0m \u001b[38;5;66;03m#Повтори 2 [Вперёд 15 Направо 90 Вперёд 7 Направо 90]\u001b[39;00m\n\u001b[0;32m     11\u001b[0m \u001b[38;5;28;01mfrom\u001b[39;00m \u001b[38;5;21;01mturtle\u001b[39;00m \u001b[38;5;28;01mimport\u001b[39;00m \u001b[38;5;241m*\u001b[39m\n\u001b[1;32m---> 12\u001b[0m \u001b[43mtracer\u001b[49m\u001b[43m(\u001b[49m\u001b[38;5;241;43m0\u001b[39;49m\u001b[43m)\u001b[49m\n\u001b[0;32m     13\u001b[0m screensize(\u001b[38;5;241m10000\u001b[39m, \u001b[38;5;241m10000\u001b[39m)\n\u001b[0;32m     14\u001b[0m left(\u001b[38;5;241m90\u001b[39m)\n",
      "File \u001b[1;32m<string>:5\u001b[0m, in \u001b[0;36mtracer\u001b[1;34m(n, delay)\u001b[0m\n",
      "\u001b[1;31mTerminator\u001b[0m: "
     ]
    }
   ],
   "source": [
    "#Повтори 2 [Вперёд 11 Направо 90 Вперёд 17 Направо 90]\n",
    "#Поднять хвост\n",
    "#Вперёд 7 Налево 90 Назад 1 Направо 90\n",
    "#Опустить хвост\n",
    "#Повтори 2 [Вперёд 15 Направо 90 Вперёд 7 Направо 90]\n",
    "\n",
    "\n",
    "\n",
    "\n",
    "\n",
    "from turtle import *\n",
    "tracer(0)\n",
    "screensize(10000, 10000)\n",
    "left(90)\n",
    "r = 30\n",
    "for i in range(2):\n",
    "    forward(11 * r)\n",
    "    right(90)\n",
    "    forward(17 * r)\n",
    "    right(90)\n",
    "\n",
    "up()\n",
    "forward(7 * r)\n",
    "left(90)\n",
    "back(r* 1)\n",
    "right(90)\n",
    "down()\n",
    "for i in range(2):\n",
    "    forward(15 * r)\n",
    "    right(90)\n",
    "    forward(7 * r)\n",
    "    right(90)\n",
    "up()\n",
    "\n",
    "\n",
    "for x in range(20, -30):\n",
    "    for y in range(20, -30):\n",
    "        goto(x * r, y * r)\n",
    "        dot(5, 'red')\n",
    "\n",
    "update()\n",
    "exitonclick()\n",
    "\n"
   ]
  },
  {
   "cell_type": "code",
   "execution_count": 4,
   "metadata": {},
   "outputs": [
    {
     "name": "stdout",
     "output_type": "stream",
     "text": [
      "x y z w\n",
      "0 0 0 1\n",
      "0 1 0 0\n",
      "0 1 0 1\n"
     ]
    }
   ],
   "source": [
    "print(\"x y z w\")\n",
    "for x in range(0, 2):\n",
    "    for y in range(0, 2):\n",
    "        for z in range(0, 2):\n",
    "            for w in range(0, 2):\n",
    "                if not((z == -x) <= ((w <= -y) and (y <= x))):\n",
    "                    print(x, y, z, w)"
   ]
  },
  {
   "cell_type": "code",
   "execution_count": 5,
   "metadata": {},
   "outputs": [
    {
     "name": "stdout",
     "output_type": "stream",
     "text": [
      "x y z w\n",
      "0 0 0 0\n",
      "0 0 1 0\n",
      "0 0 1 1\n",
      "0 1 1 0\n",
      "0 1 1 1\n",
      "1 0 0 0\n",
      "1 0 0 1\n",
      "1 0 1 0\n",
      "1 0 1 1\n",
      "1 1 0 0\n",
      "1 1 0 1\n",
      "1 1 1 0\n",
      "1 1 1 1\n"
     ]
    }
   ],
   "source": [
    "print(\"x y z w\")\n",
    "for x in range(0, 2):\n",
    "    for y in range(0, 2):\n",
    "        for z in range(0, 2):\n",
    "            for w in range(0, 2):\n",
    "                if (z == -x) <= ((w <= -y) and (y <= x)):\n",
    "                    print(x, y, z, w)"
   ]
  },
  {
   "cell_type": "code",
   "execution_count": 6,
   "metadata": {},
   "outputs": [
    {
     "name": "stdout",
     "output_type": "stream",
     "text": [
      "y z x w\n"
     ]
    }
   ],
   "source": [
    "#2\n",
    "from itertools import *\n",
    "def f(x,y,z,w):\n",
    "    return ((z == x) <= w) and (w <= (y and x))\n",
    "\n",
    "for a1, a2, a3 in product([0,1], repeat=3):\n",
    "    t = [(1,1,a1,0),(1,a2,a3,0),(1,0,1,1)]\n",
    "    for i in permutations('xyzw'):\n",
    "        if len(t) == len(set(t)):\n",
    "            if [f(**dict(zip(i, r))) for r in t] == [1, 1, 1]:\n",
    "                print(*i)"
   ]
  },
  {
   "cell_type": "code",
   "execution_count": 15,
   "metadata": {},
   "outputs": [
    {
     "name": "stdout",
     "output_type": "stream",
     "text": [
      "y z x w\n"
     ]
    }
   ],
   "source": [
    "from itertools import *\n",
    "def f(x, z, w, y):\n",
    "    return ((z == (not(x))) <= ((w <= (not(y))) and (y <= x)))\n",
    "\n",
    "\n",
    "for a1, a2, a3, a4, a5 in product([0, 1], repeat=5):\n",
    "    t = [(1, 1, 1, 0), (a1, a2, 0, 0), (a3, 0, a4, a5)]\n",
    "    for i in permutations('xzwy'):\n",
    "        if len(t) == len(set(t)):\n",
    "            if [f(**dict(zip(i, r))) for r in t] == [1, 0, 0]:\n",
    "                print(*i)"
   ]
  },
  {
   "cell_type": "code",
   "execution_count": 1,
   "metadata": {},
   "outputs": [
    {
     "name": "stdout",
     "output_type": "stream",
     "text": [
      "y x z w\n"
     ]
    }
   ],
   "source": [
    "#2\n",
    "from itertools import *\n",
    "def f(x,y,z,w):\n",
    "    return (x == ( w or y)) or ((w <= z ) and (y <= w))\n",
    "\n",
    "for a1, a2, a3, a4, a5, a6, a7 in product([0,1], repeat=7):\n",
    "    t = [(1, a1, a2, 1), (a3, a4, a5, 1), (1, a6, 1, a7)]\n",
    "    for i in permutations('xyzw'):\n",
    "        if len(t) == len(set(t)):\n",
    "            if [f(**dict(zip(i, r))) for r in t] == [0, 0, 0]:\n",
    "                print(*i)\n",
    " "
   ]
  },
  {
   "cell_type": "code",
   "execution_count": 11,
   "metadata": {},
   "outputs": [
    {
     "name": "stdout",
     "output_type": "stream",
     "text": [
      "44\n"
     ]
    }
   ],
   "source": [
    "#16\n",
    "for a in range(100):\n",
    "    total = True\n",
    "    for x in range(100):\n",
    "        if ((x&28 == 0) and (x&45 == 0) or (x&17!=0) or (x&a!=0))== 0:\n",
    "            total = False\n",
    "    if total:\n",
    "        print(a)\n",
    "        break\n",
    "\n"
   ]
  },
  {
   "cell_type": "code",
   "execution_count": 26,
   "metadata": {},
   "outputs": [
    {
     "name": "stdout",
     "output_type": "stream",
     "text": [
      "18\n"
     ]
    }
   ],
   "source": [
    "#19\n",
    "res = set([i for i in range(-1000, 1000)])\n",
    "\n",
    "for x in range(-1000, 1000):\n",
    "    if (((x in res) <= (x**2 <= 81)) and ((x**2 <= 36) <= (x in res))) == 0:\n",
    "        res.remove(x)\n",
    "print(len(res) - 1)\n"
   ]
  },
  {
   "cell_type": "code",
   "execution_count": 25,
   "metadata": {},
   "outputs": [
    {
     "name": "stdout",
     "output_type": "stream",
     "text": [
      "1999\n"
     ]
    }
   ],
   "source": [
    "\n",
    "res = set([i for i in range(-1000,1000)])\n",
    "def f(x, res): \n",
    "    return ((x in a) <= (x**2 <= 81)) and ((x**2 <= 36) <= (x in a))\n",
    "res = set([i for i in range(-1000,1000)])\n",
    "\n",
    "for x in range(-1000, 1000):\n",
    "    if not f(x,res):\n",
    "        res.remove(x)\n",
    "print(len(res) - 1)"
   ]
  }
 ],
 "metadata": {
  "kernelspec": {
   "display_name": "Python 3",
   "language": "python",
   "name": "python3"
  },
  "language_info": {
   "codemirror_mode": {
    "name": "ipython",
    "version": 3
   },
   "file_extension": ".py",
   "mimetype": "text/x-python",
   "name": "python",
   "nbconvert_exporter": "python",
   "pygments_lexer": "ipython3",
   "version": "3.10.7"
  }
 },
 "nbformat": 4,
 "nbformat_minor": 2
}
