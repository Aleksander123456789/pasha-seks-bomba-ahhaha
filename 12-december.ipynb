{
 "cells": [
  {
   "cell_type": "code",
   "execution_count": null,
   "metadata": {},
   "outputs": [],
   "source": [
    "#ряды 10 \n",
    "n = int(input('Введите число n:')) \n",
    "p = 1 \n",
    "for m in range(3,2*n+2,2): \n",
    "    p *= 1-(1/m) \n",
    "print(p)"
   ]
  },
  {
   "cell_type": "code",
   "execution_count": 33,
   "metadata": {},
   "outputs": [
    {
     "name": "stdout",
     "output_type": "stream",
     "text": [
      "10462\n"
     ]
    }
   ],
   "source": [
    "int(\"3B1\",base=14)\n",
    "x = [0,1,2,3,4,5,6,7,8,9,'A','B','C','D','E']\n",
    "\n",
    "for i in x:\n",
    "    count = int(f'123{i}5',base=15) + int(f'1{i}233',base=15)\n",
    "    if count %14==0:\n",
    "        result = count  // 14\n",
    "print(result)"
   ]
  },
  {
   "cell_type": "code",
   "execution_count": 24,
   "metadata": {},
   "outputs": [
    {
     "name": "stdout",
     "output_type": "stream",
     "text": [
      "0\n",
      "1\n",
      "2\n",
      "3\n",
      "4\n",
      "5\n",
      "6\n",
      "7\n",
      "8\n",
      "9\n",
      "A\n",
      "B\n",
      "C\n",
      "D\n",
      "E\n"
     ]
    }
   ],
   "source": [
    "x = '0123456789ABCDE'\n",
    "for s in x:\n",
    "    print(s)"
   ]
  },
  {
   "cell_type": "code",
   "execution_count": 34,
   "metadata": {},
   "outputs": [
    {
     "name": "stdout",
     "output_type": "stream",
     "text": [
      "234\n"
     ]
    }
   ],
   "source": [
    "\n",
    "y = '0123456789ABC'\n",
    "for i in y:\n",
    "    number_one = int(f'4C{i}4',base = 15) + int(f'{i}62A',base = 13)\n",
    "    if number_one %121 ==0:\n",
    "        result = number_one //121\n",
    "        print(result)\n"
   ]
  },
  {
   "cell_type": "code",
   "execution_count": 41,
   "metadata": {},
   "outputs": [
    {
     "name": "stdout",
     "output_type": "stream",
     "text": [
      "2715\n",
      "3 4\n"
     ]
    }
   ],
   "source": [
    "mylist = '012345678'\n",
    "for x in mylist:\n",
    "    for y in mylist:\n",
    "        count = int(f'88{x}4{y}',base = 9)+ int(f'7{x}44{y}',base = 11)\n",
    "        if count %61==0:\n",
    "            total = count //61\n",
    "            print(total)\n",
    "            print(x,y)"
   ]
  },
  {
   "cell_type": "code",
   "execution_count": 1,
   "metadata": {},
   "outputs": [],
   "source": [
    "s = '''5\n",
    " 555\n",
    "55555\n",
    " 555\n",
    "  5'''\n",
    "n = int(input())\n",
    "for i in range(n):\n",
    "    print(s)"
   ]
  },
  {
   "cell_type": "code",
   "execution_count": 4,
   "metadata": {},
   "outputs": [
    {
     "name": "stdout",
     "output_type": "stream",
     "text": [
      "18\n"
     ]
    }
   ],
   "source": [
    "n = int(input())\n",
    "count= 0\n",
    "for i in range(0,n+1,3):\n",
    "        count +=i\n",
    "print(count)"
   ]
  },
  {
   "cell_type": "code",
   "execution_count": 6,
   "metadata": {},
   "outputs": [
    {
     "name": "stdout",
     "output_type": "stream",
     "text": [
      "   \"   \n",
      "  \"\"\"  \n",
      " \"\"\"\"\" \n",
      "\"\"\"\"\"\"\"\n"
     ]
    }
   ],
   "source": [
    "n = int(input())\n",
    "s = input()\n",
    "x = 2 *n -1 \n",
    "for i in range(1,n+1):\n",
    "    print(' ' * (n-i)+ s*(2*i-1)+ ' '*(n-i))"
   ]
  },
  {
   "cell_type": "code",
   "execution_count": null,
   "metadata": {},
   "outputs": [],
   "source": [
    "n = input()\n",
    "print((s.count('1')))"
   ]
  },
  {
   "cell_type": "code",
   "execution_count": null,
   "metadata": {},
   "outputs": [],
   "source": [
    "n = int(input())\n",
    "count = 0\n",
    "for i in range(1,2*n,2):\n",
    "    count+=i\n",
    "print(count)"
   ]
  },
  {
   "cell_type": "code",
   "execution_count": 7,
   "metadata": {},
   "outputs": [
    {
     "ename": "TypeError",
     "evalue": "unsupported operand type(s) for //: 'str' and 'int'",
     "output_type": "error",
     "traceback": [
      "\u001b[1;31m---------------------------------------------------------------------------\u001b[0m",
      "\u001b[1;31mTypeError\u001b[0m                                 Traceback (most recent call last)",
      "Cell \u001b[1;32mIn[7], line 5\u001b[0m\n\u001b[0;32m      3\u001b[0m     x \u001b[38;5;241m=\u001b[39m \u001b[38;5;28mint\u001b[39m(\u001b[38;5;28minput\u001b[39m())\n\u001b[0;32m      4\u001b[0m     total \u001b[38;5;241m+\u001b[39m\u001b[38;5;241m=\u001b[39mx\n\u001b[1;32m----> 5\u001b[0m \u001b[38;5;28mprint\u001b[39m(\u001b[43ms\u001b[49m\u001b[38;5;241;43m/\u001b[39;49m\u001b[38;5;241;43m/\u001b[39;49m\u001b[38;5;241;43m7\u001b[39;49m)\n",
      "\u001b[1;31mTypeError\u001b[0m: unsupported operand type(s) for //: 'str' and 'int'"
     ]
    }
   ],
   "source": [
    "total = 0\n",
    "for i in range(7):\n",
    "    x = int(input())\n",
    "    total +=x\n",
    "print(total//7)"
   ]
  },
  {
   "cell_type": "code",
   "execution_count": null,
   "metadata": {},
   "outputs": [],
   "source": [
    "s = \"I Love Python! Python is cool!!!\"\n",
    "for i in range(0,len(s),4):\n",
    "    print(s[i],end = \"\")"
   ]
  },
  {
   "cell_type": "code",
   "execution_count": null,
   "metadata": {},
   "outputs": [],
   "source": [
    "s = \"I Love Python! Python is cool!!!\"\n",
    "for i in range(len(s)-1,-1,-1):\n",
    "    print(s[i],end=\"\")"
   ]
  },
  {
   "cell_type": "code",
   "execution_count": null,
   "metadata": {},
   "outputs": [],
   "source": [
    "s = \"ABCDEFGHIJKLMNOP\"\n",
    "for i in range(len(s),-3,1,-3):\n",
    "    print(s[i],end=\"\")"
   ]
  },
  {
   "cell_type": "code",
   "execution_count": 12,
   "metadata": {},
   "outputs": [
    {
     "name": "stdout",
     "output_type": "stream",
     "text": [
      "6\n",
      "5\n",
      "4\n",
      "3\n",
      "2\n",
      "1\n"
     ]
    }
   ],
   "source": [
    "number = input()\n",
    "for s in range(len(number)-1,-1,-1):\n",
    "    print(number[s])"
   ]
  },
  {
   "cell_type": "code",
   "execution_count": 17,
   "metadata": {},
   "outputs": [
    {
     "name": "stdout",
     "output_type": "stream",
     "text": [
      "5\n"
     ]
    }
   ],
   "source": [
    "count = 0\n",
    "summa = 0\n",
    "\n",
    "while count!= 5:\n",
    "    n = int(input())\n",
    "    if n > 0:\n",
    "        count+=1\n",
    "        summa +=n\n",
    "    else:\n",
    "        print('Введите положительное число!')\n",
    "\n",
    "print(summa)"
   ]
  },
  {
   "cell_type": "code",
   "execution_count": 21,
   "metadata": {},
   "outputs": [
    {
     "name": "stdout",
     "output_type": "stream",
     "text": [
      "-24\n"
     ]
    }
   ],
   "source": [
    "n = int(input())\n",
    "total = 1\n",
    "while n != 0:\n",
    "    if n <0:\n",
    "        total *= n\n",
    "    else:\n",
    "        print('Введите отрицательное число!')\n",
    "    n = int(input())\n",
    "print(total)"
   ]
  },
  {
   "cell_type": "code",
   "execution_count": 24,
   "metadata": {},
   "outputs": [
    {
     "name": "stdout",
     "output_type": "stream",
     "text": [
      "OMKIGEC\n"
     ]
    }
   ],
   "source": [
    "s = \"ABCDEFGHIJKLMNOP\"\n",
    "result = \"\"\n",
    "for i in range(14, 1, -2):\n",
    "    result += s[i]\n",
    "print(result)"
   ]
  },
  {
   "cell_type": "code",
   "execution_count": 28,
   "metadata": {},
   "outputs": [
    {
     "name": "stdout",
     "output_type": "stream",
     "text": [
      "x        y\n",
      "-------------\n",
      " -4.00\t6.00\n",
      " -3.50\t3.25\n",
      " -3.00\t1.00\n",
      " -2.50\t-0.75\n",
      " -2.00\t-2.00\n",
      " -1.50\t-2.75\n",
      " -1.00\t-3.00\n",
      " -0.50\t-2.75\n",
      " 0.00\t-2.00\n",
      " 0.50\t-0.75\n",
      " 1.00\t1.00\n",
      " 1.50\t3.25\n",
      " 2.00\t6.00\n",
      " 2.50\t9.25\n",
      " 3.00\t13.00\n",
      " 3.50\t17.25\n",
      " 4.00\t22.00\n",
      " 4.50\t27.25\n"
     ]
    }
   ],
   "source": [
    "# Функция, вычисляющая значение y для заданного x\n",
    "def calculate_y(x):\n",
    "    return x**2 + 2*x - 2\n",
    "\n",
    "# Вывод заголовка\n",
    "print(\"x        y\")\n",
    "print(\"-\" * 13)\n",
    "\n",
    "# Цикл для вычисления значений и вывода\n",
    "x = -4.0\n",
    "while x <= 4.5:\n",
    "    y = calculate_y(x)\n",
    "    print(f\" {x:.2f}\\t{y:.2f}\")\n",
    "    x += 0.5\n"
   ]
  },
  {
   "cell_type": "code",
   "execution_count": 33,
   "metadata": {},
   "outputs": [
    {
     "name": "stdout",
     "output_type": "stream",
     "text": [
      "x        y\n",
      "-------------\n",
      " -4.00\t6.00\n",
      " -3.50\t3.25\n",
      " -3.00\t1.00\n",
      " -2.50\t-0.75\n",
      " -2.00\t-2.00\n",
      " -1.50\t-2.75\n",
      " -1.00\t-3.00\n",
      " -0.50\t-2.75\n",
      " 0.00\t-2.00\n",
      " 0.50\t-0.75\n",
      " 1.00\t1.00\n",
      " 1.50\t3.25\n",
      " 2.00\t6.00\n",
      " 2.50\t9.25\n",
      " 3.00\t13.00\n",
      " 3.50\t17.25\n",
      " 4.00\t22.00\n",
      " 4.50\t27.25\n"
     ]
    }
   ],
   "source": [
    "# Вывод заголовка\n",
    "print(\"x        y\")\n",
    "print(\"-\" * 13)\n",
    "\n",
    "# Цикл для вычисления значений и вывода\n",
    "x = -4.0\n",
    "while x <= 4.5:\n",
    "    y = x**2 + 2*x - 2\n",
    "    print(f\" {x:.2f}\\t{y:.2f}\")\n",
    "    x += 0.5"
   ]
  },
  {
   "cell_type": "code",
   "execution_count": 36,
   "metadata": {},
   "outputs": [
    {
     "name": "stdout",
     "output_type": "stream",
     "text": [
      "x\ty\n",
      "-----------------\n",
      "-3.50\t3.25\n",
      "-2.50\t-0.75\n",
      "-1.50\t-2.75\n",
      "-0.50\t-2.75\n",
      "0.50\t-0.75\n",
      "1.50\t3.25\n",
      "2.50\t9.25\n",
      "3.50\t17.25\n",
      "4.50\t27.25\n"
     ]
    }
   ],
   "source": [
    "def parabola(x):\n",
    "    return x**2 + 2*x - 2\n",
    "\n",
    "print(\"x\\ty\")\n",
    "print(\"-------------\")\n",
    "for x in range(-4, 5):\n",
    "    x = x + 0.5\n",
    "    y = parabola(x)\n",
    "    print(f\"{x:.2f}\\t{y:.2f}\")"
   ]
  },
  {
   "cell_type": "code",
   "execution_count": 38,
   "metadata": {},
   "outputs": [
    {
     "data": {
      "text/plain": [
       "13"
      ]
     },
     "execution_count": 38,
     "metadata": {},
     "output_type": "execute_result"
    }
   ],
   "source": [
    "s = '-------------'\n",
    "count= 0\n",
    "for i in s:\n",
    "    count+=1\n",
    "count"
   ]
  },
  {
   "cell_type": "code",
   "execution_count": 13,
   "metadata": {},
   "outputs": [
    {
     "name": "stdout",
     "output_type": "stream",
     "text": [
      "3\n"
     ]
    }
   ],
   "source": [
    "s = input()\n",
    "total = 0\n",
    "for i in range(len(s)-2,-1,-2):\n",
    "    total += int(s[i])\n",
    "print(total)"
   ]
  },
  {
   "cell_type": "code",
   "execution_count": null,
   "metadata": {},
   "outputs": [],
   "source": [
    "n = 9\n",
    "while n >0:\n",
    "    print(n)\n",
    "    n -= 2"
   ]
  },
  {
   "cell_type": "code",
   "execution_count": 47,
   "metadata": {},
   "outputs": [
    {
     "data": {
      "text/plain": [
       "['1', '2', '3', '4', '5']"
      ]
     },
     "execution_count": 47,
     "metadata": {},
     "output_type": "execute_result"
    }
   ],
   "source": [
    "list = type([])\n",
    "list_of_characters = list(\"12345\")\n",
    "list_of_characters"
   ]
  },
  {
   "cell_type": "code",
   "execution_count": 45,
   "metadata": {},
   "outputs": [
    {
     "data": {
      "text/plain": [
       "[]"
      ]
     },
     "execution_count": 45,
     "metadata": {},
     "output_type": "execute_result"
    }
   ],
   "source": [
    ")"
   ]
  },
  {
   "cell_type": "code",
   "execution_count": 12,
   "metadata": {},
   "outputs": [
    {
     "data": {
      "text/plain": [
       "'answer = 743'"
      ]
     },
     "execution_count": 12,
     "metadata": {},
     "output_type": "execute_result"
    }
   ],
   "source": [
    "f'answer = {196*3 + 14*11 + 1}'"
   ]
  },
  {
   "cell_type": "code",
   "execution_count": 39,
   "metadata": {},
   "outputs": [
    {
     "data": {
      "text/plain": [
       "10"
      ]
     },
     "execution_count": 39,
     "metadata": {},
     "output_type": "execute_result"
    }
   ],
   "source": [
    "5 + 5"
   ]
  }
 ],
 "metadata": {
  "kernelspec": {
   "display_name": "Python 3",
   "language": "python",
   "name": "python3"
  },
  "language_info": {
   "codemirror_mode": {
    "name": "ipython",
    "version": 3
   },
   "file_extension": ".py",
   "mimetype": "text/x-python",
   "name": "python",
   "nbconvert_exporter": "python",
   "pygments_lexer": "ipython3",
   "version": "3.10.7"
  }
 },
 "nbformat": 4,
 "nbformat_minor": 2
}
